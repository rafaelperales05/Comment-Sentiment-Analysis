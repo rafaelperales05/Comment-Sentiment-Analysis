{
  "nbformat": 4,
  "nbformat_minor": 0,
  "metadata": {
    "colab": {
      "provenance": [],
      "authorship_tag": "ABX9TyOil5FyZ0I3J5DpsBOm/wve"
    },
    "kernelspec": {
      "name": "python3",
      "display_name": "Python 3"
    },
    "language_info": {
      "name": "python"
    }
  },
  "cells": [
    {
      "cell_type": "code",
      "execution_count": 1,
      "metadata": {
        "id": "1pPp4Yo5ahW-",
        "colab": {
          "base_uri": "https://localhost:8080/"
        },
        "outputId": "7a833431-d476-4cd9-82e8-e66f9ff8244e"
      },
      "outputs": [
        {
          "output_type": "stream",
          "name": "stdout",
          "text": [
            "Collecting mlflow\n",
            "  Downloading mlflow-3.2.0-py3-none-any.whl.metadata (29 kB)\n",
            "Collecting boto3\n",
            "  Downloading boto3-1.40.6-py3-none-any.whl.metadata (6.7 kB)\n",
            "Collecting awscli\n",
            "  Downloading awscli-1.42.6-py3-none-any.whl.metadata (11 kB)\n",
            "Collecting optuna\n",
            "  Downloading optuna-4.4.0-py3-none-any.whl.metadata (17 kB)\n",
            "Requirement already satisfied: imbalanced-learn in /usr/local/lib/python3.11/dist-packages (0.13.0)\n",
            "Requirement already satisfied: lightgbm in /usr/local/lib/python3.11/dist-packages (4.6.0)\n",
            "Collecting mlflow-skinny==3.2.0 (from mlflow)\n",
            "  Downloading mlflow_skinny-3.2.0-py3-none-any.whl.metadata (30 kB)\n",
            "Collecting mlflow-tracing==3.2.0 (from mlflow)\n",
            "  Downloading mlflow_tracing-3.2.0-py3-none-any.whl.metadata (19 kB)\n",
            "Requirement already satisfied: Flask<4 in /usr/local/lib/python3.11/dist-packages (from mlflow) (3.1.1)\n",
            "Collecting alembic!=1.10.0,<2 (from mlflow)\n",
            "  Downloading alembic-1.16.4-py3-none-any.whl.metadata (7.3 kB)\n",
            "Collecting docker<8,>=4.0.0 (from mlflow)\n",
            "  Downloading docker-7.1.0-py3-none-any.whl.metadata (3.8 kB)\n",
            "Collecting graphene<4 (from mlflow)\n",
            "  Downloading graphene-3.4.3-py2.py3-none-any.whl.metadata (6.9 kB)\n",
            "Collecting gunicorn<24 (from mlflow)\n",
            "  Downloading gunicorn-23.0.0-py3-none-any.whl.metadata (4.4 kB)\n",
            "Requirement already satisfied: matplotlib<4 in /usr/local/lib/python3.11/dist-packages (from mlflow) (3.10.0)\n",
            "Requirement already satisfied: numpy<3 in /usr/local/lib/python3.11/dist-packages (from mlflow) (2.0.2)\n",
            "Requirement already satisfied: pandas<3 in /usr/local/lib/python3.11/dist-packages (from mlflow) (2.2.2)\n",
            "Requirement already satisfied: pyarrow<22,>=4.0.0 in /usr/local/lib/python3.11/dist-packages (from mlflow) (18.1.0)\n",
            "Requirement already satisfied: scikit-learn<2 in /usr/local/lib/python3.11/dist-packages (from mlflow) (1.6.1)\n",
            "Requirement already satisfied: scipy<2 in /usr/local/lib/python3.11/dist-packages (from mlflow) (1.16.1)\n",
            "Requirement already satisfied: sqlalchemy<3,>=1.4.0 in /usr/local/lib/python3.11/dist-packages (from mlflow) (2.0.42)\n",
            "Requirement already satisfied: cachetools<7,>=5.0.0 in /usr/local/lib/python3.11/dist-packages (from mlflow-skinny==3.2.0->mlflow) (5.5.2)\n",
            "Requirement already satisfied: click<9,>=7.0 in /usr/local/lib/python3.11/dist-packages (from mlflow-skinny==3.2.0->mlflow) (8.2.1)\n",
            "Requirement already satisfied: cloudpickle<4 in /usr/local/lib/python3.11/dist-packages (from mlflow-skinny==3.2.0->mlflow) (3.1.1)\n",
            "Collecting databricks-sdk<1,>=0.20.0 (from mlflow-skinny==3.2.0->mlflow)\n",
            "  Downloading databricks_sdk-0.62.0-py3-none-any.whl.metadata (39 kB)\n",
            "Requirement already satisfied: fastapi<1 in /usr/local/lib/python3.11/dist-packages (from mlflow-skinny==3.2.0->mlflow) (0.116.1)\n",
            "Requirement already satisfied: gitpython<4,>=3.1.9 in /usr/local/lib/python3.11/dist-packages (from mlflow-skinny==3.2.0->mlflow) (3.1.45)\n",
            "Requirement already satisfied: importlib_metadata!=4.7.0,<9,>=3.7.0 in /usr/local/lib/python3.11/dist-packages (from mlflow-skinny==3.2.0->mlflow) (8.7.0)\n",
            "Collecting opentelemetry-api<3,>=1.9.0 (from mlflow-skinny==3.2.0->mlflow)\n",
            "  Downloading opentelemetry_api-1.36.0-py3-none-any.whl.metadata (1.5 kB)\n",
            "Collecting opentelemetry-sdk<3,>=1.9.0 (from mlflow-skinny==3.2.0->mlflow)\n",
            "  Downloading opentelemetry_sdk-1.36.0-py3-none-any.whl.metadata (1.5 kB)\n",
            "Requirement already satisfied: packaging<26 in /usr/local/lib/python3.11/dist-packages (from mlflow-skinny==3.2.0->mlflow) (25.0)\n",
            "Requirement already satisfied: protobuf<7,>=3.12.0 in /usr/local/lib/python3.11/dist-packages (from mlflow-skinny==3.2.0->mlflow) (5.29.5)\n",
            "Requirement already satisfied: pydantic<3,>=1.10.8 in /usr/local/lib/python3.11/dist-packages (from mlflow-skinny==3.2.0->mlflow) (2.11.7)\n",
            "Requirement already satisfied: pyyaml<7,>=5.1 in /usr/local/lib/python3.11/dist-packages (from mlflow-skinny==3.2.0->mlflow) (6.0.2)\n",
            "Requirement already satisfied: requests<3,>=2.17.3 in /usr/local/lib/python3.11/dist-packages (from mlflow-skinny==3.2.0->mlflow) (2.32.3)\n",
            "Requirement already satisfied: sqlparse<1,>=0.4.0 in /usr/local/lib/python3.11/dist-packages (from mlflow-skinny==3.2.0->mlflow) (0.5.3)\n",
            "Requirement already satisfied: typing-extensions<5,>=4.0.0 in /usr/local/lib/python3.11/dist-packages (from mlflow-skinny==3.2.0->mlflow) (4.14.1)\n",
            "Requirement already satisfied: uvicorn<1 in /usr/local/lib/python3.11/dist-packages (from mlflow-skinny==3.2.0->mlflow) (0.35.0)\n",
            "Collecting botocore<1.41.0,>=1.40.6 (from boto3)\n",
            "  Downloading botocore-1.40.6-py3-none-any.whl.metadata (5.7 kB)\n",
            "Collecting jmespath<2.0.0,>=0.7.1 (from boto3)\n",
            "  Downloading jmespath-1.0.1-py3-none-any.whl.metadata (7.6 kB)\n",
            "Collecting s3transfer<0.14.0,>=0.13.0 (from boto3)\n",
            "  Downloading s3transfer-0.13.1-py3-none-any.whl.metadata (1.7 kB)\n",
            "Collecting docutils<=0.19,>=0.18.1 (from awscli)\n",
            "  Downloading docutils-0.19-py3-none-any.whl.metadata (2.7 kB)\n",
            "Collecting colorama<0.4.7,>=0.2.5 (from awscli)\n",
            "  Downloading colorama-0.4.6-py2.py3-none-any.whl.metadata (17 kB)\n",
            "Collecting rsa<4.8,>=3.1.2 (from awscli)\n",
            "  Downloading rsa-4.7.2-py3-none-any.whl.metadata (3.6 kB)\n",
            "Requirement already satisfied: python-dateutil<3.0.0,>=2.1 in /usr/local/lib/python3.11/dist-packages (from botocore<1.41.0,>=1.40.6->boto3) (2.9.0.post0)\n",
            "Requirement already satisfied: urllib3!=2.2.0,<3,>=1.25.4 in /usr/local/lib/python3.11/dist-packages (from botocore<1.41.0,>=1.40.6->boto3) (2.5.0)\n",
            "Collecting colorlog (from optuna)\n",
            "  Downloading colorlog-6.9.0-py3-none-any.whl.metadata (10 kB)\n",
            "Requirement already satisfied: tqdm in /usr/local/lib/python3.11/dist-packages (from optuna) (4.67.1)\n",
            "Requirement already satisfied: sklearn-compat<1,>=0.1 in /usr/local/lib/python3.11/dist-packages (from imbalanced-learn) (0.1.3)\n",
            "Requirement already satisfied: joblib<2,>=1.1.1 in /usr/local/lib/python3.11/dist-packages (from imbalanced-learn) (1.5.1)\n",
            "Requirement already satisfied: threadpoolctl<4,>=2.0.0 in /usr/local/lib/python3.11/dist-packages (from imbalanced-learn) (3.6.0)\n",
            "Requirement already satisfied: Mako in /usr/lib/python3/dist-packages (from alembic!=1.10.0,<2->mlflow) (1.1.3)\n",
            "Requirement already satisfied: blinker>=1.9.0 in /usr/local/lib/python3.11/dist-packages (from Flask<4->mlflow) (1.9.0)\n",
            "Requirement already satisfied: itsdangerous>=2.2.0 in /usr/local/lib/python3.11/dist-packages (from Flask<4->mlflow) (2.2.0)\n",
            "Requirement already satisfied: jinja2>=3.1.2 in /usr/local/lib/python3.11/dist-packages (from Flask<4->mlflow) (3.1.6)\n",
            "Requirement already satisfied: markupsafe>=2.1.1 in /usr/local/lib/python3.11/dist-packages (from Flask<4->mlflow) (3.0.2)\n",
            "Requirement already satisfied: werkzeug>=3.1.0 in /usr/local/lib/python3.11/dist-packages (from Flask<4->mlflow) (3.1.3)\n",
            "Collecting graphql-core<3.3,>=3.1 (from graphene<4->mlflow)\n",
            "  Downloading graphql_core-3.2.6-py3-none-any.whl.metadata (11 kB)\n",
            "Collecting graphql-relay<3.3,>=3.1 (from graphene<4->mlflow)\n",
            "  Downloading graphql_relay-3.2.0-py3-none-any.whl.metadata (12 kB)\n",
            "Requirement already satisfied: contourpy>=1.0.1 in /usr/local/lib/python3.11/dist-packages (from matplotlib<4->mlflow) (1.3.3)\n",
            "Requirement already satisfied: cycler>=0.10 in /usr/local/lib/python3.11/dist-packages (from matplotlib<4->mlflow) (0.12.1)\n",
            "Requirement already satisfied: fonttools>=4.22.0 in /usr/local/lib/python3.11/dist-packages (from matplotlib<4->mlflow) (4.59.0)\n",
            "Requirement already satisfied: kiwisolver>=1.3.1 in /usr/local/lib/python3.11/dist-packages (from matplotlib<4->mlflow) (1.4.8)\n",
            "Requirement already satisfied: pillow>=8 in /usr/local/lib/python3.11/dist-packages (from matplotlib<4->mlflow) (11.3.0)\n",
            "Requirement already satisfied: pyparsing>=2.3.1 in /usr/local/lib/python3.11/dist-packages (from matplotlib<4->mlflow) (3.2.3)\n",
            "Requirement already satisfied: pytz>=2020.1 in /usr/local/lib/python3.11/dist-packages (from pandas<3->mlflow) (2025.2)\n",
            "Requirement already satisfied: tzdata>=2022.7 in /usr/local/lib/python3.11/dist-packages (from pandas<3->mlflow) (2025.2)\n",
            "Requirement already satisfied: pyasn1>=0.1.3 in /usr/local/lib/python3.11/dist-packages (from rsa<4.8,>=3.1.2->awscli) (0.6.1)\n",
            "Requirement already satisfied: greenlet>=1 in /usr/local/lib/python3.11/dist-packages (from sqlalchemy<3,>=1.4.0->mlflow) (3.2.3)\n",
            "Requirement already satisfied: google-auth~=2.0 in /usr/local/lib/python3.11/dist-packages (from databricks-sdk<1,>=0.20.0->mlflow-skinny==3.2.0->mlflow) (2.38.0)\n",
            "Requirement already satisfied: starlette<0.48.0,>=0.40.0 in /usr/local/lib/python3.11/dist-packages (from fastapi<1->mlflow-skinny==3.2.0->mlflow) (0.47.2)\n",
            "Requirement already satisfied: gitdb<5,>=4.0.1 in /usr/local/lib/python3.11/dist-packages (from gitpython<4,>=3.1.9->mlflow-skinny==3.2.0->mlflow) (4.0.12)\n",
            "Requirement already satisfied: zipp>=3.20 in /usr/local/lib/python3.11/dist-packages (from importlib_metadata!=4.7.0,<9,>=3.7.0->mlflow-skinny==3.2.0->mlflow) (3.23.0)\n",
            "Collecting opentelemetry-semantic-conventions==0.57b0 (from opentelemetry-sdk<3,>=1.9.0->mlflow-skinny==3.2.0->mlflow)\n",
            "  Downloading opentelemetry_semantic_conventions-0.57b0-py3-none-any.whl.metadata (2.4 kB)\n",
            "Requirement already satisfied: annotated-types>=0.6.0 in /usr/local/lib/python3.11/dist-packages (from pydantic<3,>=1.10.8->mlflow-skinny==3.2.0->mlflow) (0.7.0)\n",
            "Requirement already satisfied: pydantic-core==2.33.2 in /usr/local/lib/python3.11/dist-packages (from pydantic<3,>=1.10.8->mlflow-skinny==3.2.0->mlflow) (2.33.2)\n",
            "Requirement already satisfied: typing-inspection>=0.4.0 in /usr/local/lib/python3.11/dist-packages (from pydantic<3,>=1.10.8->mlflow-skinny==3.2.0->mlflow) (0.4.1)\n",
            "Requirement already satisfied: six>=1.5 in /usr/local/lib/python3.11/dist-packages (from python-dateutil<3.0.0,>=2.1->botocore<1.41.0,>=1.40.6->boto3) (1.17.0)\n",
            "Requirement already satisfied: charset-normalizer<4,>=2 in /usr/local/lib/python3.11/dist-packages (from requests<3,>=2.17.3->mlflow-skinny==3.2.0->mlflow) (3.4.2)\n",
            "Requirement already satisfied: idna<4,>=2.5 in /usr/local/lib/python3.11/dist-packages (from requests<3,>=2.17.3->mlflow-skinny==3.2.0->mlflow) (3.10)\n",
            "Requirement already satisfied: certifi>=2017.4.17 in /usr/local/lib/python3.11/dist-packages (from requests<3,>=2.17.3->mlflow-skinny==3.2.0->mlflow) (2025.8.3)\n",
            "Requirement already satisfied: h11>=0.8 in /usr/local/lib/python3.11/dist-packages (from uvicorn<1->mlflow-skinny==3.2.0->mlflow) (0.16.0)\n",
            "Requirement already satisfied: smmap<6,>=3.0.1 in /usr/local/lib/python3.11/dist-packages (from gitdb<5,>=4.0.1->gitpython<4,>=3.1.9->mlflow-skinny==3.2.0->mlflow) (5.0.2)\n",
            "Requirement already satisfied: pyasn1-modules>=0.2.1 in /usr/local/lib/python3.11/dist-packages (from google-auth~=2.0->databricks-sdk<1,>=0.20.0->mlflow-skinny==3.2.0->mlflow) (0.4.2)\n",
            "Requirement already satisfied: anyio<5,>=3.6.2 in /usr/local/lib/python3.11/dist-packages (from starlette<0.48.0,>=0.40.0->fastapi<1->mlflow-skinny==3.2.0->mlflow) (4.10.0)\n",
            "Requirement already satisfied: sniffio>=1.1 in /usr/local/lib/python3.11/dist-packages (from anyio<5,>=3.6.2->starlette<0.48.0,>=0.40.0->fastapi<1->mlflow-skinny==3.2.0->mlflow) (1.3.1)\n",
            "Downloading mlflow-3.2.0-py3-none-any.whl (25.8 MB)\n",
            "\u001b[2K   \u001b[90m━━━━━━━━━━━━━━━━━━━━━━━━━━━━━━━━━━━━━━━━\u001b[0m \u001b[32m25.8/25.8 MB\u001b[0m \u001b[31m58.7 MB/s\u001b[0m eta \u001b[36m0:00:00\u001b[0m\n",
            "\u001b[?25hDownloading mlflow_skinny-3.2.0-py3-none-any.whl (2.0 MB)\n",
            "\u001b[2K   \u001b[90m━━━━━━━━━━━━━━━━━━━━━━━━━━━━━━━━━━━━━━━━\u001b[0m \u001b[32m2.0/2.0 MB\u001b[0m \u001b[31m70.5 MB/s\u001b[0m eta \u001b[36m0:00:00\u001b[0m\n",
            "\u001b[?25hDownloading mlflow_tracing-3.2.0-py3-none-any.whl (1.1 MB)\n",
            "\u001b[2K   \u001b[90m━━━━━━━━━━━━━━━━━━━━━━━━━━━━━━━━━━━━━━━━\u001b[0m \u001b[32m1.1/1.1 MB\u001b[0m \u001b[31m61.1 MB/s\u001b[0m eta \u001b[36m0:00:00\u001b[0m\n",
            "\u001b[?25hDownloading boto3-1.40.6-py3-none-any.whl (140 kB)\n",
            "\u001b[2K   \u001b[90m━━━━━━━━━━━━━━━━━━━━━━━━━━━━━━━━━━━━━━━━\u001b[0m \u001b[32m140.1/140.1 kB\u001b[0m \u001b[31m14.1 MB/s\u001b[0m eta \u001b[36m0:00:00\u001b[0m\n",
            "\u001b[?25hDownloading awscli-1.42.6-py3-none-any.whl (4.7 MB)\n",
            "\u001b[2K   \u001b[90m━━━━━━━━━━━━━━━━━━━━━━━━━━━━━━━━━━━━━━━━\u001b[0m \u001b[32m4.7/4.7 MB\u001b[0m \u001b[31m84.0 MB/s\u001b[0m eta \u001b[36m0:00:00\u001b[0m\n",
            "\u001b[?25hDownloading botocore-1.40.6-py3-none-any.whl (14.0 MB)\n",
            "\u001b[2K   \u001b[90m━━━━━━━━━━━━━━━━━━━━━━━━━━━━━━━━━━━━━━━━\u001b[0m \u001b[32m14.0/14.0 MB\u001b[0m \u001b[31m82.5 MB/s\u001b[0m eta \u001b[36m0:00:00\u001b[0m\n",
            "\u001b[?25hDownloading optuna-4.4.0-py3-none-any.whl (395 kB)\n",
            "\u001b[2K   \u001b[90m━━━━━━━━━━━━━━━━━━━━━━━━━━━━━━━━━━━━━━━━\u001b[0m \u001b[32m395.9/395.9 kB\u001b[0m \u001b[31m32.9 MB/s\u001b[0m eta \u001b[36m0:00:00\u001b[0m\n",
            "\u001b[?25hDownloading alembic-1.16.4-py3-none-any.whl (247 kB)\n",
            "\u001b[2K   \u001b[90m━━━━━━━━━━━━━━━━━━━━━━━━━━━━━━━━━━━━━━━━\u001b[0m \u001b[32m247.0/247.0 kB\u001b[0m \u001b[31m21.5 MB/s\u001b[0m eta \u001b[36m0:00:00\u001b[0m\n",
            "\u001b[?25hDownloading colorama-0.4.6-py2.py3-none-any.whl (25 kB)\n",
            "Downloading docker-7.1.0-py3-none-any.whl (147 kB)\n",
            "\u001b[2K   \u001b[90m━━━━━━━━━━━━━━━━━━━━━━━━━━━━━━━━━━━━━━━━\u001b[0m \u001b[32m147.8/147.8 kB\u001b[0m \u001b[31m13.7 MB/s\u001b[0m eta \u001b[36m0:00:00\u001b[0m\n",
            "\u001b[?25hDownloading docutils-0.19-py3-none-any.whl (570 kB)\n",
            "\u001b[2K   \u001b[90m━━━━━━━━━━━━━━━━━━━━━━━━━━━━━━━━━━━━━━━━\u001b[0m \u001b[32m570.5/570.5 kB\u001b[0m \u001b[31m23.5 MB/s\u001b[0m eta \u001b[36m0:00:00\u001b[0m\n",
            "\u001b[?25hDownloading graphene-3.4.3-py2.py3-none-any.whl (114 kB)\n",
            "\u001b[2K   \u001b[90m━━━━━━━━━━━━━━━━━━━━━━━━━━━━━━━━━━━━━━━━\u001b[0m \u001b[32m114.9/114.9 kB\u001b[0m \u001b[31m10.0 MB/s\u001b[0m eta \u001b[36m0:00:00\u001b[0m\n",
            "\u001b[?25hDownloading gunicorn-23.0.0-py3-none-any.whl (85 kB)\n",
            "\u001b[2K   \u001b[90m━━━━━━━━━━━━━━━━━━━━━━━━━━━━━━━━━━━━━━━━\u001b[0m \u001b[32m85.0/85.0 kB\u001b[0m \u001b[31m8.2 MB/s\u001b[0m eta \u001b[36m0:00:00\u001b[0m\n",
            "\u001b[?25hDownloading jmespath-1.0.1-py3-none-any.whl (20 kB)\n",
            "Downloading rsa-4.7.2-py3-none-any.whl (34 kB)\n",
            "Downloading s3transfer-0.13.1-py3-none-any.whl (85 kB)\n",
            "\u001b[2K   \u001b[90m━━━━━━━━━━━━━━━━━━━━━━━━━━━━━━━━━━━━━━━━\u001b[0m \u001b[32m85.3/85.3 kB\u001b[0m \u001b[31m8.9 MB/s\u001b[0m eta \u001b[36m0:00:00\u001b[0m\n",
            "\u001b[?25hDownloading colorlog-6.9.0-py3-none-any.whl (11 kB)\n",
            "Downloading databricks_sdk-0.62.0-py3-none-any.whl (681 kB)\n",
            "\u001b[2K   \u001b[90m━━━━━━━━━━━━━━━━━━━━━━━━━━━━━━━━━━━━━━━━\u001b[0m \u001b[32m681.8/681.8 kB\u001b[0m \u001b[31m41.8 MB/s\u001b[0m eta \u001b[36m0:00:00\u001b[0m\n",
            "\u001b[?25hDownloading graphql_core-3.2.6-py3-none-any.whl (203 kB)\n",
            "\u001b[2K   \u001b[90m━━━━━━━━━━━━━━━━━━━━━━━━━━━━━━━━━━━━━━━━\u001b[0m \u001b[32m203.4/203.4 kB\u001b[0m \u001b[31m19.1 MB/s\u001b[0m eta \u001b[36m0:00:00\u001b[0m\n",
            "\u001b[?25hDownloading graphql_relay-3.2.0-py3-none-any.whl (16 kB)\n",
            "Downloading opentelemetry_api-1.36.0-py3-none-any.whl (65 kB)\n",
            "\u001b[2K   \u001b[90m━━━━━━━━━━━━━━━━━━━━━━━━━━━━━━━━━━━━━━━━\u001b[0m \u001b[32m65.6/65.6 kB\u001b[0m \u001b[31m6.4 MB/s\u001b[0m eta \u001b[36m0:00:00\u001b[0m\n",
            "\u001b[?25hDownloading opentelemetry_sdk-1.36.0-py3-none-any.whl (119 kB)\n",
            "\u001b[2K   \u001b[90m━━━━━━━━━━━━━━━━━━━━━━━━━━━━━━━━━━━━━━━━\u001b[0m \u001b[32m120.0/120.0 kB\u001b[0m \u001b[31m11.2 MB/s\u001b[0m eta \u001b[36m0:00:00\u001b[0m\n",
            "\u001b[?25hDownloading opentelemetry_semantic_conventions-0.57b0-py3-none-any.whl (201 kB)\n",
            "\u001b[2K   \u001b[90m━━━━━━━━━━━━━━━━━━━━━━━━━━━━━━━━━━━━━━━━\u001b[0m \u001b[32m201.6/201.6 kB\u001b[0m \u001b[31m19.0 MB/s\u001b[0m eta \u001b[36m0:00:00\u001b[0m\n",
            "\u001b[?25hInstalling collected packages: rsa, jmespath, gunicorn, graphql-core, docutils, colorlog, colorama, opentelemetry-api, graphql-relay, docker, botocore, alembic, s3transfer, optuna, opentelemetry-semantic-conventions, graphene, databricks-sdk, opentelemetry-sdk, boto3, awscli, mlflow-tracing, mlflow-skinny, mlflow\n",
            "  Attempting uninstall: rsa\n",
            "    Found existing installation: rsa 4.9.1\n",
            "    Uninstalling rsa-4.9.1:\n",
            "      Successfully uninstalled rsa-4.9.1\n",
            "  Attempting uninstall: docutils\n",
            "    Found existing installation: docutils 0.21.2\n",
            "    Uninstalling docutils-0.21.2:\n",
            "      Successfully uninstalled docutils-0.21.2\n",
            "\u001b[31mERROR: pip's dependency resolver does not currently take into account all the packages that are installed. This behaviour is the source of the following dependency conflicts.\n",
            "sphinx 8.2.3 requires docutils<0.22,>=0.20, but you have docutils 0.19 which is incompatible.\u001b[0m\u001b[31m\n",
            "\u001b[0mSuccessfully installed alembic-1.16.4 awscli-1.42.6 boto3-1.40.6 botocore-1.40.6 colorama-0.4.6 colorlog-6.9.0 databricks-sdk-0.62.0 docker-7.1.0 docutils-0.19 graphene-3.4.3 graphql-core-3.2.6 graphql-relay-3.2.0 gunicorn-23.0.0 jmespath-1.0.1 mlflow-3.2.0 mlflow-skinny-3.2.0 mlflow-tracing-3.2.0 opentelemetry-api-1.36.0 opentelemetry-sdk-1.36.0 opentelemetry-semantic-conventions-0.57b0 optuna-4.4.0 rsa-4.7.2 s3transfer-0.13.1\n"
          ]
        }
      ],
      "source": [
        "!pip install mlflow boto3 awscli optuna imbalanced-learn lightgbm"
      ]
    },
    {
      "cell_type": "code",
      "source": [
        "!aws configure"
      ],
      "metadata": {
        "id": "9Ej2iZpfa396"
      },
      "execution_count": null,
      "outputs": []
    },
    {
      "cell_type": "code",
      "source": [
        "import mlflow\n",
        "\n",
        "mlflow.set_tracking_uri(f'{userdata.get('MLFLOW_SERVER')}')"
      ],
      "metadata": {
        "id": "6zNYrgEhbOt4"
      },
      "execution_count": 3,
      "outputs": []
    },
    {
      "cell_type": "code",
      "source": [
        "mlflow.set_experiment(\"Light GBM HP Tuning\")"
      ],
      "metadata": {
        "id": "xuB39U0sbib-"
      },
      "execution_count": null,
      "outputs": []
    },
    {
      "cell_type": "code",
      "source": [
        "import pandas as pd\n",
        "from sklearn.feature_extraction.text import TfidfVectorizer\n",
        "from sklearn.model_selection import train_test_split\n",
        "from sklearn.metrics import accuracy_score, classification_report\n",
        "from imblearn.over_sampling import SMOTE\n",
        "import mlflow\n",
        "import mlflow.sklearn\n",
        "import optuna\n",
        "from lightgbm import LGBMClassifier\n",
        "import matplotlib.pyplot as plt"
      ],
      "metadata": {
        "id": "3pZlbk_mbpto"
      },
      "execution_count": 5,
      "outputs": []
    },
    {
      "cell_type": "code",
      "source": [
        "df = pd.read_csv(\"/content/reddit_preprocessing.csv\")\n",
        "df.dropna(inplace=True)\n",
        "df.shape"
      ],
      "metadata": {
        "colab": {
          "base_uri": "https://localhost:8080/"
        },
        "id": "qw9nW6QRbwD2",
        "outputId": "d986629a-5260-47a5-c6eb-8b97ffbb6e9d"
      },
      "execution_count": 9,
      "outputs": [
        {
          "output_type": "execute_result",
          "data": {
            "text/plain": [
              "(36662, 2)"
            ]
          },
          "metadata": {},
          "execution_count": 9
        }
      ]
    },
    {
      "cell_type": "code",
      "source": [
        "# Step 1: Remap the class labels from [-1, 0, 1] to [2, 0, 1]\n",
        "df['category'] = df['category'].map({-1: 2, 0: 0, 1: 1})\n",
        "\n",
        "# Step 2: Remove rows where the target labels (category) are NaN\n",
        "df = df.dropna(subset=['category'])"
      ],
      "metadata": {
        "id": "4cd_eICbiaX_"
      },
      "execution_count": 10,
      "outputs": []
    },
    {
      "cell_type": "code",
      "source": [
        "ngram_range = (1, 3)  # Trigram\n",
        "max_features = 1000  # Set max_features to 1000\n",
        "vectorizer = TfidfVectorizer(ngram_range=ngram_range, max_features=max_features)\n",
        "X = vectorizer.fit_transform(df['clean_comment'])\n",
        "y = df['category']\n",
        "\n",
        "# Step 4: Apply SMOTE to handle class imbalance\n",
        "smote = SMOTE(random_state=42)\n",
        "X_resampled, y_resampled = smote.fit_resample(X, y)\n",
        "# Step 5: Train-test split\n",
        "X_train, X_test, y_train, y_test = train_test_split(X_resampled, y_resampled, test_size=0.2, random_state=42, stratify=y_resampled)"
      ],
      "metadata": {
        "id": "XfevApFKg2lo"
      },
      "execution_count": 11,
      "outputs": []
    },
    {
      "cell_type": "code",
      "source": [
        "# Function to log results in MLflow\n",
        "def log_mlflow(model_name, model, X_train, X_test, y_train, y_test, params, trial_number):\n",
        "    with mlflow.start_run():\n",
        "        # Log model type and trial number\n",
        "        mlflow.set_tag(\"mlflow.runName\", f\"Trial_{trial_number}_{model_name}_SMOTE_TFIDF_Trigrams\")\n",
        "        mlflow.set_tag(\"experiment_type\", \"algorithm_comparison\")\n",
        "\n",
        "        # Log algorithm name as a parameter\n",
        "        mlflow.log_param(\"algo_name\", model_name)\n",
        "\n",
        "        # Log hyperparameters\n",
        "        for key, value in params.items():\n",
        "            mlflow.log_param(key, value)\n",
        "\n",
        "        # Train model\n",
        "        model.fit(X_train, y_train)\n",
        "        y_pred = model.predict(X_test)\n",
        "\n",
        "        # Log accuracy\n",
        "        accuracy = accuracy_score(y_test, y_pred)\n",
        "        mlflow.log_metric(\"accuracy\", accuracy)\n",
        "\n",
        "        # Log classification report\n",
        "        classification_rep = classification_report(y_test, y_pred, output_dict=True)\n",
        "        for label, metrics in classification_rep.items():\n",
        "            if isinstance(metrics, dict):\n",
        "                for metric, value in metrics.items():\n",
        "                    mlflow.log_metric(f\"{label}_{metric}\", value)\n",
        "\n",
        "        # Log the model\n",
        "        mlflow.sklearn.log_model(model, f\"{model_name}_model\")\n",
        "\n",
        "        return accuracy\n",
        "\n"
      ],
      "metadata": {
        "id": "dgf9pnvhb6hG"
      },
      "execution_count": 7,
      "outputs": []
    },
    {
      "cell_type": "code",
      "source": [
        "# Step 6: Optuna objective function for LightGBM\n",
        "def objective_lightgbm(trial):\n",
        "    # Hyperparameter space to explore\n",
        "    n_estimators = trial.suggest_int('n_estimators', 100, 1000)\n",
        "    learning_rate = trial.suggest_float('learning_rate', 1e-4, 1e-1, log=True)\n",
        "    max_depth = trial.suggest_int('max_depth', 3, 15)\n",
        "    num_leaves = trial.suggest_int('num_leaves', 20, 150)\n",
        "    min_child_samples = trial.suggest_int('min_child_samples', 10, 100)\n",
        "    colsample_bytree = trial.suggest_float('colsample_bytree', 0.5, 1.0)\n",
        "    subsample = trial.suggest_float('subsample', 0.5, 1.0)\n",
        "    reg_alpha = trial.suggest_float('reg_alpha', 1e-4, 10.0, log=True)  # L1 regularization\n",
        "    reg_lambda = trial.suggest_float('reg_lambda', 1e-4, 10.0, log=True)  # L2 regularization\n",
        "\n",
        "    # Log trial parameters\n",
        "    params = {\n",
        "        'n_estimators': n_estimators,\n",
        "        'learning_rate': learning_rate,\n",
        "        'max_depth': max_depth,\n",
        "        'num_leaves': num_leaves,\n",
        "        'min_child_samples': min_child_samples,\n",
        "        'colsample_bytree': colsample_bytree,\n",
        "        'subsample': subsample,\n",
        "        'reg_alpha': reg_alpha,\n",
        "        'reg_lambda': reg_lambda\n",
        "    }\n",
        "\n",
        "    # Create LightGBM model\n",
        "    model = LGBMClassifier(n_estimators=n_estimators,\n",
        "                           learning_rate=learning_rate,\n",
        "                           max_depth=max_depth,\n",
        "                           num_leaves=num_leaves,\n",
        "                           min_child_samples=min_child_samples,\n",
        "                           colsample_bytree=colsample_bytree,\n",
        "                           subsample=subsample,\n",
        "                           reg_alpha=reg_alpha,\n",
        "                           reg_lambda=reg_lambda,\n",
        "                           random_state=42,\n",
        "                           verbose=-1,\n",
        "                        force_row_wise=True  )\n",
        "\n",
        "    # Log each trial as a separate run in MLflow\n",
        "    accuracy = log_mlflow(\"LightGBM\", model, X_train, X_test, y_train, y_test, params, trial.number)\n",
        "\n",
        "    return accuracy"
      ],
      "metadata": {
        "id": "lJhMFoSeildi"
      },
      "execution_count": 8,
      "outputs": []
    },
    {
      "cell_type": "code",
      "source": [
        "# Step 7: Run Optuna for LightGBM, log the best model, and plot the importance of each parameter\n",
        "def run_optuna_experiment():\n",
        "    study = optuna.create_study(direction=\"maximize\")\n",
        "    study.optimize(objective_lightgbm, n_trials=100)  # Increased to 100 trials\n",
        "\n",
        "    # Get the best parameters\n",
        "    best_params = study.best_params\n",
        "    best_model = LGBMClassifier(n_estimators=best_params['n_estimators'],\n",
        "                                learning_rate=best_params['learning_rate'],\n",
        "                                max_depth=best_params['max_depth'],\n",
        "                                num_leaves=best_params['num_leaves'],\n",
        "                                min_child_samples=best_params['min_child_samples'],\n",
        "                                colsample_bytree=best_params['colsample_bytree'],\n",
        "                                subsample=best_params['subsample'],\n",
        "                                reg_alpha=best_params['reg_alpha'],\n",
        "                                reg_lambda=best_params['reg_lambda'],\n",
        "                                random_state=42)\n",
        "\n",
        "    # Log the best model with MLflow and print the classification report\n",
        "    log_mlflow(\"LightGBM\", best_model, X_train, X_test, y_train, y_test, best_params, \"Best\")\n",
        "\n",
        "    # Plot parameter importance\n",
        "    optuna.visualization.plot_param_importances(study).show()\n",
        "\n",
        "    # Plot optimization history\n",
        "    optuna.visualization.plot_optimization_history(study).show()"
      ],
      "metadata": {
        "id": "YZ-AcC4sjKv7"
      },
      "execution_count": 12,
      "outputs": []
    },
    {
      "cell_type": "code",
      "source": [
        "run_optuna_experiment()"
      ],
      "metadata": {
        "id": "HPhz64oHodfm",
        "colab": {
          "base_uri": "https://localhost:8080/",
          "height": 1000
        },
        "outputId": "717e3b04-3176-4dc4-cac3-db735a3787c4"
      },
      "execution_count": 13,
      "outputs": [
        {
          "metadata": {
            "tags": null
          },
          "name": "stderr",
          "output_type": "stream",
          "text": [
            "[I 2025-08-10 15:49:03,488] A new study created in memory with name: no-name-76545768-1cf4-45cf-91e7-bf17c9ca4f09\n",
            "/usr/local/lib/python3.11/dist-packages/sklearn/utils/validation.py:2739: UserWarning: X does not have valid feature names, but LGBMClassifier was fitted with feature names\n",
            "  warnings.warn(\n",
            "2025/08/10 15:50:35 WARNING mlflow.models.model: `artifact_path` is deprecated. Please use `name` instead.\n",
            "\u001b[31m2025/08/10 15:50:46 WARNING mlflow.models.model: Model logged without a signature and input example. Please set `input_example` parameter when logging the model to auto infer the model signature.\u001b[0m\n",
            "[I 2025-08-10 15:50:47,736] Trial 0 finished with value: 0.8191714225322342 and parameters: {'n_estimators': 916, 'learning_rate': 0.05129428805931973, 'max_depth': 11, 'num_leaves': 40, 'min_child_samples': 11, 'colsample_bytree': 0.8934042756399512, 'subsample': 0.8147456916619786, 'reg_alpha': 0.031942907854620825, 'reg_lambda': 8.999450296335478}. Best is trial 0 with value: 0.8191714225322342.\n"
          ]
        },
        {
          "metadata": {
            "tags": null
          },
          "name": "stdout",
          "output_type": "stream",
          "text": [
            "🏃 View run Trial_0_LightGBM_SMOTE_TFIDF_Trigrams at: http://ec2-52-91-229-41.compute-1.amazonaws.com:5000/#/experiments/639329270342233827/runs/bbefa246baec491c81646308202a914e\n",
            "🧪 View experiment at: http://ec2-52-91-229-41.compute-1.amazonaws.com:5000/#/experiments/639329270342233827\n"
          ]
        },
        {
          "metadata": {
            "tags": null
          },
          "name": "stderr",
          "output_type": "stream",
          "text": [
            "/usr/local/lib/python3.11/dist-packages/sklearn/utils/validation.py:2739: UserWarning: X does not have valid feature names, but LGBMClassifier was fitted with feature names\n",
            "  warnings.warn(\n",
            "2025/08/10 15:51:08 WARNING mlflow.models.model: `artifact_path` is deprecated. Please use `name` instead.\n",
            "\u001b[31m2025/08/10 15:51:14 WARNING mlflow.models.model: Model logged without a signature and input example. Please set `input_example` parameter when logging the model to auto infer the model signature.\u001b[0m\n",
            "[I 2025-08-10 15:51:14,758] Trial 1 finished with value: 0.6679348974846755 and parameters: {'n_estimators': 167, 'learning_rate': 0.00022855864330871025, 'max_depth': 10, 'num_leaves': 143, 'min_child_samples': 21, 'colsample_bytree': 0.6885753309981542, 'subsample': 0.9390393584048917, 'reg_alpha': 0.6626329019001337, 'reg_lambda': 0.0023466830781409065}. Best is trial 0 with value: 0.8191714225322342.\n"
          ]
        },
        {
          "metadata": {
            "tags": null
          },
          "name": "stdout",
          "output_type": "stream",
          "text": [
            "🏃 View run Trial_1_LightGBM_SMOTE_TFIDF_Trigrams at: http://ec2-52-91-229-41.compute-1.amazonaws.com:5000/#/experiments/639329270342233827/runs/75dcf2550166403592dff54c42813094\n",
            "🧪 View experiment at: http://ec2-52-91-229-41.compute-1.amazonaws.com:5000/#/experiments/639329270342233827\n"
          ]
        },
        {
          "metadata": {
            "tags": null
          },
          "name": "stderr",
          "output_type": "stream",
          "text": [
            "/usr/local/lib/python3.11/dist-packages/sklearn/utils/validation.py:2739: UserWarning: X does not have valid feature names, but LGBMClassifier was fitted with feature names\n",
            "  warnings.warn(\n",
            "2025/08/10 15:52:00 WARNING mlflow.models.model: `artifact_path` is deprecated. Please use `name` instead.\n",
            "\u001b[31m2025/08/10 15:52:06 WARNING mlflow.models.model: Model logged without a signature and input example. Please set `input_example` parameter when logging the model to auto infer the model signature.\u001b[0m\n",
            "[I 2025-08-10 15:52:07,160] Trial 2 finished with value: 0.6627562883111393 and parameters: {'n_estimators': 537, 'learning_rate': 0.004635262821262116, 'max_depth': 4, 'num_leaves': 24, 'min_child_samples': 85, 'colsample_bytree': 0.5693541018855066, 'subsample': 0.7379589512106857, 'reg_alpha': 0.030590962405267864, 'reg_lambda': 0.01035144108232426}. Best is trial 0 with value: 0.8191714225322342.\n"
          ]
        },
        {
          "metadata": {
            "tags": null
          },
          "name": "stdout",
          "output_type": "stream",
          "text": [
            "🏃 View run Trial_2_LightGBM_SMOTE_TFIDF_Trigrams at: http://ec2-52-91-229-41.compute-1.amazonaws.com:5000/#/experiments/639329270342233827/runs/b99731e10061442786d5729a3063e7bd\n",
            "🧪 View experiment at: http://ec2-52-91-229-41.compute-1.amazonaws.com:5000/#/experiments/639329270342233827\n"
          ]
        },
        {
          "metadata": {
            "tags": null
          },
          "name": "stderr",
          "output_type": "stream",
          "text": [
            "/usr/local/lib/python3.11/dist-packages/sklearn/utils/validation.py:2739: UserWarning: X does not have valid feature names, but LGBMClassifier was fitted with feature names\n",
            "  warnings.warn(\n",
            "2025/08/10 15:53:14 WARNING mlflow.models.model: `artifact_path` is deprecated. Please use `name` instead.\n",
            "\u001b[31m2025/08/10 15:53:20 WARNING mlflow.models.model: Model logged without a signature and input example. Please set `input_example` parameter when logging the model to auto infer the model signature.\u001b[0m\n",
            "[I 2025-08-10 15:53:20,492] Trial 3 finished with value: 0.696153033185373 and parameters: {'n_estimators': 613, 'learning_rate': 0.0007373905627797581, 'max_depth': 15, 'num_leaves': 82, 'min_child_samples': 63, 'colsample_bytree': 0.8045263703423458, 'subsample': 0.9138477488961002, 'reg_alpha': 3.6110849716466866, 'reg_lambda': 0.0045974020079767195}. Best is trial 0 with value: 0.8191714225322342.\n"
          ]
        },
        {
          "metadata": {
            "tags": null
          },
          "name": "stdout",
          "output_type": "stream",
          "text": [
            "🏃 View run Trial_3_LightGBM_SMOTE_TFIDF_Trigrams at: http://ec2-52-91-229-41.compute-1.amazonaws.com:5000/#/experiments/639329270342233827/runs/f111c344a24a47059d94a67d69d80883\n",
            "🧪 View experiment at: http://ec2-52-91-229-41.compute-1.amazonaws.com:5000/#/experiments/639329270342233827\n"
          ]
        },
        {
          "metadata": {
            "tags": null
          },
          "name": "stderr",
          "output_type": "stream",
          "text": [
            "/usr/local/lib/python3.11/dist-packages/sklearn/utils/validation.py:2739: UserWarning: X does not have valid feature names, but LGBMClassifier was fitted with feature names\n",
            "  warnings.warn(\n",
            "2025/08/10 15:54:19 WARNING mlflow.models.model: `artifact_path` is deprecated. Please use `name` instead.\n",
            "\u001b[31m2025/08/10 15:54:25 WARNING mlflow.models.model: Model logged without a signature and input example. Please set `input_example` parameter when logging the model to auto infer the model signature.\u001b[0m\n",
            "[I 2025-08-10 15:54:26,164] Trial 4 finished with value: 0.7170788416825196 and parameters: {'n_estimators': 435, 'learning_rate': 0.0001460712772777027, 'max_depth': 14, 'num_leaves': 136, 'min_child_samples': 91, 'colsample_bytree': 0.522601890452004, 'subsample': 0.5491938459117234, 'reg_alpha': 1.3378912820859132, 'reg_lambda': 0.055637545184687054}. Best is trial 0 with value: 0.8191714225322342.\n"
          ]
        },
        {
          "metadata": {
            "tags": null
          },
          "name": "stdout",
          "output_type": "stream",
          "text": [
            "🏃 View run Trial_4_LightGBM_SMOTE_TFIDF_Trigrams at: http://ec2-52-91-229-41.compute-1.amazonaws.com:5000/#/experiments/639329270342233827/runs/c4559bd42dda45228580010e1c032a88\n",
            "🧪 View experiment at: http://ec2-52-91-229-41.compute-1.amazonaws.com:5000/#/experiments/639329270342233827\n"
          ]
        },
        {
          "metadata": {
            "tags": null
          },
          "name": "stderr",
          "output_type": "stream",
          "text": [
            "/usr/local/lib/python3.11/dist-packages/sklearn/utils/validation.py:2739: UserWarning: X does not have valid feature names, but LGBMClassifier was fitted with feature names\n",
            "  warnings.warn(\n",
            "2025/08/10 15:55:45 WARNING mlflow.models.model: `artifact_path` is deprecated. Please use `name` instead.\n",
            "\u001b[31m2025/08/10 15:55:51 WARNING mlflow.models.model: Model logged without a signature and input example. Please set `input_example` parameter when logging the model to auto infer the model signature.\u001b[0m\n",
            "[I 2025-08-10 15:55:52,385] Trial 5 finished with value: 0.8041640245191292 and parameters: {'n_estimators': 738, 'learning_rate': 0.02741077465531112, 'max_depth': 9, 'num_leaves': 57, 'min_child_samples': 78, 'colsample_bytree': 0.578517414021011, 'subsample': 0.8462729840762253, 'reg_alpha': 0.00103111977682093, 'reg_lambda': 0.0006515234931467942}. Best is trial 0 with value: 0.8191714225322342.\n"
          ]
        },
        {
          "metadata": {
            "tags": null
          },
          "name": "stdout",
          "output_type": "stream",
          "text": [
            "🏃 View run Trial_5_LightGBM_SMOTE_TFIDF_Trigrams at: http://ec2-52-91-229-41.compute-1.amazonaws.com:5000/#/experiments/639329270342233827/runs/79407b0da60f4b47ae7aa9b1be575cd5\n",
            "🧪 View experiment at: http://ec2-52-91-229-41.compute-1.amazonaws.com:5000/#/experiments/639329270342233827\n"
          ]
        },
        {
          "metadata": {
            "tags": null
          },
          "name": "stderr",
          "output_type": "stream",
          "text": [
            "/usr/local/lib/python3.11/dist-packages/sklearn/utils/validation.py:2739: UserWarning: X does not have valid feature names, but LGBMClassifier was fitted with feature names\n",
            "  warnings.warn(\n",
            "2025/08/10 15:57:23 WARNING mlflow.models.model: `artifact_path` is deprecated. Please use `name` instead.\n",
            "\u001b[31m2025/08/10 15:57:29 WARNING mlflow.models.model: Model logged without a signature and input example. Please set `input_example` parameter when logging the model to auto infer the model signature.\u001b[0m\n",
            "[I 2025-08-10 15:57:30,001] Trial 6 finished with value: 0.7243711688860706 and parameters: {'n_estimators': 607, 'learning_rate': 0.0011035003693519872, 'max_depth': 15, 'num_leaves': 39, 'min_child_samples': 31, 'colsample_bytree': 0.5994572040402003, 'subsample': 0.7032390377497082, 'reg_alpha': 0.08310649195520092, 'reg_lambda': 0.013961583121540121}. Best is trial 0 with value: 0.8191714225322342.\n"
          ]
        },
        {
          "metadata": {
            "tags": null
          },
          "name": "stdout",
          "output_type": "stream",
          "text": [
            "🏃 View run Trial_6_LightGBM_SMOTE_TFIDF_Trigrams at: http://ec2-52-91-229-41.compute-1.amazonaws.com:5000/#/experiments/639329270342233827/runs/45987724df7942beb466807aaadf3be8\n",
            "🧪 View experiment at: http://ec2-52-91-229-41.compute-1.amazonaws.com:5000/#/experiments/639329270342233827\n"
          ]
        },
        {
          "metadata": {
            "tags": null
          },
          "name": "stderr",
          "output_type": "stream",
          "text": [
            "/usr/local/lib/python3.11/dist-packages/sklearn/utils/validation.py:2739: UserWarning: X does not have valid feature names, but LGBMClassifier was fitted with feature names\n",
            "  warnings.warn(\n",
            "2025/08/10 16:01:13 WARNING mlflow.models.model: `artifact_path` is deprecated. Please use `name` instead.\n",
            "\u001b[31m2025/08/10 16:01:21 WARNING mlflow.models.model: Model logged without a signature and input example. Please set `input_example` parameter when logging the model to auto infer the model signature.\u001b[0m\n",
            "[I 2025-08-10 16:01:21,964] Trial 7 finished with value: 0.6814626928767702 and parameters: {'n_estimators': 895, 'learning_rate': 0.0005052526820672608, 'max_depth': 13, 'num_leaves': 105, 'min_child_samples': 16, 'colsample_bytree': 0.8691649455215897, 'subsample': 0.9938529822099849, 'reg_alpha': 0.0006842677694640437, 'reg_lambda': 0.0007899528551762036}. Best is trial 0 with value: 0.8191714225322342.\n"
          ]
        },
        {
          "metadata": {
            "tags": null
          },
          "name": "stdout",
          "output_type": "stream",
          "text": [
            "🏃 View run Trial_7_LightGBM_SMOTE_TFIDF_Trigrams at: http://ec2-52-91-229-41.compute-1.amazonaws.com:5000/#/experiments/639329270342233827/runs/117619c0c06c4d0ab02589f960cced52\n",
            "🧪 View experiment at: http://ec2-52-91-229-41.compute-1.amazonaws.com:5000/#/experiments/639329270342233827\n"
          ]
        },
        {
          "metadata": {
            "tags": null
          },
          "name": "stderr",
          "output_type": "stream",
          "text": [
            "/usr/local/lib/python3.11/dist-packages/sklearn/utils/validation.py:2739: UserWarning: X does not have valid feature names, but LGBMClassifier was fitted with feature names\n",
            "  warnings.warn(\n",
            "2025/08/10 16:04:12 WARNING mlflow.models.model: `artifact_path` is deprecated. Please use `name` instead.\n",
            "\u001b[31m2025/08/10 16:04:20 WARNING mlflow.models.model: Model logged without a signature and input example. Please set `input_example` parameter when logging the model to auto infer the model signature.\u001b[0m\n",
            "[I 2025-08-10 16:04:21,840] Trial 8 finished with value: 0.7087296554639612 and parameters: {'n_estimators': 822, 'learning_rate': 0.0008322274442712266, 'max_depth': 13, 'num_leaves': 132, 'min_child_samples': 22, 'colsample_bytree': 0.6171977284706521, 'subsample': 0.7257157544717838, 'reg_alpha': 0.0011261502814665172, 'reg_lambda': 0.031240771673175332}. Best is trial 0 with value: 0.8191714225322342.\n"
          ]
        },
        {
          "metadata": {
            "tags": null
          },
          "name": "stdout",
          "output_type": "stream",
          "text": [
            "🏃 View run Trial_8_LightGBM_SMOTE_TFIDF_Trigrams at: http://ec2-52-91-229-41.compute-1.amazonaws.com:5000/#/experiments/639329270342233827/runs/96a703f997f642778b20a450ed6754f4\n",
            "🧪 View experiment at: http://ec2-52-91-229-41.compute-1.amazonaws.com:5000/#/experiments/639329270342233827\n"
          ]
        },
        {
          "metadata": {
            "tags": null
          },
          "name": "stderr",
          "output_type": "stream",
          "text": [
            "/usr/local/lib/python3.11/dist-packages/sklearn/utils/validation.py:2739: UserWarning: X does not have valid feature names, but LGBMClassifier was fitted with feature names\n",
            "  warnings.warn(\n",
            "2025/08/10 16:04:58 WARNING mlflow.models.model: `artifact_path` is deprecated. Please use `name` instead.\n",
            "\u001b[31m2025/08/10 16:05:03 WARNING mlflow.models.model: Model logged without a signature and input example. Please set `input_example` parameter when logging the model to auto infer the model signature.\u001b[0m\n",
            "[I 2025-08-10 16:05:04,366] Trial 9 finished with value: 0.8061720566476432 and parameters: {'n_estimators': 416, 'learning_rate': 0.05050784282362461, 'max_depth': 11, 'num_leaves': 120, 'min_child_samples': 94, 'colsample_bytree': 0.9649428893554427, 'subsample': 0.701199630610077, 'reg_alpha': 0.0019835853558087695, 'reg_lambda': 0.0002125458026147996}. Best is trial 0 with value: 0.8191714225322342.\n"
          ]
        },
        {
          "metadata": {
            "tags": null
          },
          "name": "stdout",
          "output_type": "stream",
          "text": [
            "🏃 View run Trial_9_LightGBM_SMOTE_TFIDF_Trigrams at: http://ec2-52-91-229-41.compute-1.amazonaws.com:5000/#/experiments/639329270342233827/runs/3570aaef66f74b598170c53b64a338c7\n",
            "🧪 View experiment at: http://ec2-52-91-229-41.compute-1.amazonaws.com:5000/#/experiments/639329270342233827\n"
          ]
        },
        {
          "metadata": {
            "tags": null
          },
          "name": "stderr",
          "output_type": "stream",
          "text": [
            "/usr/local/lib/python3.11/dist-packages/sklearn/utils/validation.py:2739: UserWarning: X does not have valid feature names, but LGBMClassifier was fitted with feature names\n",
            "  warnings.warn(\n",
            "2025/08/10 16:06:10 WARNING mlflow.models.model: `artifact_path` is deprecated. Please use `name` instead.\n",
            "\u001b[31m2025/08/10 16:06:16 WARNING mlflow.models.model: Model logged without a signature and input example. Please set `input_example` parameter when logging the model to auto infer the model signature.\u001b[0m\n",
            "[I 2025-08-10 16:06:17,030] Trial 10 finished with value: 0.7719298245614035 and parameters: {'n_estimators': 976, 'learning_rate': 0.009988369105111162, 'max_depth': 7, 'num_leaves': 79, 'min_child_samples': 47, 'colsample_bytree': 0.9877131961442115, 'subsample': 0.5652837930655052, 'reg_alpha': 0.019368031555135338, 'reg_lambda': 6.497976529876921}. Best is trial 0 with value: 0.8191714225322342.\n"
          ]
        },
        {
          "metadata": {
            "tags": null
          },
          "name": "stdout",
          "output_type": "stream",
          "text": [
            "🏃 View run Trial_10_LightGBM_SMOTE_TFIDF_Trigrams at: http://ec2-52-91-229-41.compute-1.amazonaws.com:5000/#/experiments/639329270342233827/runs/6efc605380ff46d49a19ee3ce5bfec6f\n",
            "🧪 View experiment at: http://ec2-52-91-229-41.compute-1.amazonaws.com:5000/#/experiments/639329270342233827\n"
          ]
        },
        {
          "metadata": {
            "tags": null
          },
          "name": "stderr",
          "output_type": "stream",
          "text": [
            "/usr/local/lib/python3.11/dist-packages/sklearn/utils/validation.py:2739: UserWarning: X does not have valid feature names, but LGBMClassifier was fitted with feature names\n",
            "  warnings.warn(\n",
            "2025/08/10 16:06:43 WARNING mlflow.models.model: `artifact_path` is deprecated. Please use `name` instead.\n",
            "\u001b[31m2025/08/10 16:06:49 WARNING mlflow.models.model: Model logged without a signature and input example. Please set `input_example` parameter when logging the model to auto infer the model signature.\u001b[0m\n",
            "[I 2025-08-10 16:06:50,010] Trial 11 finished with value: 0.8069118579581483 and parameters: {'n_estimators': 316, 'learning_rate': 0.07446849724467187, 'max_depth': 11, 'num_leaves': 104, 'min_child_samples': 100, 'colsample_bytree': 0.9910599341669872, 'subsample': 0.8129429144641978, 'reg_alpha': 0.007572642946380898, 'reg_lambda': 1.0018183893501866}. Best is trial 0 with value: 0.8191714225322342.\n"
          ]
        },
        {
          "metadata": {
            "tags": null
          },
          "name": "stdout",
          "output_type": "stream",
          "text": [
            "🏃 View run Trial_11_LightGBM_SMOTE_TFIDF_Trigrams at: http://ec2-52-91-229-41.compute-1.amazonaws.com:5000/#/experiments/639329270342233827/runs/e72cddf9d59446d5a5c9d115b035d6ae\n",
            "🧪 View experiment at: http://ec2-52-91-229-41.compute-1.amazonaws.com:5000/#/experiments/639329270342233827\n"
          ]
        },
        {
          "metadata": {
            "tags": null
          },
          "name": "stderr",
          "output_type": "stream",
          "text": [
            "/usr/local/lib/python3.11/dist-packages/sklearn/utils/validation.py:2739: UserWarning: X does not have valid feature names, but LGBMClassifier was fitted with feature names\n",
            "  warnings.warn(\n",
            "2025/08/10 16:07:01 WARNING mlflow.models.model: `artifact_path` is deprecated. Please use `name` instead.\n",
            "\u001b[31m2025/08/10 16:07:07 WARNING mlflow.models.model: Model logged without a signature and input example. Please set `input_example` parameter when logging the model to auto infer the model signature.\u001b[0m\n",
            "[I 2025-08-10 16:07:07,615] Trial 12 finished with value: 0.7908476009300359 and parameters: {'n_estimators': 199, 'learning_rate': 0.0992177194345848, 'max_depth': 6, 'num_leaves': 102, 'min_child_samples': 45, 'colsample_bytree': 0.9030442733768708, 'subsample': 0.8257525623279082, 'reg_alpha': 0.00011261501111796834, 'reg_lambda': 8.61132677326274}. Best is trial 0 with value: 0.8191714225322342.\n"
          ]
        },
        {
          "metadata": {
            "tags": null
          },
          "name": "stdout",
          "output_type": "stream",
          "text": [
            "🏃 View run Trial_12_LightGBM_SMOTE_TFIDF_Trigrams at: http://ec2-52-91-229-41.compute-1.amazonaws.com:5000/#/experiments/639329270342233827/runs/4b17e3a6e87e483091e61b7879901097\n",
            "🧪 View experiment at: http://ec2-52-91-229-41.compute-1.amazonaws.com:5000/#/experiments/639329270342233827\n"
          ]
        },
        {
          "metadata": {
            "tags": null
          },
          "name": "stderr",
          "output_type": "stream",
          "text": [
            "/usr/local/lib/python3.11/dist-packages/sklearn/utils/validation.py:2739: UserWarning: X does not have valid feature names, but LGBMClassifier was fitted with feature names\n",
            "  warnings.warn(\n",
            "2025/08/10 16:07:39 WARNING mlflow.models.model: `artifact_path` is deprecated. Please use `name` instead.\n",
            "\u001b[31m2025/08/10 16:07:45 WARNING mlflow.models.model: Model logged without a signature and input example. Please set `input_example` parameter when logging the model to auto infer the model signature.\u001b[0m\n",
            "[I 2025-08-10 16:07:46,231] Trial 13 finished with value: 0.771718452758402 and parameters: {'n_estimators': 319, 'learning_rate': 0.017030013109970318, 'max_depth': 11, 'num_leaves': 62, 'min_child_samples': 69, 'colsample_bytree': 0.8879496293109816, 'subsample': 0.815339777277944, 'reg_alpha': 0.008931023631819553, 'reg_lambda': 0.6600103745948048}. Best is trial 0 with value: 0.8191714225322342.\n"
          ]
        },
        {
          "metadata": {
            "tags": null
          },
          "name": "stdout",
          "output_type": "stream",
          "text": [
            "🏃 View run Trial_13_LightGBM_SMOTE_TFIDF_Trigrams at: http://ec2-52-91-229-41.compute-1.amazonaws.com:5000/#/experiments/639329270342233827/runs/7b73248f107b43e09e5b7f98dd882b62\n",
            "🧪 View experiment at: http://ec2-52-91-229-41.compute-1.amazonaws.com:5000/#/experiments/639329270342233827\n"
          ]
        },
        {
          "metadata": {
            "tags": null
          },
          "name": "stderr",
          "output_type": "stream",
          "text": [
            "/usr/local/lib/python3.11/dist-packages/sklearn/utils/validation.py:2739: UserWarning: X does not have valid feature names, but LGBMClassifier was fitted with feature names\n",
            "  warnings.warn(\n",
            "2025/08/10 16:08:08 WARNING mlflow.models.model: `artifact_path` is deprecated. Please use `name` instead.\n",
            "\u001b[31m2025/08/10 16:08:13 WARNING mlflow.models.model: Model logged without a signature and input example. Please set `input_example` parameter when logging the model to auto infer the model signature.\u001b[0m\n",
            "[I 2025-08-10 16:08:14,367] Trial 14 finished with value: 0.8083914605791588 and parameters: {'n_estimators': 278, 'learning_rate': 0.08375261245933842, 'max_depth': 9, 'num_leaves': 102, 'min_child_samples': 40, 'colsample_bytree': 0.7860250327882702, 'subsample': 0.6467181700004652, 'reg_alpha': 0.24691727459271562, 'reg_lambda': 0.7444291578310939}. Best is trial 0 with value: 0.8191714225322342.\n"
          ]
        },
        {
          "metadata": {
            "tags": null
          },
          "name": "stdout",
          "output_type": "stream",
          "text": [
            "🏃 View run Trial_14_LightGBM_SMOTE_TFIDF_Trigrams at: http://ec2-52-91-229-41.compute-1.amazonaws.com:5000/#/experiments/639329270342233827/runs/b297fe705f5f44458c0932c618f17df3\n",
            "🧪 View experiment at: http://ec2-52-91-229-41.compute-1.amazonaws.com:5000/#/experiments/639329270342233827\n"
          ]
        },
        {
          "metadata": {
            "tags": null
          },
          "name": "stderr",
          "output_type": "stream",
          "text": [
            "/usr/local/lib/python3.11/dist-packages/sklearn/utils/validation.py:2739: UserWarning: X does not have valid feature names, but LGBMClassifier was fitted with feature names\n",
            "  warnings.warn(\n",
            "2025/08/10 16:09:16 WARNING mlflow.models.model: `artifact_path` is deprecated. Please use `name` instead.\n",
            "\u001b[31m2025/08/10 16:09:22 WARNING mlflow.models.model: Model logged without a signature and input example. Please set `input_example` parameter when logging the model to auto infer the model signature.\u001b[0m\n",
            "[I 2025-08-10 16:09:23,314] Trial 15 finished with value: 0.7418093426336927 and parameters: {'n_estimators': 736, 'learning_rate': 0.0055927154478494475, 'max_depth': 8, 'num_leaves': 56, 'min_child_samples': 35, 'colsample_bytree': 0.7532663227998819, 'subsample': 0.6212566148354997, 'reg_alpha': 0.17645319537063675, 'reg_lambda': 0.4672284923152714}. Best is trial 0 with value: 0.8191714225322342.\n"
          ]
        },
        {
          "metadata": {
            "tags": null
          },
          "name": "stdout",
          "output_type": "stream",
          "text": [
            "🏃 View run Trial_15_LightGBM_SMOTE_TFIDF_Trigrams at: http://ec2-52-91-229-41.compute-1.amazonaws.com:5000/#/experiments/639329270342233827/runs/8dd443c637e7457b890b1f0d2135dcd6\n",
            "🧪 View experiment at: http://ec2-52-91-229-41.compute-1.amazonaws.com:5000/#/experiments/639329270342233827\n"
          ]
        },
        {
          "metadata": {
            "tags": null
          },
          "name": "stderr",
          "output_type": "stream",
          "text": [
            "/usr/local/lib/python3.11/dist-packages/sklearn/utils/validation.py:2739: UserWarning: X does not have valid feature names, but LGBMClassifier was fitted with feature names\n",
            "  warnings.warn(\n",
            "2025/08/10 16:09:30 WARNING mlflow.models.model: `artifact_path` is deprecated. Please use `name` instead.\n",
            "\u001b[31m2025/08/10 16:09:36 WARNING mlflow.models.model: Model logged without a signature and input example. Please set `input_example` parameter when logging the model to auto infer the model signature.\u001b[0m\n",
            "[I 2025-08-10 16:09:37,015] Trial 16 finished with value: 0.6995349820333967 and parameters: {'n_estimators': 117, 'learning_rate': 0.02952002039940699, 'max_depth': 5, 'num_leaves': 39, 'min_child_samples': 10, 'colsample_bytree': 0.7969909892928936, 'subsample': 0.6386544351744396, 'reg_alpha': 0.23266101129692338, 'reg_lambda': 2.174543572029824}. Best is trial 0 with value: 0.8191714225322342.\n"
          ]
        },
        {
          "metadata": {
            "tags": null
          },
          "name": "stdout",
          "output_type": "stream",
          "text": [
            "🏃 View run Trial_16_LightGBM_SMOTE_TFIDF_Trigrams at: http://ec2-52-91-229-41.compute-1.amazonaws.com:5000/#/experiments/639329270342233827/runs/f8af8d461f5d45e5ba1a0240e2a93aa6\n",
            "🧪 View experiment at: http://ec2-52-91-229-41.compute-1.amazonaws.com:5000/#/experiments/639329270342233827\n"
          ]
        },
        {
          "metadata": {
            "tags": null
          },
          "name": "stderr",
          "output_type": "stream",
          "text": [
            "/usr/local/lib/python3.11/dist-packages/sklearn/utils/validation.py:2739: UserWarning: X does not have valid feature names, but LGBMClassifier was fitted with feature names\n",
            "  warnings.warn(\n",
            "2025/08/10 16:10:01 WARNING mlflow.models.model: `artifact_path` is deprecated. Please use `name` instead.\n",
            "\u001b[31m2025/08/10 16:10:07 WARNING mlflow.models.model: Model logged without a signature and input example. Please set `input_example` parameter when logging the model to auto infer the model signature.\u001b[0m\n",
            "[I 2025-08-10 16:10:07,701] Trial 17 finished with value: 0.7541745931092793 and parameters: {'n_estimators': 984, 'learning_rate': 0.014585631571787218, 'max_depth': 3, 'num_leaves': 92, 'min_child_samples': 34, 'colsample_bytree': 0.6842197295569421, 'subsample': 0.6063649327220287, 'reg_alpha': 0.07555505570851877, 'reg_lambda': 0.1550422108600444}. Best is trial 0 with value: 0.8191714225322342.\n"
          ]
        },
        {
          "metadata": {
            "tags": null
          },
          "name": "stdout",
          "output_type": "stream",
          "text": [
            "🏃 View run Trial_17_LightGBM_SMOTE_TFIDF_Trigrams at: http://ec2-52-91-229-41.compute-1.amazonaws.com:5000/#/experiments/639329270342233827/runs/8b25828d78e74e2785f991be37907ae9\n",
            "🧪 View experiment at: http://ec2-52-91-229-41.compute-1.amazonaws.com:5000/#/experiments/639329270342233827\n"
          ]
        },
        {
          "metadata": {
            "tags": null
          },
          "name": "stderr",
          "output_type": "stream",
          "text": [
            "/usr/local/lib/python3.11/dist-packages/sklearn/utils/validation.py:2739: UserWarning: X does not have valid feature names, but LGBMClassifier was fitted with feature names\n",
            "  warnings.warn(\n",
            "2025/08/10 16:10:25 WARNING mlflow.models.model: `artifact_path` is deprecated. Please use `name` instead.\n",
            "\u001b[31m2025/08/10 16:10:30 WARNING mlflow.models.model: Model logged without a signature and input example. Please set `input_example` parameter when logging the model to auto infer the model signature.\u001b[0m\n",
            "[I 2025-08-10 16:10:31,405] Trial 18 finished with value: 0.771718452758402 and parameters: {'n_estimators': 261, 'learning_rate': 0.03820065580927113, 'max_depth': 9, 'num_leaves': 72, 'min_child_samples': 55, 'colsample_bytree': 0.8347490633857375, 'subsample': 0.6686465681113849, 'reg_alpha': 9.884058346648338, 'reg_lambda': 2.793918028078758}. Best is trial 0 with value: 0.8191714225322342.\n"
          ]
        },
        {
          "metadata": {
            "tags": null
          },
          "name": "stdout",
          "output_type": "stream",
          "text": [
            "🏃 View run Trial_18_LightGBM_SMOTE_TFIDF_Trigrams at: http://ec2-52-91-229-41.compute-1.amazonaws.com:5000/#/experiments/639329270342233827/runs/ea8b06c8afed403abb775a18736ae19f\n",
            "🧪 View experiment at: http://ec2-52-91-229-41.compute-1.amazonaws.com:5000/#/experiments/639329270342233827\n"
          ]
        },
        {
          "metadata": {
            "tags": null
          },
          "name": "stderr",
          "output_type": "stream",
          "text": [
            "/usr/local/lib/python3.11/dist-packages/sklearn/utils/validation.py:2739: UserWarning: X does not have valid feature names, but LGBMClassifier was fitted with feature names\n",
            "  warnings.warn(\n",
            "2025/08/10 16:11:19 WARNING mlflow.models.model: `artifact_path` is deprecated. Please use `name` instead.\n",
            "\u001b[31m2025/08/10 16:11:24 WARNING mlflow.models.model: Model logged without a signature and input example. Please set `input_example` parameter when logging the model to auto infer the model signature.\u001b[0m\n",
            "[I 2025-08-10 16:11:25,375] Trial 19 finished with value: 0.6859015007398013 and parameters: {'n_estimators': 450, 'learning_rate': 0.0021620160615666542, 'max_depth': 12, 'num_leaves': 20, 'min_child_samples': 42, 'colsample_bytree': 0.9306068339354824, 'subsample': 0.5077324996349735, 'reg_alpha': 0.5661673977553784, 'reg_lambda': 0.23768567715310368}. Best is trial 0 with value: 0.8191714225322342.\n"
          ]
        },
        {
          "metadata": {
            "tags": null
          },
          "name": "stdout",
          "output_type": "stream",
          "text": [
            "🏃 View run Trial_19_LightGBM_SMOTE_TFIDF_Trigrams at: http://ec2-52-91-229-41.compute-1.amazonaws.com:5000/#/experiments/639329270342233827/runs/21f8c14606964a9a95c5b728ce3bb217\n",
            "🧪 View experiment at: http://ec2-52-91-229-41.compute-1.amazonaws.com:5000/#/experiments/639329270342233827\n"
          ]
        },
        {
          "metadata": {
            "tags": null
          },
          "name": "stderr",
          "output_type": "stream",
          "text": [
            "/usr/local/lib/python3.11/dist-packages/sklearn/utils/validation.py:2739: UserWarning: X does not have valid feature names, but LGBMClassifier was fitted with feature names\n",
            "  warnings.warn(\n",
            "2025/08/10 16:12:15 WARNING mlflow.models.model: `artifact_path` is deprecated. Please use `name` instead.\n",
            "\u001b[31m2025/08/10 16:12:22 WARNING mlflow.models.model: Model logged without a signature and input example. Please set `input_example` parameter when logging the model to auto infer the model signature.\u001b[0m\n",
            "[I 2025-08-10 16:12:22,749] Trial 20 finished with value: 0.7570281124497992 and parameters: {'n_estimators': 750, 'learning_rate': 0.008453867855050472, 'max_depth': 7, 'num_leaves': 120, 'min_child_samples': 27, 'colsample_bytree': 0.7293959453840866, 'subsample': 0.7640898636011626, 'reg_alpha': 0.010000601594218598, 'reg_lambda': 2.5842516195174943}. Best is trial 0 with value: 0.8191714225322342.\n"
          ]
        },
        {
          "metadata": {
            "tags": null
          },
          "name": "stdout",
          "output_type": "stream",
          "text": [
            "🏃 View run Trial_20_LightGBM_SMOTE_TFIDF_Trigrams at: http://ec2-52-91-229-41.compute-1.amazonaws.com:5000/#/experiments/639329270342233827/runs/dcc429c1bfb344c7b73d459273103600\n",
            "🧪 View experiment at: http://ec2-52-91-229-41.compute-1.amazonaws.com:5000/#/experiments/639329270342233827\n"
          ]
        },
        {
          "metadata": {
            "tags": null
          },
          "name": "stderr",
          "output_type": "stream",
          "text": [
            "/usr/local/lib/python3.11/dist-packages/sklearn/utils/validation.py:2739: UserWarning: X does not have valid feature names, but LGBMClassifier was fitted with feature names\n",
            "  warnings.warn(\n",
            "2025/08/10 16:12:48 WARNING mlflow.models.model: `artifact_path` is deprecated. Please use `name` instead.\n",
            "\u001b[31m2025/08/10 16:12:53 WARNING mlflow.models.model: Model logged without a signature and input example. Please set `input_example` parameter when logging the model to auto infer the model signature.\u001b[0m\n",
            "[I 2025-08-10 16:12:53,725] Trial 21 finished with value: 0.8109279222151765 and parameters: {'n_estimators': 302, 'learning_rate': 0.09397671565090279, 'max_depth': 10, 'num_leaves': 101, 'min_child_samples': 58, 'colsample_bytree': 0.9437144152620969, 'subsample': 0.7820801175631905, 'reg_alpha': 0.004230021648307739, 'reg_lambda': 1.9966092676177363}. Best is trial 0 with value: 0.8191714225322342.\n"
          ]
        },
        {
          "metadata": {
            "tags": null
          },
          "name": "stdout",
          "output_type": "stream",
          "text": [
            "🏃 View run Trial_21_LightGBM_SMOTE_TFIDF_Trigrams at: http://ec2-52-91-229-41.compute-1.amazonaws.com:5000/#/experiments/639329270342233827/runs/37fa11710a6b432cbfc3ad61885b4f56\n",
            "🧪 View experiment at: http://ec2-52-91-229-41.compute-1.amazonaws.com:5000/#/experiments/639329270342233827\n"
          ]
        },
        {
          "metadata": {
            "tags": null
          },
          "name": "stderr",
          "output_type": "stream",
          "text": [
            "/usr/local/lib/python3.11/dist-packages/sklearn/utils/validation.py:2739: UserWarning: X does not have valid feature names, but LGBMClassifier was fitted with feature names\n",
            "  warnings.warn(\n",
            "2025/08/10 16:13:22 WARNING mlflow.models.model: `artifact_path` is deprecated. Please use `name` instead.\n",
            "\u001b[31m2025/08/10 16:13:28 WARNING mlflow.models.model: Model logged without a signature and input example. Please set `input_example` parameter when logging the model to auto infer the model signature.\u001b[0m\n",
            "[I 2025-08-10 16:13:28,725] Trial 22 finished with value: 0.8110336081166772 and parameters: {'n_estimators': 358, 'learning_rate': 0.09610848537429335, 'max_depth': 10, 'num_leaves': 94, 'min_child_samples': 57, 'colsample_bytree': 0.9359528693379678, 'subsample': 0.7706585035202115, 'reg_alpha': 0.0026896461339836852, 'reg_lambda': 7.9685296695797545}. Best is trial 0 with value: 0.8191714225322342.\n"
          ]
        },
        {
          "metadata": {
            "tags": null
          },
          "name": "stdout",
          "output_type": "stream",
          "text": [
            "🏃 View run Trial_22_LightGBM_SMOTE_TFIDF_Trigrams at: http://ec2-52-91-229-41.compute-1.amazonaws.com:5000/#/experiments/639329270342233827/runs/085d87616bd34db6a8d213a0cadaa1d8\n",
            "🧪 View experiment at: http://ec2-52-91-229-41.compute-1.amazonaws.com:5000/#/experiments/639329270342233827\n"
          ]
        },
        {
          "metadata": {
            "tags": null
          },
          "name": "stderr",
          "output_type": "stream",
          "text": [
            "/usr/local/lib/python3.11/dist-packages/sklearn/utils/validation.py:2739: UserWarning: X does not have valid feature names, but LGBMClassifier was fitted with feature names\n",
            "  warnings.warn(\n",
            "2025/08/10 16:14:00 WARNING mlflow.models.model: `artifact_path` is deprecated. Please use `name` instead.\n",
            "\u001b[31m2025/08/10 16:14:05 WARNING mlflow.models.model: Model logged without a signature and input example. Please set `input_example` parameter when logging the model to auto infer the model signature.\u001b[0m\n",
            "[I 2025-08-10 16:14:05,777] Trial 23 finished with value: 0.8024730500951173 and parameters: {'n_estimators': 364, 'learning_rate': 0.04765375702104267, 'max_depth': 10, 'num_leaves': 92, 'min_child_samples': 56, 'colsample_bytree': 0.9364065001946958, 'subsample': 0.7707485055787544, 'reg_alpha': 0.0025060936283603525, 'reg_lambda': 7.286451787923051}. Best is trial 0 with value: 0.8191714225322342.\n"
          ]
        },
        {
          "metadata": {
            "tags": null
          },
          "name": "stdout",
          "output_type": "stream",
          "text": [
            "🏃 View run Trial_23_LightGBM_SMOTE_TFIDF_Trigrams at: http://ec2-52-91-229-41.compute-1.amazonaws.com:5000/#/experiments/639329270342233827/runs/a9ac217ac23643a58e42e15bcf2336b6\n",
            "🧪 View experiment at: http://ec2-52-91-229-41.compute-1.amazonaws.com:5000/#/experiments/639329270342233827\n"
          ]
        },
        {
          "metadata": {
            "tags": null
          },
          "name": "stderr",
          "output_type": "stream",
          "text": [
            "/usr/local/lib/python3.11/dist-packages/sklearn/utils/validation.py:2739: UserWarning: X does not have valid feature names, but LGBMClassifier was fitted with feature names\n",
            "  warnings.warn(\n",
            "2025/08/10 16:15:00 WARNING mlflow.models.model: `artifact_path` is deprecated. Please use `name` instead.\n",
            "\u001b[31m2025/08/10 16:15:06 WARNING mlflow.models.model: Model logged without a signature and input example. Please set `input_example` parameter when logging the model to auto infer the model signature.\u001b[0m\n",
            "[I 2025-08-10 16:15:07,153] Trial 24 finished with value: 0.7991967871485943 and parameters: {'n_estimators': 571, 'learning_rate': 0.020179553654497192, 'max_depth': 12, 'num_leaves': 70, 'min_child_samples': 70, 'colsample_bytree': 0.8680586881575308, 'subsample': 0.8896307699335835, 'reg_alpha': 0.00028564474747142795, 'reg_lambda': 2.3971570734278016}. Best is trial 0 with value: 0.8191714225322342.\n"
          ]
        },
        {
          "metadata": {
            "tags": null
          },
          "name": "stdout",
          "output_type": "stream",
          "text": [
            "🏃 View run Trial_24_LightGBM_SMOTE_TFIDF_Trigrams at: http://ec2-52-91-229-41.compute-1.amazonaws.com:5000/#/experiments/639329270342233827/runs/d5bd149433ab44848c9addb5f58f6672\n",
            "🧪 View experiment at: http://ec2-52-91-229-41.compute-1.amazonaws.com:5000/#/experiments/639329270342233827\n"
          ]
        },
        {
          "metadata": {
            "tags": null
          },
          "name": "stderr",
          "output_type": "stream",
          "text": [
            "/usr/local/lib/python3.11/dist-packages/sklearn/utils/validation.py:2739: UserWarning: X does not have valid feature names, but LGBMClassifier was fitted with feature names\n",
            "  warnings.warn(\n",
            "2025/08/10 16:15:47 WARNING mlflow.models.model: `artifact_path` is deprecated. Please use `name` instead.\n",
            "\u001b[31m2025/08/10 16:15:53 WARNING mlflow.models.model: Model logged without a signature and input example. Please set `input_example` parameter when logging the model to auto infer the model signature.\u001b[0m\n",
            "[I 2025-08-10 16:15:53,660] Trial 25 finished with value: 0.8096596913971676 and parameters: {'n_estimators': 497, 'learning_rate': 0.05688957042507008, 'max_depth': 10, 'num_leaves': 120, 'min_child_samples': 54, 'colsample_bytree': 0.9446097076557682, 'subsample': 0.872994032055672, 'reg_alpha': 0.003629337730852152, 'reg_lambda': 9.054197673774667}. Best is trial 0 with value: 0.8191714225322342.\n"
          ]
        },
        {
          "metadata": {
            "tags": null
          },
          "name": "stdout",
          "output_type": "stream",
          "text": [
            "🏃 View run Trial_25_LightGBM_SMOTE_TFIDF_Trigrams at: http://ec2-52-91-229-41.compute-1.amazonaws.com:5000/#/experiments/639329270342233827/runs/df2935dac78d475fbbc0f375a38d8079\n",
            "🧪 View experiment at: http://ec2-52-91-229-41.compute-1.amazonaws.com:5000/#/experiments/639329270342233827\n"
          ]
        },
        {
          "metadata": {
            "tags": null
          },
          "name": "stderr",
          "output_type": "stream",
          "text": [
            "/usr/local/lib/python3.11/dist-packages/sklearn/utils/validation.py:2739: UserWarning: X does not have valid feature names, but LGBMClassifier was fitted with feature names\n",
            "  warnings.warn(\n",
            "2025/08/10 16:16:12 WARNING mlflow.models.model: `artifact_path` is deprecated. Please use `name` instead.\n",
            "\u001b[31m2025/08/10 16:16:18 WARNING mlflow.models.model: Model logged without a signature and input example. Please set `input_example` parameter when logging the model to auto infer the model signature.\u001b[0m\n",
            "[I 2025-08-10 16:16:19,170] Trial 26 finished with value: 0.777425491439442 and parameters: {'n_estimators': 252, 'learning_rate': 0.03250175202749733, 'max_depth': 8, 'num_leaves': 46, 'min_child_samples': 65, 'colsample_bytree': 0.9126298958841955, 'subsample': 0.7840306066321476, 'reg_alpha': 0.004783416542925951, 'reg_lambda': 0.18757499643946346}. Best is trial 0 with value: 0.8191714225322342.\n"
          ]
        },
        {
          "metadata": {
            "tags": null
          },
          "name": "stdout",
          "output_type": "stream",
          "text": [
            "🏃 View run Trial_26_LightGBM_SMOTE_TFIDF_Trigrams at: http://ec2-52-91-229-41.compute-1.amazonaws.com:5000/#/experiments/639329270342233827/runs/0a94991801ef48109d96ff12317191a7\n",
            "🧪 View experiment at: http://ec2-52-91-229-41.compute-1.amazonaws.com:5000/#/experiments/639329270342233827\n"
          ]
        },
        {
          "metadata": {
            "tags": null
          },
          "name": "stderr",
          "output_type": "stream",
          "text": [
            "/usr/local/lib/python3.11/dist-packages/sklearn/utils/validation.py:2739: UserWarning: X does not have valid feature names, but LGBMClassifier was fitted with feature names\n",
            "  warnings.warn(\n",
            "2025/08/10 16:17:17 WARNING mlflow.models.model: `artifact_path` is deprecated. Please use `name` instead.\n",
            "\u001b[31m2025/08/10 16:17:23 WARNING mlflow.models.model: Model logged without a signature and input example. Please set `input_example` parameter when logging the model to auto infer the model signature.\u001b[0m\n",
            "[I 2025-08-10 16:17:24,410] Trial 27 finished with value: 0.8161065313887127 and parameters: {'n_estimators': 664, 'learning_rate': 0.09603661422600143, 'max_depth': 12, 'num_leaves': 90, 'min_child_samples': 49, 'colsample_bytree': 0.8478303934044268, 'subsample': 0.7929058409662387, 'reg_alpha': 0.01742204464884771, 'reg_lambda': 1.379578937616126}. Best is trial 0 with value: 0.8191714225322342.\n"
          ]
        },
        {
          "metadata": {
            "tags": null
          },
          "name": "stdout",
          "output_type": "stream",
          "text": [
            "🏃 View run Trial_27_LightGBM_SMOTE_TFIDF_Trigrams at: http://ec2-52-91-229-41.compute-1.amazonaws.com:5000/#/experiments/639329270342233827/runs/19c13df6d7034809911ec2607643a8ca\n",
            "🧪 View experiment at: http://ec2-52-91-229-41.compute-1.amazonaws.com:5000/#/experiments/639329270342233827\n"
          ]
        },
        {
          "metadata": {
            "tags": null
          },
          "name": "stderr",
          "output_type": "stream",
          "text": [
            "/usr/local/lib/python3.11/dist-packages/sklearn/utils/validation.py:2739: UserWarning: X does not have valid feature names, but LGBMClassifier was fitted with feature names\n",
            "  warnings.warn(\n",
            "2025/08/10 16:18:32 WARNING mlflow.models.model: `artifact_path` is deprecated. Please use `name` instead.\n",
            "\u001b[31m2025/08/10 16:18:38 WARNING mlflow.models.model: Model logged without a signature and input example. Please set `input_example` parameter when logging the model to auto infer the model signature.\u001b[0m\n",
            "[I 2025-08-10 16:18:39,411] Trial 28 finished with value: 0.7147537518495033 and parameters: {'n_estimators': 640, 'learning_rate': 0.0028893433232813942, 'max_depth': 13, 'num_leaves': 86, 'min_child_samples': 79, 'colsample_bytree': 0.8352226608347681, 'subsample': 0.8656686785441364, 'reg_alpha': 0.05755679897576038, 'reg_lambda': 4.121162194256359}. Best is trial 0 with value: 0.8191714225322342.\n"
          ]
        },
        {
          "metadata": {
            "tags": null
          },
          "name": "stdout",
          "output_type": "stream",
          "text": [
            "🏃 View run Trial_28_LightGBM_SMOTE_TFIDF_Trigrams at: http://ec2-52-91-229-41.compute-1.amazonaws.com:5000/#/experiments/639329270342233827/runs/fef87abd10c84ebda2cd372f56309eb7\n",
            "🧪 View experiment at: http://ec2-52-91-229-41.compute-1.amazonaws.com:5000/#/experiments/639329270342233827\n"
          ]
        },
        {
          "metadata": {
            "tags": null
          },
          "name": "stderr",
          "output_type": "stream",
          "text": [
            "/usr/local/lib/python3.11/dist-packages/sklearn/utils/validation.py:2739: UserWarning: X does not have valid feature names, but LGBMClassifier was fitted with feature names\n",
            "  warnings.warn(\n",
            "2025/08/10 16:19:56 WARNING mlflow.models.model: `artifact_path` is deprecated. Please use `name` instead.\n",
            "\u001b[31m2025/08/10 16:20:02 WARNING mlflow.models.model: Model logged without a signature and input example. Please set `input_example` parameter when logging the model to auto infer the model signature.\u001b[0m\n",
            "[I 2025-08-10 16:20:02,835] Trial 29 finished with value: 0.8173747622067217 and parameters: {'n_estimators': 882, 'learning_rate': 0.057344428040634034, 'max_depth': 12, 'num_leaves': 148, 'min_child_samples': 50, 'colsample_bytree': 0.8398354240519167, 'subsample': 0.9350495244366694, 'reg_alpha': 0.028561008453839996, 'reg_lambda': 1.2372250334344672}. Best is trial 0 with value: 0.8191714225322342.\n"
          ]
        },
        {
          "metadata": {
            "tags": null
          },
          "name": "stdout",
          "output_type": "stream",
          "text": [
            "🏃 View run Trial_29_LightGBM_SMOTE_TFIDF_Trigrams at: http://ec2-52-91-229-41.compute-1.amazonaws.com:5000/#/experiments/639329270342233827/runs/8ab474b21c6f4505a88d679caa0f061a\n",
            "🧪 View experiment at: http://ec2-52-91-229-41.compute-1.amazonaws.com:5000/#/experiments/639329270342233827\n"
          ]
        },
        {
          "metadata": {
            "tags": null
          },
          "name": "stderr",
          "output_type": "stream",
          "text": [
            "/usr/local/lib/python3.11/dist-packages/sklearn/utils/validation.py:2739: UserWarning: X does not have valid feature names, but LGBMClassifier was fitted with feature names\n",
            "  warnings.warn(\n",
            "2025/08/10 16:22:07 WARNING mlflow.models.model: `artifact_path` is deprecated. Please use `name` instead.\n",
            "\u001b[31m2025/08/10 16:22:14 WARNING mlflow.models.model: Model logged without a signature and input example. Please set `input_example` parameter when logging the model to auto infer the model signature.\u001b[0m\n",
            "[I 2025-08-10 16:22:15,145] Trial 30 finished with value: 0.8041640245191292 and parameters: {'n_estimators': 906, 'learning_rate': 0.011182003241822601, 'max_depth': 14, 'num_leaves': 143, 'min_child_samples': 21, 'colsample_bytree': 0.6934905088814404, 'subsample': 0.9750119509279723, 'reg_alpha': 0.022028058163979982, 'reg_lambda': 1.2208967437046696}. Best is trial 0 with value: 0.8191714225322342.\n"
          ]
        },
        {
          "metadata": {
            "tags": null
          },
          "name": "stdout",
          "output_type": "stream",
          "text": [
            "🏃 View run Trial_30_LightGBM_SMOTE_TFIDF_Trigrams at: http://ec2-52-91-229-41.compute-1.amazonaws.com:5000/#/experiments/639329270342233827/runs/414fd8891ed346ddaa0c6e0477c06269\n",
            "🧪 View experiment at: http://ec2-52-91-229-41.compute-1.amazonaws.com:5000/#/experiments/639329270342233827\n"
          ]
        },
        {
          "metadata": {
            "tags": null
          },
          "name": "stderr",
          "output_type": "stream",
          "text": [
            "/usr/local/lib/python3.11/dist-packages/sklearn/utils/validation.py:2739: UserWarning: X does not have valid feature names, but LGBMClassifier was fitted with feature names\n",
            "  warnings.warn(\n",
            "2025/08/10 16:23:21 WARNING mlflow.models.model: `artifact_path` is deprecated. Please use `name` instead.\n",
            "\u001b[31m2025/08/10 16:23:28 WARNING mlflow.models.model: Model logged without a signature and input example. Please set `input_example` parameter when logging the model to auto infer the model signature.\u001b[0m\n",
            "[I 2025-08-10 16:23:29,989] Trial 31 finished with value: 0.8181145635172268 and parameters: {'n_estimators': 836, 'learning_rate': 0.06169270235843397, 'max_depth': 11, 'num_leaves': 149, 'min_child_samples': 51, 'colsample_bytree': 0.8548847411205792, 'subsample': 0.9486447834293852, 'reg_alpha': 0.014294876399727955, 'reg_lambda': 4.189937413495667}. Best is trial 0 with value: 0.8191714225322342.\n"
          ]
        },
        {
          "metadata": {
            "tags": null
          },
          "name": "stdout",
          "output_type": "stream",
          "text": [
            "🏃 View run Trial_31_LightGBM_SMOTE_TFIDF_Trigrams at: http://ec2-52-91-229-41.compute-1.amazonaws.com:5000/#/experiments/639329270342233827/runs/1b5d2340b8544320b2acaa50e1b8f40d\n",
            "🧪 View experiment at: http://ec2-52-91-229-41.compute-1.amazonaws.com:5000/#/experiments/639329270342233827\n"
          ]
        },
        {
          "metadata": {
            "tags": null
          },
          "name": "stderr",
          "output_type": "stream",
          "text": [
            "/usr/local/lib/python3.11/dist-packages/sklearn/utils/validation.py:2739: UserWarning: X does not have valid feature names, but LGBMClassifier was fitted with feature names\n",
            "  warnings.warn(\n",
            "2025/08/10 16:24:44 WARNING mlflow.models.model: `artifact_path` is deprecated. Please use `name` instead.\n",
            "\u001b[31m2025/08/10 16:24:50 WARNING mlflow.models.model: Model logged without a signature and input example. Please set `input_example` parameter when logging the model to auto infer the model signature.\u001b[0m\n",
            "[I 2025-08-10 16:24:51,275] Trial 32 finished with value: 0.8172690763052208 and parameters: {'n_estimators': 824, 'learning_rate': 0.05615571971980945, 'max_depth': 12, 'num_leaves': 147, 'min_child_samples': 47, 'colsample_bytree': 0.8478601268799357, 'subsample': 0.9504969003060206, 'reg_alpha': 0.044472836018058244, 'reg_lambda': 0.40800857829172305}. Best is trial 0 with value: 0.8191714225322342.\n"
          ]
        },
        {
          "metadata": {
            "tags": null
          },
          "name": "stdout",
          "output_type": "stream",
          "text": [
            "🏃 View run Trial_32_LightGBM_SMOTE_TFIDF_Trigrams at: http://ec2-52-91-229-41.compute-1.amazonaws.com:5000/#/experiments/639329270342233827/runs/9b22fa81c0a94b40b9d01e8d73a5482c\n",
            "🧪 View experiment at: http://ec2-52-91-229-41.compute-1.amazonaws.com:5000/#/experiments/639329270342233827\n"
          ]
        },
        {
          "metadata": {
            "tags": null
          },
          "name": "stderr",
          "output_type": "stream",
          "text": [
            "/usr/local/lib/python3.11/dist-packages/sklearn/utils/validation.py:2739: UserWarning: X does not have valid feature names, but LGBMClassifier was fitted with feature names\n",
            "  warnings.warn(\n",
            "2025/08/10 16:26:17 WARNING mlflow.models.model: `artifact_path` is deprecated. Please use `name` instead.\n",
            "\u001b[31m2025/08/10 16:26:23 WARNING mlflow.models.model: Model logged without a signature and input example. Please set `input_example` parameter when logging the model to auto infer the model signature.\u001b[0m\n",
            "[I 2025-08-10 16:26:24,826] Trial 33 finished with value: 0.8090255759881632 and parameters: {'n_estimators': 844, 'learning_rate': 0.022237783804739567, 'max_depth': 12, 'num_leaves': 150, 'min_child_samples': 40, 'colsample_bytree': 0.817499664113428, 'subsample': 0.9445347617645049, 'reg_alpha': 0.03820637785623288, 'reg_lambda': 0.5486326440489878}. Best is trial 0 with value: 0.8191714225322342.\n"
          ]
        },
        {
          "metadata": {
            "tags": null
          },
          "name": "stdout",
          "output_type": "stream",
          "text": [
            "🏃 View run Trial_33_LightGBM_SMOTE_TFIDF_Trigrams at: http://ec2-52-91-229-41.compute-1.amazonaws.com:5000/#/experiments/639329270342233827/runs/1ff264c0fea74426b1de01318d73cbc0\n",
            "🧪 View experiment at: http://ec2-52-91-229-41.compute-1.amazonaws.com:5000/#/experiments/639329270342233827\n"
          ]
        },
        {
          "metadata": {
            "tags": null
          },
          "name": "stderr",
          "output_type": "stream",
          "text": [
            "/usr/local/lib/python3.11/dist-packages/sklearn/utils/validation.py:2739: UserWarning: X does not have valid feature names, but LGBMClassifier was fitted with feature names\n",
            "  warnings.warn(\n",
            "2025/08/10 16:27:55 WARNING mlflow.models.model: `artifact_path` is deprecated. Please use `name` instead.\n",
            "\u001b[31m2025/08/10 16:28:01 WARNING mlflow.models.model: Model logged without a signature and input example. Please set `input_example` parameter when logging the model to auto infer the model signature.\u001b[0m\n",
            "[I 2025-08-10 16:28:02,490] Trial 34 finished with value: 0.8200169097442401 and parameters: {'n_estimators': 808, 'learning_rate': 0.05556316286980168, 'max_depth': 11, 'num_leaves': 131, 'min_child_samples': 10, 'colsample_bytree': 0.8713289884743856, 'subsample': 0.9338665707732916, 'reg_alpha': 0.13785847490735528, 'reg_lambda': 0.08801111514927416}. Best is trial 34 with value: 0.8200169097442401.\n"
          ]
        },
        {
          "metadata": {
            "tags": null
          },
          "name": "stdout",
          "output_type": "stream",
          "text": [
            "🏃 View run Trial_34_LightGBM_SMOTE_TFIDF_Trigrams at: http://ec2-52-91-229-41.compute-1.amazonaws.com:5000/#/experiments/639329270342233827/runs/de84533b835c4258a1734a10521ee695\n",
            "🧪 View experiment at: http://ec2-52-91-229-41.compute-1.amazonaws.com:5000/#/experiments/639329270342233827\n"
          ]
        },
        {
          "metadata": {
            "tags": null
          },
          "name": "stderr",
          "output_type": "stream",
          "text": [
            "/usr/local/lib/python3.11/dist-packages/sklearn/utils/validation.py:2739: UserWarning: X does not have valid feature names, but LGBMClassifier was fitted with feature names\n",
            "  warnings.warn(\n",
            "2025/08/10 16:29:35 WARNING mlflow.models.model: `artifact_path` is deprecated. Please use `name` instead.\n",
            "\u001b[31m2025/08/10 16:29:42 WARNING mlflow.models.model: Model logged without a signature and input example. Please set `input_example` parameter when logging the model to auto infer the model signature.\u001b[0m\n",
            "[I 2025-08-10 16:29:42,901] Trial 35 finished with value: 0.8195941661382372 and parameters: {'n_estimators': 927, 'learning_rate': 0.03769277159503246, 'max_depth': 11, 'num_leaves': 133, 'min_child_samples': 11, 'colsample_bytree': 0.7687071037622067, 'subsample': 0.9113796459831898, 'reg_alpha': 0.5721141470824844, 'reg_lambda': 0.06326168945516089}. Best is trial 34 with value: 0.8200169097442401.\n"
          ]
        },
        {
          "metadata": {
            "tags": null
          },
          "name": "stdout",
          "output_type": "stream",
          "text": [
            "🏃 View run Trial_35_LightGBM_SMOTE_TFIDF_Trigrams at: http://ec2-52-91-229-41.compute-1.amazonaws.com:5000/#/experiments/639329270342233827/runs/b9461355c1164234b42f5eb4e2b08a88\n",
            "🧪 View experiment at: http://ec2-52-91-229-41.compute-1.amazonaws.com:5000/#/experiments/639329270342233827\n"
          ]
        },
        {
          "metadata": {
            "tags": null
          },
          "name": "stderr",
          "output_type": "stream",
          "text": [
            "/usr/local/lib/python3.11/dist-packages/sklearn/utils/validation.py:2739: UserWarning: X does not have valid feature names, but LGBMClassifier was fitted with feature names\n",
            "  warnings.warn(\n",
            "2025/08/10 16:31:03 WARNING mlflow.models.model: `artifact_path` is deprecated. Please use `name` instead.\n",
            "\u001b[31m2025/08/10 16:31:09 WARNING mlflow.models.model: Model logged without a signature and input example. Please set `input_example` parameter when logging the model to auto infer the model signature.\u001b[0m\n",
            "[I 2025-08-10 16:31:10,161] Trial 36 finished with value: 0.8169520186007186 and parameters: {'n_estimators': 760, 'learning_rate': 0.03337105678828206, 'max_depth': 11, 'num_leaves': 133, 'min_child_samples': 10, 'colsample_bytree': 0.769493575392525, 'subsample': 0.9107510979701766, 'reg_alpha': 1.5796049652919877, 'reg_lambda': 0.07304653498663143}. Best is trial 34 with value: 0.8200169097442401.\n"
          ]
        },
        {
          "metadata": {
            "tags": null
          },
          "name": "stdout",
          "output_type": "stream",
          "text": [
            "🏃 View run Trial_36_LightGBM_SMOTE_TFIDF_Trigrams at: http://ec2-52-91-229-41.compute-1.amazonaws.com:5000/#/experiments/639329270342233827/runs/d80066b8d83e458eb07c8ddad652d694\n",
            "🧪 View experiment at: http://ec2-52-91-229-41.compute-1.amazonaws.com:5000/#/experiments/639329270342233827\n"
          ]
        },
        {
          "metadata": {
            "tags": null
          },
          "name": "stderr",
          "output_type": "stream",
          "text": [
            "/usr/local/lib/python3.11/dist-packages/sklearn/utils/validation.py:2739: UserWarning: X does not have valid feature names, but LGBMClassifier was fitted with feature names\n",
            "  warnings.warn(\n",
            "2025/08/10 16:34:08 WARNING mlflow.models.model: `artifact_path` is deprecated. Please use `name` instead.\n",
            "\u001b[31m2025/08/10 16:34:16 WARNING mlflow.models.model: Model logged without a signature and input example. Please set `input_example` parameter when logging the model to auto infer the model signature.\u001b[0m\n",
            "[I 2025-08-10 16:34:17,382] Trial 37 finished with value: 0.6973155781018812 and parameters: {'n_estimators': 944, 'learning_rate': 0.00010795277591764914, 'max_depth': 14, 'num_leaves': 128, 'min_child_samples': 16, 'colsample_bytree': 0.7061296061168356, 'subsample': 0.9055963031513786, 'reg_alpha': 0.546044746164144, 'reg_lambda': 0.006333009859817714}. Best is trial 34 with value: 0.8200169097442401.\n"
          ]
        },
        {
          "metadata": {
            "tags": null
          },
          "name": "stdout",
          "output_type": "stream",
          "text": [
            "🏃 View run Trial_37_LightGBM_SMOTE_TFIDF_Trigrams at: http://ec2-52-91-229-41.compute-1.amazonaws.com:5000/#/experiments/639329270342233827/runs/d51d8c2d689d4c33977b2cc2e14e14b4\n",
            "🧪 View experiment at: http://ec2-52-91-229-41.compute-1.amazonaws.com:5000/#/experiments/639329270342233827\n"
          ]
        },
        {
          "metadata": {
            "tags": null
          },
          "name": "stderr",
          "output_type": "stream",
          "text": [
            "/usr/local/lib/python3.11/dist-packages/sklearn/utils/validation.py:2739: UserWarning: X does not have valid feature names, but LGBMClassifier was fitted with feature names\n",
            "  warnings.warn(\n",
            "2025/08/10 16:36:09 WARNING mlflow.models.model: `artifact_path` is deprecated. Please use `name` instead.\n",
            "\u001b[31m2025/08/10 16:36:16 WARNING mlflow.models.model: Model logged without a signature and input example. Please set `input_example` parameter when logging the model to auto infer the model signature.\u001b[0m\n",
            "[I 2025-08-10 16:36:17,529] Trial 38 finished with value: 0.6867469879518072 and parameters: {'n_estimators': 688, 'learning_rate': 0.0004127567603395392, 'max_depth': 11, 'num_leaves': 138, 'min_child_samples': 15, 'colsample_bytree': 0.6423187672133166, 'subsample': 0.9720239884172792, 'reg_alpha': 0.16681862218986257, 'reg_lambda': 0.025765206272466187}. Best is trial 34 with value: 0.8200169097442401.\n"
          ]
        },
        {
          "metadata": {
            "tags": null
          },
          "name": "stdout",
          "output_type": "stream",
          "text": [
            "🏃 View run Trial_38_LightGBM_SMOTE_TFIDF_Trigrams at: http://ec2-52-91-229-41.compute-1.amazonaws.com:5000/#/experiments/639329270342233827/runs/e293cc1a95cf44d794b0b47105648b02\n",
            "🧪 View experiment at: http://ec2-52-91-229-41.compute-1.amazonaws.com:5000/#/experiments/639329270342233827\n"
          ]
        },
        {
          "metadata": {
            "tags": null
          },
          "name": "stderr",
          "output_type": "stream",
          "text": [
            "/usr/local/lib/python3.11/dist-packages/sklearn/utils/validation.py:2739: UserWarning: X does not have valid feature names, but LGBMClassifier was fitted with feature names\n",
            "  warnings.warn(\n",
            "2025/08/10 16:38:41 WARNING mlflow.models.model: `artifact_path` is deprecated. Please use `name` instead.\n",
            "\u001b[31m2025/08/10 16:38:48 WARNING mlflow.models.model: Model logged without a signature and input example. Please set `input_example` parameter when logging the model to auto infer the model signature.\u001b[0m\n",
            "[I 2025-08-10 16:38:49,518] Trial 39 finished with value: 0.7767913760304376 and parameters: {'n_estimators': 803, 'learning_rate': 0.005537437377858615, 'max_depth': 13, 'num_leaves': 112, 'min_child_samples': 26, 'colsample_bytree': 0.5222826876704645, 'subsample': 0.8451778249174344, 'reg_alpha': 0.12476562554692372, 'reg_lambda': 0.0017408521983071853}. Best is trial 34 with value: 0.8200169097442401.\n"
          ]
        },
        {
          "metadata": {
            "tags": null
          },
          "name": "stdout",
          "output_type": "stream",
          "text": [
            "🏃 View run Trial_39_LightGBM_SMOTE_TFIDF_Trigrams at: http://ec2-52-91-229-41.compute-1.amazonaws.com:5000/#/experiments/639329270342233827/runs/cb838236cc7f44bcb94f8b728c91b7f6\n",
            "🧪 View experiment at: http://ec2-52-91-229-41.compute-1.amazonaws.com:5000/#/experiments/639329270342233827\n"
          ]
        },
        {
          "metadata": {
            "tags": null
          },
          "name": "stderr",
          "output_type": "stream",
          "text": [
            "/usr/local/lib/python3.11/dist-packages/sklearn/utils/validation.py:2739: UserWarning: X does not have valid feature names, but LGBMClassifier was fitted with feature names\n",
            "  warnings.warn(\n",
            "2025/08/10 16:40:08 WARNING mlflow.models.model: `artifact_path` is deprecated. Please use `name` instead.\n",
            "\u001b[31m2025/08/10 16:40:15 WARNING mlflow.models.model: Model logged without a signature and input example. Please set `input_example` parameter when logging the model to auto infer the model signature.\u001b[0m\n",
            "[I 2025-08-10 16:40:15,736] Trial 40 finished with value: 0.8089198900866624 and parameters: {'n_estimators': 926, 'learning_rate': 0.02470986201344256, 'max_depth': 9, 'num_leaves': 127, 'min_child_samples': 17, 'colsample_bytree': 0.8767957499748961, 'subsample': 0.9926340637682874, 'reg_alpha': 1.6089981548514205, 'reg_lambda': 0.10743684304913664}. Best is trial 34 with value: 0.8200169097442401.\n"
          ]
        },
        {
          "metadata": {
            "tags": null
          },
          "name": "stdout",
          "output_type": "stream",
          "text": [
            "🏃 View run Trial_40_LightGBM_SMOTE_TFIDF_Trigrams at: http://ec2-52-91-229-41.compute-1.amazonaws.com:5000/#/experiments/639329270342233827/runs/4a245dffd74242b78812112cde1e7624\n",
            "🧪 View experiment at: http://ec2-52-91-229-41.compute-1.amazonaws.com:5000/#/experiments/639329270342233827\n"
          ]
        },
        {
          "metadata": {
            "tags": null
          },
          "name": "stderr",
          "output_type": "stream",
          "text": [
            "/usr/local/lib/python3.11/dist-packages/sklearn/utils/validation.py:2739: UserWarning: X does not have valid feature names, but LGBMClassifier was fitted with feature names\n",
            "  warnings.warn(\n",
            "2025/08/10 16:41:37 WARNING mlflow.models.model: `artifact_path` is deprecated. Please use `name` instead.\n",
            "\u001b[31m2025/08/10 16:41:43 WARNING mlflow.models.model: Model logged without a signature and input example. Please set `input_example` parameter when logging the model to auto infer the model signature.\u001b[0m\n",
            "[I 2025-08-10 16:41:44,955] Trial 41 finished with value: 0.8192771084337349 and parameters: {'n_estimators': 876, 'learning_rate': 0.046952533082954676, 'max_depth': 11, 'num_leaves': 138, 'min_child_samples': 22, 'colsample_bytree': 0.8148337751758866, 'subsample': 0.9410662612087297, 'reg_alpha': 0.3663609843975515, 'reg_lambda': 0.01344290019167072}. Best is trial 34 with value: 0.8200169097442401.\n"
          ]
        },
        {
          "metadata": {
            "tags": null
          },
          "name": "stdout",
          "output_type": "stream",
          "text": [
            "🏃 View run Trial_41_LightGBM_SMOTE_TFIDF_Trigrams at: http://ec2-52-91-229-41.compute-1.amazonaws.com:5000/#/experiments/639329270342233827/runs/bfd27fd1d3b74babb78b2f2f5aafbb35\n",
            "🧪 View experiment at: http://ec2-52-91-229-41.compute-1.amazonaws.com:5000/#/experiments/639329270342233827\n"
          ]
        },
        {
          "metadata": {
            "tags": null
          },
          "name": "stderr",
          "output_type": "stream",
          "text": [
            "/usr/local/lib/python3.11/dist-packages/sklearn/utils/validation.py:2739: UserWarning: X does not have valid feature names, but LGBMClassifier was fitted with feature names\n",
            "  warnings.warn(\n",
            "2025/08/10 16:43:06 WARNING mlflow.models.model: `artifact_path` is deprecated. Please use `name` instead.\n",
            "\u001b[31m2025/08/10 16:43:12 WARNING mlflow.models.model: Model logged without a signature and input example. Please set `input_example` parameter when logging the model to auto infer the model signature.\u001b[0m\n",
            "[I 2025-08-10 16:43:13,226] Trial 42 finished with value: 0.8192771084337349 and parameters: {'n_estimators': 881, 'learning_rate': 0.043911303929288055, 'max_depth': 11, 'num_leaves': 140, 'min_child_samples': 25, 'colsample_bytree': 0.8119872667614627, 'subsample': 0.9253177081160799, 'reg_alpha': 0.38514276733750175, 'reg_lambda': 0.016795459773427283}. Best is trial 34 with value: 0.8200169097442401.\n"
          ]
        },
        {
          "metadata": {
            "tags": null
          },
          "name": "stdout",
          "output_type": "stream",
          "text": [
            "🏃 View run Trial_42_LightGBM_SMOTE_TFIDF_Trigrams at: http://ec2-52-91-229-41.compute-1.amazonaws.com:5000/#/experiments/639329270342233827/runs/64c89b42b5dd4cda8df10b14b6a66a1c\n",
            "🧪 View experiment at: http://ec2-52-91-229-41.compute-1.amazonaws.com:5000/#/experiments/639329270342233827\n"
          ]
        },
        {
          "metadata": {
            "tags": null
          },
          "name": "stderr",
          "output_type": "stream",
          "text": [
            "/usr/local/lib/python3.11/dist-packages/sklearn/utils/validation.py:2739: UserWarning: X does not have valid feature names, but LGBMClassifier was fitted with feature names\n",
            "  warnings.warn(\n",
            "2025/08/10 16:44:26 WARNING mlflow.models.model: `artifact_path` is deprecated. Please use `name` instead.\n",
            "\u001b[31m2025/08/10 16:44:33 WARNING mlflow.models.model: Model logged without a signature and input example. Please set `input_example` parameter when logging the model to auto infer the model signature.\u001b[0m\n",
            "[I 2025-08-10 16:44:34,030] Trial 43 finished with value: 0.8179031917142253 and parameters: {'n_estimators': 874, 'learning_rate': 0.040352356790620686, 'max_depth': 10, 'num_leaves': 140, 'min_child_samples': 26, 'colsample_bytree': 0.8116837998161684, 'subsample': 0.8823183021519799, 'reg_alpha': 0.36528425644103407, 'reg_lambda': 0.014441087910422234}. Best is trial 34 with value: 0.8200169097442401.\n"
          ]
        },
        {
          "metadata": {
            "tags": null
          },
          "name": "stdout",
          "output_type": "stream",
          "text": [
            "🏃 View run Trial_43_LightGBM_SMOTE_TFIDF_Trigrams at: http://ec2-52-91-229-41.compute-1.amazonaws.com:5000/#/experiments/639329270342233827/runs/91c3be1862f04815a452b4602acf609e\n",
            "🧪 View experiment at: http://ec2-52-91-229-41.compute-1.amazonaws.com:5000/#/experiments/639329270342233827\n"
          ]
        },
        {
          "metadata": {
            "tags": null
          },
          "name": "stderr",
          "output_type": "stream",
          "text": [
            "/usr/local/lib/python3.11/dist-packages/sklearn/utils/validation.py:2739: UserWarning: X does not have valid feature names, but LGBMClassifier was fitted with feature names\n",
            "  warnings.warn(\n",
            "2025/08/10 16:46:19 WARNING mlflow.models.model: `artifact_path` is deprecated. Please use `name` instead.\n",
            "\u001b[31m2025/08/10 16:46:25 WARNING mlflow.models.model: Model logged without a signature and input example. Please set `input_example` parameter when logging the model to auto infer the model signature.\u001b[0m\n",
            "[I 2025-08-10 16:46:26,551] Trial 44 finished with value: 0.8074402874656521 and parameters: {'n_estimators': 955, 'learning_rate': 0.015099047857643624, 'max_depth': 11, 'num_leaves': 130, 'min_child_samples': 13, 'colsample_bytree': 0.765212941181358, 'subsample': 0.9152695287946135, 'reg_alpha': 0.9642814616111813, 'reg_lambda': 0.0028891743005825354}. Best is trial 34 with value: 0.8200169097442401.\n"
          ]
        },
        {
          "metadata": {
            "tags": null
          },
          "name": "stdout",
          "output_type": "stream",
          "text": [
            "🏃 View run Trial_44_LightGBM_SMOTE_TFIDF_Trigrams at: http://ec2-52-91-229-41.compute-1.amazonaws.com:5000/#/experiments/639329270342233827/runs/552a5e9561034d78aeba472d43d5c49f\n",
            "🧪 View experiment at: http://ec2-52-91-229-41.compute-1.amazonaws.com:5000/#/experiments/639329270342233827\n"
          ]
        },
        {
          "metadata": {
            "tags": null
          },
          "name": "stderr",
          "output_type": "stream",
          "text": [
            "/usr/local/lib/python3.11/dist-packages/sklearn/utils/validation.py:2739: UserWarning: X does not have valid feature names, but LGBMClassifier was fitted with feature names\n",
            "  warnings.warn(\n",
            "2025/08/10 16:47:16 WARNING mlflow.models.model: `artifact_path` is deprecated. Please use `name` instead.\n",
            "\u001b[31m2025/08/10 16:47:22 WARNING mlflow.models.model: Model logged without a signature and input example. Please set `input_example` parameter when logging the model to auto infer the model signature.\u001b[0m\n",
            "[I 2025-08-10 16:47:22,602] Trial 45 finished with value: 0.8130416402451913 and parameters: {'n_estimators': 791, 'learning_rate': 0.04445018324637656, 'max_depth': 8, 'num_leaves': 114, 'min_child_samples': 20, 'colsample_bytree': 0.7216809741180852, 'subsample': 0.8456856525721348, 'reg_alpha': 2.5285067860091868, 'reg_lambda': 0.03944303217953473}. Best is trial 34 with value: 0.8200169097442401.\n"
          ]
        },
        {
          "metadata": {
            "tags": null
          },
          "name": "stdout",
          "output_type": "stream",
          "text": [
            "🏃 View run Trial_45_LightGBM_SMOTE_TFIDF_Trigrams at: http://ec2-52-91-229-41.compute-1.amazonaws.com:5000/#/experiments/639329270342233827/runs/d2020983df79423ba2b9b39f427b747e\n",
            "🧪 View experiment at: http://ec2-52-91-229-41.compute-1.amazonaws.com:5000/#/experiments/639329270342233827\n"
          ]
        },
        {
          "metadata": {
            "tags": null
          },
          "name": "stderr",
          "output_type": "stream",
          "text": [
            "/usr/local/lib/python3.11/dist-packages/sklearn/utils/validation.py:2739: UserWarning: X does not have valid feature names, but LGBMClassifier was fitted with feature names\n",
            "  warnings.warn(\n",
            "2025/08/10 16:49:16 WARNING mlflow.models.model: `artifact_path` is deprecated. Please use `name` instead.\n",
            "\u001b[31m2025/08/10 16:49:22 WARNING mlflow.models.model: Model logged without a signature and input example. Please set `input_example` parameter when logging the model to auto infer the model signature.\u001b[0m\n",
            "[I 2025-08-10 16:49:23,602] Trial 46 finished with value: 0.8140984992601987 and parameters: {'n_estimators': 994, 'learning_rate': 0.024202890051842885, 'max_depth': 13, 'num_leaves': 124, 'min_child_samples': 30, 'colsample_bytree': 0.899562228514172, 'subsample': 0.9276266172653731, 'reg_alpha': 0.8246642276178302, 'reg_lambda': 0.008389008067996313}. Best is trial 34 with value: 0.8200169097442401.\n"
          ]
        },
        {
          "metadata": {
            "tags": null
          },
          "name": "stdout",
          "output_type": "stream",
          "text": [
            "🏃 View run Trial_46_LightGBM_SMOTE_TFIDF_Trigrams at: http://ec2-52-91-229-41.compute-1.amazonaws.com:5000/#/experiments/639329270342233827/runs/a409c8da58994b839faaaab96ed4e035\n",
            "🧪 View experiment at: http://ec2-52-91-229-41.compute-1.amazonaws.com:5000/#/experiments/639329270342233827\n"
          ]
        },
        {
          "metadata": {
            "tags": null
          },
          "name": "stderr",
          "output_type": "stream",
          "text": [
            "/usr/local/lib/python3.11/dist-packages/sklearn/utils/validation.py:2739: UserWarning: X does not have valid feature names, but LGBMClassifier was fitted with feature names\n",
            "  warnings.warn(\n",
            "2025/08/10 16:50:36 WARNING mlflow.models.model: `artifact_path` is deprecated. Please use `name` instead.\n",
            "\u001b[31m2025/08/10 16:50:42 WARNING mlflow.models.model: Model logged without a signature and input example. Please set `input_example` parameter when logging the model to auto infer the model signature.\u001b[0m\n",
            "[I 2025-08-10 16:50:42,760] Trial 47 finished with value: 0.8219192559712535 and parameters: {'n_estimators': 702, 'learning_rate': 0.06893608538002619, 'max_depth': 14, 'num_leaves': 32, 'min_child_samples': 20, 'colsample_bytree': 0.7836492309602276, 'subsample': 0.9630758708808277, 'reg_alpha': 0.09606754525457482, 'reg_lambda': 0.01772344810045}. Best is trial 47 with value: 0.8219192559712535.\n"
          ]
        },
        {
          "metadata": {
            "tags": null
          },
          "name": "stdout",
          "output_type": "stream",
          "text": [
            "🏃 View run Trial_47_LightGBM_SMOTE_TFIDF_Trigrams at: http://ec2-52-91-229-41.compute-1.amazonaws.com:5000/#/experiments/639329270342233827/runs/1d31e01895764f9db47b4e1feeddf09b\n",
            "🧪 View experiment at: http://ec2-52-91-229-41.compute-1.amazonaws.com:5000/#/experiments/639329270342233827\n"
          ]
        },
        {
          "metadata": {
            "tags": null
          },
          "name": "stderr",
          "output_type": "stream",
          "text": [
            "/usr/local/lib/python3.11/dist-packages/sklearn/utils/validation.py:2739: UserWarning: X does not have valid feature names, but LGBMClassifier was fitted with feature names\n",
            "  warnings.warn(\n",
            "2025/08/10 16:52:05 WARNING mlflow.models.model: `artifact_path` is deprecated. Please use `name` instead.\n",
            "\u001b[31m2025/08/10 16:52:10 WARNING mlflow.models.model: Model logged without a signature and input example. Please set `input_example` parameter when logging the model to auto infer the model signature.\u001b[0m\n",
            "[I 2025-08-10 16:52:11,507] Trial 48 finished with value: 0.8209680828577468 and parameters: {'n_estimators': 696, 'learning_rate': 0.07635489245773774, 'max_depth': 14, 'num_leaves': 135, 'min_child_samples': 18, 'colsample_bytree': 0.7863531457916472, 'subsample': 0.9709794210979252, 'reg_alpha': 0.3983632359211935, 'reg_lambda': 0.01750152014403781}. Best is trial 47 with value: 0.8219192559712535.\n"
          ]
        },
        {
          "metadata": {
            "tags": null
          },
          "name": "stdout",
          "output_type": "stream",
          "text": [
            "🏃 View run Trial_48_LightGBM_SMOTE_TFIDF_Trigrams at: http://ec2-52-91-229-41.compute-1.amazonaws.com:5000/#/experiments/639329270342233827/runs/66e878b7948d4243bc8bdac272b8c751\n",
            "🧪 View experiment at: http://ec2-52-91-229-41.compute-1.amazonaws.com:5000/#/experiments/639329270342233827\n"
          ]
        },
        {
          "metadata": {
            "tags": null
          },
          "name": "stderr",
          "output_type": "stream",
          "text": [
            "/usr/local/lib/python3.11/dist-packages/sklearn/utils/validation.py:2739: UserWarning: X does not have valid feature names, but LGBMClassifier was fitted with feature names\n",
            "  warnings.warn(\n",
            "2025/08/10 16:55:00 WARNING mlflow.models.model: `artifact_path` is deprecated. Please use `name` instead.\n",
            "\u001b[31m2025/08/10 16:55:07 WARNING mlflow.models.model: Model logged without a signature and input example. Please set `input_example` parameter when logging the model to auto infer the model signature.\u001b[0m\n",
            "[I 2025-08-10 16:55:08,121] Trial 49 finished with value: 0.7101035721834708 and parameters: {'n_estimators': 718, 'learning_rate': 0.0013353116748759674, 'max_depth': 15, 'num_leaves': 112, 'min_child_samples': 18, 'colsample_bytree': 0.7842317220706866, 'subsample': 0.9704276400343754, 'reg_alpha': 0.10366106438184496, 'reg_lambda': 0.05867414400433619}. Best is trial 47 with value: 0.8219192559712535.\n"
          ]
        },
        {
          "metadata": {
            "tags": null
          },
          "name": "stdout",
          "output_type": "stream",
          "text": [
            "🏃 View run Trial_49_LightGBM_SMOTE_TFIDF_Trigrams at: http://ec2-52-91-229-41.compute-1.amazonaws.com:5000/#/experiments/639329270342233827/runs/2857ab4123df4960919e229d407b4c3d\n",
            "🧪 View experiment at: http://ec2-52-91-229-41.compute-1.amazonaws.com:5000/#/experiments/639329270342233827\n"
          ]
        },
        {
          "metadata": {
            "tags": null
          },
          "name": "stderr",
          "output_type": "stream",
          "text": [
            "/usr/local/lib/python3.11/dist-packages/sklearn/utils/validation.py:2739: UserWarning: X does not have valid feature names, but LGBMClassifier was fitted with feature names\n",
            "  warnings.warn(\n",
            "2025/08/10 16:56:24 WARNING mlflow.models.model: `artifact_path` is deprecated. Please use `name` instead.\n",
            "\u001b[31m2025/08/10 16:56:30 WARNING mlflow.models.model: Model logged without a signature and input example. Please set `input_example` parameter when logging the model to auto infer the model signature.\u001b[0m\n",
            "[I 2025-08-10 16:56:31,071] Trial 50 finished with value: 0.8238216021982667 and parameters: {'n_estimators': 626, 'learning_rate': 0.06709290333567838, 'max_depth': 14, 'num_leaves': 135, 'min_child_samples': 13, 'colsample_bytree': 0.728729070214775, 'subsample': 0.9633973890451807, 'reg_alpha': 0.3175024329217135, 'reg_lambda': 0.023152792727868514}. Best is trial 50 with value: 0.8238216021982667.\n"
          ]
        },
        {
          "metadata": {
            "tags": null
          },
          "name": "stdout",
          "output_type": "stream",
          "text": [
            "🏃 View run Trial_50_LightGBM_SMOTE_TFIDF_Trigrams at: http://ec2-52-91-229-41.compute-1.amazonaws.com:5000/#/experiments/639329270342233827/runs/a03f96b7014c47a18ecc44544bf842de\n",
            "🧪 View experiment at: http://ec2-52-91-229-41.compute-1.amazonaws.com:5000/#/experiments/639329270342233827\n"
          ]
        },
        {
          "metadata": {
            "tags": null
          },
          "name": "stderr",
          "output_type": "stream",
          "text": [
            "/usr/local/lib/python3.11/dist-packages/sklearn/utils/validation.py:2739: UserWarning: X does not have valid feature names, but LGBMClassifier was fitted with feature names\n",
            "  warnings.warn(\n",
            "2025/08/10 16:57:45 WARNING mlflow.models.model: `artifact_path` is deprecated. Please use `name` instead.\n",
            "\u001b[31m2025/08/10 16:57:51 WARNING mlflow.models.model: Model logged without a signature and input example. Please set `input_example` parameter when logging the model to auto infer the model signature.\u001b[0m\n",
            "[I 2025-08-10 16:57:52,477] Trial 51 finished with value: 0.8218135700697526 and parameters: {'n_estimators': 596, 'learning_rate': 0.0701708319358306, 'max_depth': 14, 'num_leaves': 134, 'min_child_samples': 13, 'colsample_bytree': 0.7365117651798343, 'subsample': 0.9918008361768116, 'reg_alpha': 0.3366306737886446, 'reg_lambda': 0.02397660519084455}. Best is trial 50 with value: 0.8238216021982667.\n"
          ]
        },
        {
          "metadata": {
            "tags": null
          },
          "name": "stdout",
          "output_type": "stream",
          "text": [
            "🏃 View run Trial_51_LightGBM_SMOTE_TFIDF_Trigrams at: http://ec2-52-91-229-41.compute-1.amazonaws.com:5000/#/experiments/639329270342233827/runs/396aa116ca1543eaacfa49daff58ea38\n",
            "🧪 View experiment at: http://ec2-52-91-229-41.compute-1.amazonaws.com:5000/#/experiments/639329270342233827\n"
          ]
        },
        {
          "metadata": {
            "tags": null
          },
          "name": "stderr",
          "output_type": "stream",
          "text": [
            "/usr/local/lib/python3.11/dist-packages/sklearn/utils/validation.py:2739: UserWarning: X does not have valid feature names, but LGBMClassifier was fitted with feature names\n",
            "  warnings.warn(\n",
            "2025/08/10 16:59:06 WARNING mlflow.models.model: `artifact_path` is deprecated. Please use `name` instead.\n",
            "\u001b[31m2025/08/10 16:59:11 WARNING mlflow.models.model: Model logged without a signature and input example. Please set `input_example` parameter when logging the model to auto infer the model signature.\u001b[0m\n",
            "[I 2025-08-10 16:59:12,403] Trial 52 finished with value: 0.8208623969562461 and parameters: {'n_estimators': 590, 'learning_rate': 0.07124077173640204, 'max_depth': 14, 'num_leaves': 134, 'min_child_samples': 13, 'colsample_bytree': 0.7437926733456878, 'subsample': 0.9899159197940557, 'reg_alpha': 0.23289488022053215, 'reg_lambda': 0.028020881854610775}. Best is trial 50 with value: 0.8238216021982667.\n"
          ]
        },
        {
          "metadata": {
            "tags": null
          },
          "name": "stdout",
          "output_type": "stream",
          "text": [
            "🏃 View run Trial_52_LightGBM_SMOTE_TFIDF_Trigrams at: http://ec2-52-91-229-41.compute-1.amazonaws.com:5000/#/experiments/639329270342233827/runs/c288618af5bf47e594e76b8378b59c96\n",
            "🧪 View experiment at: http://ec2-52-91-229-41.compute-1.amazonaws.com:5000/#/experiments/639329270342233827\n"
          ]
        },
        {
          "metadata": {
            "tags": null
          },
          "name": "stderr",
          "output_type": "stream",
          "text": [
            "/usr/local/lib/python3.11/dist-packages/sklearn/utils/validation.py:2739: UserWarning: X does not have valid feature names, but LGBMClassifier was fitted with feature names\n",
            "  warnings.warn(\n",
            "2025/08/10 17:00:10 WARNING mlflow.models.model: `artifact_path` is deprecated. Please use `name` instead.\n",
            "\u001b[31m2025/08/10 17:00:15 WARNING mlflow.models.model: Model logged without a signature and input example. Please set `input_example` parameter when logging the model to auto infer the model signature.\u001b[0m\n",
            "[I 2025-08-10 17:00:16,334] Trial 53 finished with value: 0.8227647431832593 and parameters: {'n_estimators': 587, 'learning_rate': 0.07324007709027393, 'max_depth': 14, 'num_leaves': 31, 'min_child_samples': 14, 'colsample_bytree': 0.6637779783798106, 'subsample': 0.9992721222689193, 'reg_alpha': 0.1920385472463782, 'reg_lambda': 0.02490430954609501}. Best is trial 50 with value: 0.8238216021982667.\n"
          ]
        },
        {
          "metadata": {
            "tags": null
          },
          "name": "stdout",
          "output_type": "stream",
          "text": [
            "🏃 View run Trial_53_LightGBM_SMOTE_TFIDF_Trigrams at: http://ec2-52-91-229-41.compute-1.amazonaws.com:5000/#/experiments/639329270342233827/runs/419c8fdf08054795816de950702fe7a9\n",
            "🧪 View experiment at: http://ec2-52-91-229-41.compute-1.amazonaws.com:5000/#/experiments/639329270342233827\n"
          ]
        },
        {
          "output_type": "stream",
          "name": "stderr",
          "text": [
            "/usr/local/lib/python3.11/dist-packages/sklearn/utils/validation.py:2739: UserWarning: X does not have valid feature names, but LGBMClassifier was fitted with feature names\n",
            "  warnings.warn(\n",
            "2025/08/10 17:01:17 WARNING mlflow.models.model: `artifact_path` is deprecated. Please use `name` instead.\n",
            "\u001b[31m2025/08/10 17:01:24 WARNING mlflow.models.model: Model logged without a signature and input example. Please set `input_example` parameter when logging the model to auto infer the model signature.\u001b[0m\n",
            "[I 2025-08-10 17:01:24,591] Trial 54 finished with value: 0.82287042908476 and parameters: {'n_estimators': 592, 'learning_rate': 0.07331897754330371, 'max_depth': 15, 'num_leaves': 31, 'min_child_samples': 15, 'colsample_bytree': 0.6633490935829175, 'subsample': 0.9953224446075821, 'reg_alpha': 0.25552828077837536, 'reg_lambda': 0.02397145290210393}. Best is trial 50 with value: 0.8238216021982667.\n"
          ]
        },
        {
          "output_type": "stream",
          "name": "stdout",
          "text": [
            "🏃 View run Trial_54_LightGBM_SMOTE_TFIDF_Trigrams at: http://ec2-52-91-229-41.compute-1.amazonaws.com:5000/#/experiments/639329270342233827/runs/dc00428d984441efae109b52e97d2cfb\n",
            "🧪 View experiment at: http://ec2-52-91-229-41.compute-1.amazonaws.com:5000/#/experiments/639329270342233827\n"
          ]
        },
        {
          "output_type": "stream",
          "name": "stderr",
          "text": [
            "/usr/local/lib/python3.11/dist-packages/sklearn/utils/validation.py:2739: UserWarning: X does not have valid feature names, but LGBMClassifier was fitted with feature names\n",
            "  warnings.warn(\n",
            "2025/08/10 17:02:17 WARNING mlflow.models.model: `artifact_path` is deprecated. Please use `name` instead.\n",
            "\u001b[31m2025/08/10 17:02:23 WARNING mlflow.models.model: Model logged without a signature and input example. Please set `input_example` parameter when logging the model to auto infer the model signature.\u001b[0m\n",
            "[I 2025-08-10 17:02:23,717] Trial 55 finished with value: 0.8193827943352356 and parameters: {'n_estimators': 545, 'learning_rate': 0.07192337592741545, 'max_depth': 15, 'num_leaves': 31, 'min_child_samples': 31, 'colsample_bytree': 0.6587490672921811, 'subsample': 0.9991590132860824, 'reg_alpha': 0.06254148024453231, 'reg_lambda': 0.00486455106385908}. Best is trial 50 with value: 0.8238216021982667.\n"
          ]
        },
        {
          "output_type": "stream",
          "name": "stdout",
          "text": [
            "🏃 View run Trial_55_LightGBM_SMOTE_TFIDF_Trigrams at: http://ec2-52-91-229-41.compute-1.amazonaws.com:5000/#/experiments/639329270342233827/runs/57e564e44ea8471785b20fac5b5ba1e6\n",
            "🧪 View experiment at: http://ec2-52-91-229-41.compute-1.amazonaws.com:5000/#/experiments/639329270342233827\n"
          ]
        },
        {
          "output_type": "stream",
          "name": "stderr",
          "text": [
            "/usr/local/lib/python3.11/dist-packages/sklearn/utils/validation.py:2739: UserWarning: X does not have valid feature names, but LGBMClassifier was fitted with feature names\n",
            "  warnings.warn(\n",
            "2025/08/10 17:03:32 WARNING mlflow.models.model: `artifact_path` is deprecated. Please use `name` instead.\n",
            "\u001b[31m2025/08/10 17:03:39 WARNING mlflow.models.model: Model logged without a signature and input example. Please set `input_example` parameter when logging the model to auto infer the model signature.\u001b[0m\n",
            "[I 2025-08-10 17:03:39,975] Trial 56 finished with value: 0.8168463326992179 and parameters: {'n_estimators': 504, 'learning_rate': 0.07453753632791461, 'max_depth': 15, 'num_leaves': 42, 'min_child_samples': 22, 'colsample_bytree': 0.5798963120376665, 'subsample': 0.9634818214373797, 'reg_alpha': 5.780805387000246, 'reg_lambda': 0.020693727391573123}. Best is trial 50 with value: 0.8238216021982667.\n"
          ]
        },
        {
          "output_type": "stream",
          "name": "stdout",
          "text": [
            "🏃 View run Trial_56_LightGBM_SMOTE_TFIDF_Trigrams at: http://ec2-52-91-229-41.compute-1.amazonaws.com:5000/#/experiments/639329270342233827/runs/9068f15731bb47ca9a8170dd4b288c49\n",
            "🧪 View experiment at: http://ec2-52-91-229-41.compute-1.amazonaws.com:5000/#/experiments/639329270342233827\n"
          ]
        },
        {
          "output_type": "stream",
          "name": "stderr",
          "text": [
            "/usr/local/lib/python3.11/dist-packages/sklearn/utils/validation.py:2739: UserWarning: X does not have valid feature names, but LGBMClassifier was fitted with feature names\n",
            "  warnings.warn(\n",
            "2025/08/10 17:04:39 WARNING mlflow.models.model: `artifact_path` is deprecated. Please use `name` instead.\n",
            "\u001b[31m2025/08/10 17:04:44 WARNING mlflow.models.model: Model logged without a signature and input example. Please set `input_example` parameter when logging the model to auto infer the model signature.\u001b[0m\n",
            "[I 2025-08-10 17:04:45,373] Trial 57 finished with value: 0.8219192559712535 and parameters: {'n_estimators': 616, 'learning_rate': 0.07578835335255238, 'max_depth': 14, 'num_leaves': 28, 'min_child_samples': 19, 'colsample_bytree': 0.6298751631568666, 'subsample': 0.9827545366958903, 'reg_alpha': 1.072213841658903, 'reg_lambda': 0.039055858461996995}. Best is trial 50 with value: 0.8238216021982667.\n"
          ]
        },
        {
          "output_type": "stream",
          "name": "stdout",
          "text": [
            "🏃 View run Trial_57_LightGBM_SMOTE_TFIDF_Trigrams at: http://ec2-52-91-229-41.compute-1.amazonaws.com:5000/#/experiments/639329270342233827/runs/54e44df91ff84288bb4a79f66f608f94\n",
            "🧪 View experiment at: http://ec2-52-91-229-41.compute-1.amazonaws.com:5000/#/experiments/639329270342233827\n"
          ]
        },
        {
          "output_type": "stream",
          "name": "stderr",
          "text": [
            "/usr/local/lib/python3.11/dist-packages/sklearn/utils/validation.py:2739: UserWarning: X does not have valid feature names, but LGBMClassifier was fitted with feature names\n",
            "  warnings.warn(\n",
            "2025/08/10 17:05:50 WARNING mlflow.models.model: `artifact_path` is deprecated. Please use `name` instead.\n",
            "\u001b[31m2025/08/10 17:05:56 WARNING mlflow.models.model: Model logged without a signature and input example. Please set `input_example` parameter when logging the model to auto infer the model signature.\u001b[0m\n",
            "[I 2025-08-10 17:05:56,783] Trial 58 finished with value: 0.8124075248361868 and parameters: {'n_estimators': 624, 'learning_rate': 0.03234630676584342, 'max_depth': 15, 'num_leaves': 29, 'min_child_samples': 35, 'colsample_bytree': 0.6194186753805162, 'subsample': 0.9909279060804818, 'reg_alpha': 1.1619830524522903, 'reg_lambda': 0.040973128035760746}. Best is trial 50 with value: 0.8238216021982667.\n"
          ]
        },
        {
          "output_type": "stream",
          "name": "stdout",
          "text": [
            "🏃 View run Trial_58_LightGBM_SMOTE_TFIDF_Trigrams at: http://ec2-52-91-229-41.compute-1.amazonaws.com:5000/#/experiments/639329270342233827/runs/ac18e0f1a6e24fa581af7b7110c9580e\n",
            "🧪 View experiment at: http://ec2-52-91-229-41.compute-1.amazonaws.com:5000/#/experiments/639329270342233827\n"
          ]
        },
        {
          "output_type": "stream",
          "name": "stderr",
          "text": [
            "/usr/local/lib/python3.11/dist-packages/sklearn/utils/validation.py:2739: UserWarning: X does not have valid feature names, but LGBMClassifier was fitted with feature names\n",
            "  warnings.warn(\n",
            "2025/08/10 17:06:49 WARNING mlflow.models.model: `artifact_path` is deprecated. Please use `name` instead.\n",
            "\u001b[31m2025/08/10 17:06:55 WARNING mlflow.models.model: Model logged without a signature and input example. Please set `input_example` parameter when logging the model to auto infer the model signature.\u001b[0m\n",
            "[I 2025-08-10 17:06:56,092] Trial 59 finished with value: 0.8183259353202282 and parameters: {'n_estimators': 518, 'learning_rate': 0.06726137220609447, 'max_depth': 14, 'num_leaves': 32, 'min_child_samples': 14, 'colsample_bytree': 0.673242871661031, 'subsample': 0.9557467474935988, 'reg_alpha': 2.662700909526516, 'reg_lambda': 0.008621081711911373}. Best is trial 50 with value: 0.8238216021982667.\n"
          ]
        },
        {
          "output_type": "stream",
          "name": "stdout",
          "text": [
            "🏃 View run Trial_59_LightGBM_SMOTE_TFIDF_Trigrams at: http://ec2-52-91-229-41.compute-1.amazonaws.com:5000/#/experiments/639329270342233827/runs/7f67b630634541968a33bdaf78f8579c\n",
            "🧪 View experiment at: http://ec2-52-91-229-41.compute-1.amazonaws.com:5000/#/experiments/639329270342233827\n"
          ]
        },
        {
          "output_type": "stream",
          "name": "stderr",
          "text": [
            "/usr/local/lib/python3.11/dist-packages/sklearn/utils/validation.py:2739: UserWarning: X does not have valid feature names, but LGBMClassifier was fitted with feature names\n",
            "  warnings.warn(\n",
            "2025/08/10 17:08:07 WARNING mlflow.models.model: `artifact_path` is deprecated. Please use `name` instead.\n",
            "\u001b[31m2025/08/10 17:08:13 WARNING mlflow.models.model: Model logged without a signature and input example. Please set `input_example` parameter when logging the model to auto infer the model signature.\u001b[0m\n",
            "[I 2025-08-10 17:08:14,081] Trial 60 finished with value: 0.8004650179666033 and parameters: {'n_estimators': 459, 'learning_rate': 0.017726540347411605, 'max_depth': 13, 'num_leaves': 51, 'min_child_samples': 24, 'colsample_bytree': 0.5415528671007803, 'subsample': 0.9776334102666155, 'reg_alpha': 0.2705264344263763, 'reg_lambda': 0.04033893469031188}. Best is trial 50 with value: 0.8238216021982667.\n"
          ]
        },
        {
          "output_type": "stream",
          "name": "stdout",
          "text": [
            "🏃 View run Trial_60_LightGBM_SMOTE_TFIDF_Trigrams at: http://ec2-52-91-229-41.compute-1.amazonaws.com:5000/#/experiments/639329270342233827/runs/77b83debc4014dd49c168efec2bddd99\n",
            "🧪 View experiment at: http://ec2-52-91-229-41.compute-1.amazonaws.com:5000/#/experiments/639329270342233827\n"
          ]
        },
        {
          "output_type": "stream",
          "name": "stderr",
          "text": [
            "/usr/local/lib/python3.11/dist-packages/sklearn/utils/validation.py:2739: UserWarning: X does not have valid feature names, but LGBMClassifier was fitted with feature names\n",
            "  warnings.warn(\n",
            "2025/08/10 17:09:21 WARNING mlflow.models.model: `artifact_path` is deprecated. Please use `name` instead.\n",
            "\u001b[31m2025/08/10 17:09:27 WARNING mlflow.models.model: Model logged without a signature and input example. Please set `input_example` parameter when logging the model to auto infer the model signature.\u001b[0m\n",
            "[I 2025-08-10 17:09:28,317] Trial 61 finished with value: 0.8206510251532445 and parameters: {'n_estimators': 696, 'learning_rate': 0.08311670920464286, 'max_depth': 14, 'num_leaves': 36, 'min_child_samples': 19, 'colsample_bytree': 0.6382160811625931, 'subsample': 0.9999035165097933, 'reg_alpha': 0.09090631667155015, 'reg_lambda': 0.012022384279345353}. Best is trial 50 with value: 0.8238216021982667.\n"
          ]
        },
        {
          "output_type": "stream",
          "name": "stdout",
          "text": [
            "🏃 View run Trial_61_LightGBM_SMOTE_TFIDF_Trigrams at: http://ec2-52-91-229-41.compute-1.amazonaws.com:5000/#/experiments/639329270342233827/runs/b74a28d4c9ca482f96ac71878e85b420\n",
            "🧪 View experiment at: http://ec2-52-91-229-41.compute-1.amazonaws.com:5000/#/experiments/639329270342233827\n"
          ]
        },
        {
          "output_type": "stream",
          "name": "stderr",
          "text": [
            "/usr/local/lib/python3.11/dist-packages/sklearn/utils/validation.py:2739: UserWarning: X does not have valid feature names, but LGBMClassifier was fitted with feature names\n",
            "  warnings.warn(\n",
            "2025/08/10 17:10:23 WARNING mlflow.models.model: `artifact_path` is deprecated. Please use `name` instead.\n",
            "\u001b[31m2025/08/10 17:10:29 WARNING mlflow.models.model: Model logged without a signature and input example. Please set `input_example` parameter when logging the model to auto infer the model signature.\u001b[0m\n",
            "[I 2025-08-10 17:10:30,200] Trial 62 finished with value: 0.8218135700697526 and parameters: {'n_estimators': 574, 'learning_rate': 0.09366460413526058, 'max_depth': 14, 'num_leaves': 24, 'min_child_samples': 17, 'colsample_bytree': 0.7158452811904532, 'subsample': 0.960960811759001, 'reg_alpha': 0.4339032900226225, 'reg_lambda': 0.02229625671343462}. Best is trial 50 with value: 0.8238216021982667.\n"
          ]
        },
        {
          "output_type": "stream",
          "name": "stdout",
          "text": [
            "🏃 View run Trial_62_LightGBM_SMOTE_TFIDF_Trigrams at: http://ec2-52-91-229-41.compute-1.amazonaws.com:5000/#/experiments/639329270342233827/runs/e38f613135504bc79f5ddc6ae9655a2d\n",
            "🧪 View experiment at: http://ec2-52-91-229-41.compute-1.amazonaws.com:5000/#/experiments/639329270342233827\n"
          ]
        },
        {
          "output_type": "stream",
          "name": "stderr",
          "text": [
            "/usr/local/lib/python3.11/dist-packages/sklearn/utils/validation.py:2739: UserWarning: X does not have valid feature names, but LGBMClassifier was fitted with feature names\n",
            "  warnings.warn(\n",
            "2025/08/10 17:11:23 WARNING mlflow.models.model: `artifact_path` is deprecated. Please use `name` instead.\n",
            "\u001b[31m2025/08/10 17:11:29 WARNING mlflow.models.model: Model logged without a signature and input example. Please set `input_example` parameter when logging the model to auto infer the model signature.\u001b[0m\n",
            "[I 2025-08-10 17:11:30,036] Trial 63 finished with value: 0.820439653350243 and parameters: {'n_estimators': 593, 'learning_rate': 0.09958026175852054, 'max_depth': 14, 'num_leaves': 23, 'min_child_samples': 29, 'colsample_bytree': 0.7132070585337861, 'subsample': 0.9627826837718901, 'reg_alpha': 0.19308736731450463, 'reg_lambda': 0.11155412775288642}. Best is trial 50 with value: 0.8238216021982667.\n"
          ]
        },
        {
          "output_type": "stream",
          "name": "stdout",
          "text": [
            "🏃 View run Trial_63_LightGBM_SMOTE_TFIDF_Trigrams at: http://ec2-52-91-229-41.compute-1.amazonaws.com:5000/#/experiments/639329270342233827/runs/0301405662a4472ba2303df5d27cf04d\n",
            "🧪 View experiment at: http://ec2-52-91-229-41.compute-1.amazonaws.com:5000/#/experiments/639329270342233827\n"
          ]
        },
        {
          "output_type": "stream",
          "name": "stderr",
          "text": [
            "/usr/local/lib/python3.11/dist-packages/sklearn/utils/validation.py:2739: UserWarning: X does not have valid feature names, but LGBMClassifier was fitted with feature names\n",
            "  warnings.warn(\n",
            "2025/08/10 17:12:39 WARNING mlflow.models.model: `artifact_path` is deprecated. Please use `name` instead.\n",
            "\u001b[31m2025/08/10 17:12:46 WARNING mlflow.models.model: Model logged without a signature and input example. Please set `input_example` parameter when logging the model to auto infer the model signature.\u001b[0m\n",
            "[I 2025-08-10 17:12:46,490] Trial 64 finished with value: 0.8210737687592475 and parameters: {'n_estimators': 649, 'learning_rate': 0.06092041503781386, 'max_depth': 15, 'num_leaves': 27, 'min_child_samples': 14, 'colsample_bytree': 0.7393186395474561, 'subsample': 0.9828941537905577, 'reg_alpha': 0.6823706375625713, 'reg_lambda': 0.025067666395022708}. Best is trial 50 with value: 0.8238216021982667.\n"
          ]
        },
        {
          "output_type": "stream",
          "name": "stdout",
          "text": [
            "🏃 View run Trial_64_LightGBM_SMOTE_TFIDF_Trigrams at: http://ec2-52-91-229-41.compute-1.amazonaws.com:5000/#/experiments/639329270342233827/runs/91740014fa1a446e976893b7dacf6adc\n",
            "🧪 View experiment at: http://ec2-52-91-229-41.compute-1.amazonaws.com:5000/#/experiments/639329270342233827\n"
          ]
        },
        {
          "output_type": "stream",
          "name": "stderr",
          "text": [
            "/usr/local/lib/python3.11/dist-packages/sklearn/utils/validation.py:2739: UserWarning: X does not have valid feature names, but LGBMClassifier was fitted with feature names\n",
            "  warnings.warn(\n",
            "2025/08/10 17:13:42 WARNING mlflow.models.model: `artifact_path` is deprecated. Please use `name` instead.\n",
            "\u001b[31m2025/08/10 17:13:49 WARNING mlflow.models.model: Model logged without a signature and input example. Please set `input_example` parameter when logging the model to auto infer the model signature.\u001b[0m\n",
            "[I 2025-08-10 17:13:49,770] Trial 65 finished with value: 0.8116677235256817 and parameters: {'n_estimators': 568, 'learning_rate': 0.028066180794741137, 'max_depth': 13, 'num_leaves': 35, 'min_child_samples': 23, 'colsample_bytree': 0.6682452700616577, 'subsample': 0.9525651276616366, 'reg_alpha': 0.29388736599415577, 'reg_lambda': 0.002976243701826218}. Best is trial 50 with value: 0.8238216021982667.\n"
          ]
        },
        {
          "output_type": "stream",
          "name": "stdout",
          "text": [
            "🏃 View run Trial_65_LightGBM_SMOTE_TFIDF_Trigrams at: http://ec2-52-91-229-41.compute-1.amazonaws.com:5000/#/experiments/639329270342233827/runs/02cdcc6ad9f54713984e76aef89ca205\n",
            "🧪 View experiment at: http://ec2-52-91-229-41.compute-1.amazonaws.com:5000/#/experiments/639329270342233827\n"
          ]
        },
        {
          "output_type": "stream",
          "name": "stderr",
          "text": [
            "/usr/local/lib/python3.11/dist-packages/sklearn/utils/validation.py:2739: UserWarning: X does not have valid feature names, but LGBMClassifier was fitted with feature names\n",
            "  warnings.warn(\n",
            "2025/08/10 17:14:44 WARNING mlflow.models.model: `artifact_path` is deprecated. Please use `name` instead.\n",
            "\u001b[31m2025/08/10 17:14:50 WARNING mlflow.models.model: Model logged without a signature and input example. Please set `input_example` parameter when logging the model to auto infer the model signature.\u001b[0m\n",
            "[I 2025-08-10 17:14:51,042] Trial 66 finished with value: 0.8198055379412387 and parameters: {'n_estimators': 617, 'learning_rate': 0.0839645510971554, 'max_depth': 14, 'num_leaves': 21, 'min_child_samples': 17, 'colsample_bytree': 0.6992837405548905, 'subsample': 0.9791028711861428, 'reg_alpha': 0.134698255058744, 'reg_lambda': 0.04576000738513768}. Best is trial 50 with value: 0.8238216021982667.\n"
          ]
        },
        {
          "output_type": "stream",
          "name": "stdout",
          "text": [
            "🏃 View run Trial_66_LightGBM_SMOTE_TFIDF_Trigrams at: http://ec2-52-91-229-41.compute-1.amazonaws.com:5000/#/experiments/639329270342233827/runs/a832b315316d49988d8b88ea309b645c\n",
            "🧪 View experiment at: http://ec2-52-91-229-41.compute-1.amazonaws.com:5000/#/experiments/639329270342233827\n"
          ]
        },
        {
          "output_type": "stream",
          "name": "stderr",
          "text": [
            "/usr/local/lib/python3.11/dist-packages/sklearn/utils/validation.py:2739: UserWarning: X does not have valid feature names, but LGBMClassifier was fitted with feature names\n",
            "  warnings.warn(\n",
            "2025/08/10 17:16:22 WARNING mlflow.models.model: `artifact_path` is deprecated. Please use `name` instead.\n",
            "\u001b[31m2025/08/10 17:16:29 WARNING mlflow.models.model: Model logged without a signature and input example. Please set `input_example` parameter when logging the model to auto infer the model signature.\u001b[0m\n",
            "[I 2025-08-10 17:16:29,540] Trial 67 finished with value: 0.8203339674487423 and parameters: {'n_estimators': 666, 'learning_rate': 0.046270400366017976, 'max_depth': 15, 'num_leaves': 44, 'min_child_samples': 13, 'colsample_bytree': 0.5991383627112605, 'subsample': 0.8964366258796922, 'reg_alpha': 2.0927197222296363, 'reg_lambda': 0.006745832014273227}. Best is trial 50 with value: 0.8238216021982667.\n"
          ]
        },
        {
          "output_type": "stream",
          "name": "stdout",
          "text": [
            "🏃 View run Trial_67_LightGBM_SMOTE_TFIDF_Trigrams at: http://ec2-52-91-229-41.compute-1.amazonaws.com:5000/#/experiments/639329270342233827/runs/71840bca2fc0446db896af1d5d70b487\n",
            "🧪 View experiment at: http://ec2-52-91-229-41.compute-1.amazonaws.com:5000/#/experiments/639329270342233827\n"
          ]
        },
        {
          "output_type": "stream",
          "name": "stderr",
          "text": [
            "/usr/local/lib/python3.11/dist-packages/sklearn/utils/validation.py:2739: UserWarning: X does not have valid feature names, but LGBMClassifier was fitted with feature names\n",
            "  warnings.warn(\n",
            "2025/08/10 17:17:20 WARNING mlflow.models.model: `artifact_path` is deprecated. Please use `name` instead.\n",
            "\u001b[31m2025/08/10 17:17:26 WARNING mlflow.models.model: Model logged without a signature and input example. Please set `input_example` parameter when logging the model to auto infer the model signature.\u001b[0m\n",
            "[I 2025-08-10 17:17:26,654] Trial 68 finished with value: 0.8171633904037201 and parameters: {'n_estimators': 467, 'learning_rate': 0.05235292788905938, 'max_depth': 14, 'num_leaves': 53, 'min_child_samples': 20, 'colsample_bytree': 0.6819114804252687, 'subsample': 0.9614356209722669, 'reg_alpha': 0.9765560586684986, 'reg_lambda': 0.00015549853477253938}. Best is trial 50 with value: 0.8238216021982667.\n"
          ]
        },
        {
          "output_type": "stream",
          "name": "stdout",
          "text": [
            "🏃 View run Trial_68_LightGBM_SMOTE_TFIDF_Trigrams at: http://ec2-52-91-229-41.compute-1.amazonaws.com:5000/#/experiments/639329270342233827/runs/ab3d69b033ec42b7a5c8bae4596a68bd\n",
            "🧪 View experiment at: http://ec2-52-91-229-41.compute-1.amazonaws.com:5000/#/experiments/639329270342233827\n"
          ]
        },
        {
          "output_type": "stream",
          "name": "stderr",
          "text": [
            "/usr/local/lib/python3.11/dist-packages/sklearn/utils/validation.py:2739: UserWarning: X does not have valid feature names, but LGBMClassifier was fitted with feature names\n",
            "  warnings.warn(\n",
            "2025/08/10 17:18:31 WARNING mlflow.models.model: `artifact_path` is deprecated. Please use `name` instead.\n",
            "\u001b[31m2025/08/10 17:18:37 WARNING mlflow.models.model: Model logged without a signature and input example. Please set `input_example` parameter when logging the model to auto infer the model signature.\u001b[0m\n",
            "[I 2025-08-10 17:18:37,912] Trial 69 finished with value: 0.7083069118579581 and parameters: {'n_estimators': 565, 'learning_rate': 0.0002670741125384294, 'max_depth': 15, 'num_leaves': 27, 'min_child_samples': 28, 'colsample_bytree': 0.6477149745638613, 'subsample': 0.9301977879646468, 'reg_alpha': 0.0680589456822772, 'reg_lambda': 0.3164967369479394}. Best is trial 50 with value: 0.8238216021982667.\n"
          ]
        },
        {
          "output_type": "stream",
          "name": "stdout",
          "text": [
            "🏃 View run Trial_69_LightGBM_SMOTE_TFIDF_Trigrams at: http://ec2-52-91-229-41.compute-1.amazonaws.com:5000/#/experiments/639329270342233827/runs/0a016c7a1d2f49fd943133a3c7ed223a\n",
            "🧪 View experiment at: http://ec2-52-91-229-41.compute-1.amazonaws.com:5000/#/experiments/639329270342233827\n"
          ]
        },
        {
          "output_type": "stream",
          "name": "stderr",
          "text": [
            "/usr/local/lib/python3.11/dist-packages/sklearn/utils/validation.py:2739: UserWarning: X does not have valid feature names, but LGBMClassifier was fitted with feature names\n",
            "  warnings.warn(\n",
            "2025/08/10 17:19:42 WARNING mlflow.models.model: `artifact_path` is deprecated. Please use `name` instead.\n",
            "\u001b[31m2025/08/10 17:19:48 WARNING mlflow.models.model: Model logged without a signature and input example. Please set `input_example` parameter when logging the model to auto infer the model signature.\u001b[0m\n",
            "[I 2025-08-10 17:19:49,645] Trial 70 finished with value: 0.8158951595857112 and parameters: {'n_estimators': 540, 'learning_rate': 0.03662522493944546, 'max_depth': 13, 'num_leaves': 64, 'min_child_samples': 12, 'colsample_bytree': 0.628027453524562, 'subsample': 0.71415554719698, 'reg_alpha': 0.541610181540362, 'reg_lambda': 0.14425365305701568}. Best is trial 50 with value: 0.8238216021982667.\n"
          ]
        },
        {
          "output_type": "stream",
          "name": "stdout",
          "text": [
            "🏃 View run Trial_70_LightGBM_SMOTE_TFIDF_Trigrams at: http://ec2-52-91-229-41.compute-1.amazonaws.com:5000/#/experiments/639329270342233827/runs/606767da29354623a4b47bee98fa8498\n",
            "🧪 View experiment at: http://ec2-52-91-229-41.compute-1.amazonaws.com:5000/#/experiments/639329270342233827\n"
          ]
        },
        {
          "output_type": "stream",
          "name": "stderr",
          "text": [
            "/usr/local/lib/python3.11/dist-packages/sklearn/utils/validation.py:2739: UserWarning: X does not have valid feature names, but LGBMClassifier was fitted with feature names\n",
            "  warnings.warn(\n",
            "2025/08/10 17:20:54 WARNING mlflow.models.model: `artifact_path` is deprecated. Please use `name` instead.\n",
            "\u001b[31m2025/08/10 17:20:59 WARNING mlflow.models.model: Model logged without a signature and input example. Please set `input_example` parameter when logging the model to auto infer the model signature.\u001b[0m\n",
            "[I 2025-08-10 17:21:00,184] Trial 71 finished with value: 0.8191714225322342 and parameters: {'n_estimators': 646, 'learning_rate': 0.06321008117356293, 'max_depth': 15, 'num_leaves': 26, 'min_child_samples': 15, 'colsample_bytree': 0.7405212530950092, 'subsample': 0.9873954234616261, 'reg_alpha': 3.9522667643945133, 'reg_lambda': 0.02684359762726736}. Best is trial 50 with value: 0.8238216021982667.\n"
          ]
        },
        {
          "output_type": "stream",
          "name": "stdout",
          "text": [
            "🏃 View run Trial_71_LightGBM_SMOTE_TFIDF_Trigrams at: http://ec2-52-91-229-41.compute-1.amazonaws.com:5000/#/experiments/639329270342233827/runs/c55b65b6da6b4166bcc2ebeeefd3859a\n",
            "🧪 View experiment at: http://ec2-52-91-229-41.compute-1.amazonaws.com:5000/#/experiments/639329270342233827\n"
          ]
        },
        {
          "output_type": "stream",
          "name": "stderr",
          "text": [
            "/usr/local/lib/python3.11/dist-packages/sklearn/utils/validation.py:2739: UserWarning: X does not have valid feature names, but LGBMClassifier was fitted with feature names\n",
            "  warnings.warn(\n",
            "2025/08/10 17:22:12 WARNING mlflow.models.model: `artifact_path` is deprecated. Please use `name` instead.\n",
            "\u001b[31m2025/08/10 17:22:18 WARNING mlflow.models.model: Model logged without a signature and input example. Please set `input_example` parameter when logging the model to auto infer the model signature.\u001b[0m\n",
            "[I 2025-08-10 17:22:19,045] Trial 72 finished with value: 0.8245614035087719 and parameters: {'n_estimators': 600, 'learning_rate': 0.062309568178026284, 'max_depth': 15, 'num_leaves': 38, 'min_child_samples': 10, 'colsample_bytree': 0.73549102258874, 'subsample': 0.9814309003644333, 'reg_alpha': 0.7198573111515623, 'reg_lambda': 0.021310935692598447}. Best is trial 72 with value: 0.8245614035087719.\n"
          ]
        },
        {
          "output_type": "stream",
          "name": "stdout",
          "text": [
            "🏃 View run Trial_72_LightGBM_SMOTE_TFIDF_Trigrams at: http://ec2-52-91-229-41.compute-1.amazonaws.com:5000/#/experiments/639329270342233827/runs/27f2f075f1f244e28b426bdf5943f80a\n",
            "🧪 View experiment at: http://ec2-52-91-229-41.compute-1.amazonaws.com:5000/#/experiments/639329270342233827\n"
          ]
        },
        {
          "output_type": "stream",
          "name": "stderr",
          "text": [
            "/usr/local/lib/python3.11/dist-packages/sklearn/utils/validation.py:2739: UserWarning: X does not have valid feature names, but LGBMClassifier was fitted with feature names\n",
            "  warnings.warn(\n",
            "2025/08/10 17:23:26 WARNING mlflow.models.model: `artifact_path` is deprecated. Please use `name` instead.\n",
            "\u001b[31m2025/08/10 17:23:32 WARNING mlflow.models.model: Model logged without a signature and input example. Please set `input_example` parameter when logging the model to auto infer the model signature.\u001b[0m\n",
            "[I 2025-08-10 17:23:32,726] Trial 73 finished with value: 0.8238216021982667 and parameters: {'n_estimators': 604, 'learning_rate': 0.08057733221592968, 'max_depth': 14, 'num_leaves': 37, 'min_child_samples': 11, 'colsample_bytree': 0.7573642671444092, 'subsample': 0.9449199459923543, 'reg_alpha': 0.18246654600566037, 'reg_lambda': 0.019734623021270725}. Best is trial 72 with value: 0.8245614035087719.\n"
          ]
        },
        {
          "output_type": "stream",
          "name": "stdout",
          "text": [
            "🏃 View run Trial_73_LightGBM_SMOTE_TFIDF_Trigrams at: http://ec2-52-91-229-41.compute-1.amazonaws.com:5000/#/experiments/639329270342233827/runs/92b3a112a93649c98c0be0d5f153e89d\n",
            "🧪 View experiment at: http://ec2-52-91-229-41.compute-1.amazonaws.com:5000/#/experiments/639329270342233827\n"
          ]
        },
        {
          "output_type": "stream",
          "name": "stderr",
          "text": [
            "/usr/local/lib/python3.11/dist-packages/sklearn/utils/validation.py:2739: UserWarning: X does not have valid feature names, but LGBMClassifier was fitted with feature names\n",
            "  warnings.warn(\n",
            "2025/08/10 17:24:43 WARNING mlflow.models.model: `artifact_path` is deprecated. Please use `name` instead.\n",
            "\u001b[31m2025/08/10 17:24:49 WARNING mlflow.models.model: Model logged without a signature and input example. Please set `input_example` parameter when logging the model to auto infer the model signature.\u001b[0m\n",
            "[I 2025-08-10 17:24:50,235] Trial 74 finished with value: 0.8236102303952653 and parameters: {'n_estimators': 607, 'learning_rate': 0.07390396494898263, 'max_depth': 15, 'num_leaves': 37, 'min_child_samples': 11, 'colsample_bytree': 0.7524534930412101, 'subsample': 0.9464342330670268, 'reg_alpha': 0.10628912568308449, 'reg_lambda': 0.03268042978223274}. Best is trial 72 with value: 0.8245614035087719.\n"
          ]
        },
        {
          "output_type": "stream",
          "name": "stdout",
          "text": [
            "🏃 View run Trial_74_LightGBM_SMOTE_TFIDF_Trigrams at: http://ec2-52-91-229-41.compute-1.amazonaws.com:5000/#/experiments/639329270342233827/runs/c2c93013a7f64052bbc2d97289bec756\n",
            "🧪 View experiment at: http://ec2-52-91-229-41.compute-1.amazonaws.com:5000/#/experiments/639329270342233827\n"
          ]
        },
        {
          "output_type": "stream",
          "name": "stderr",
          "text": [
            "/usr/local/lib/python3.11/dist-packages/sklearn/utils/validation.py:2739: UserWarning: X does not have valid feature names, but LGBMClassifier was fitted with feature names\n",
            "  warnings.warn(\n",
            "2025/08/10 17:26:08 WARNING mlflow.models.model: `artifact_path` is deprecated. Please use `name` instead.\n",
            "\u001b[31m2025/08/10 17:26:14 WARNING mlflow.models.model: Model logged without a signature and input example. Please set `input_example` parameter when logging the model to auto infer the model signature.\u001b[0m\n",
            "[I 2025-08-10 17:26:15,003] Trial 75 finished with value: 0.8229761149862609 and parameters: {'n_estimators': 627, 'learning_rate': 0.052834203033818083, 'max_depth': 15, 'num_leaves': 39, 'min_child_samples': 10, 'colsample_bytree': 0.7597992405204422, 'subsample': 0.9401746214300557, 'reg_alpha': 0.16752319958848222, 'reg_lambda': 0.009796877913408893}. Best is trial 72 with value: 0.8245614035087719.\n"
          ]
        },
        {
          "output_type": "stream",
          "name": "stdout",
          "text": [
            "🏃 View run Trial_75_LightGBM_SMOTE_TFIDF_Trigrams at: http://ec2-52-91-229-41.compute-1.amazonaws.com:5000/#/experiments/639329270342233827/runs/65a2b5f2948e47f09b29bb09d69215c5\n",
            "🧪 View experiment at: http://ec2-52-91-229-41.compute-1.amazonaws.com:5000/#/experiments/639329270342233827\n"
          ]
        },
        {
          "output_type": "stream",
          "name": "stderr",
          "text": [
            "/usr/local/lib/python3.11/dist-packages/sklearn/utils/validation.py:2739: UserWarning: X does not have valid feature names, but LGBMClassifier was fitted with feature names\n",
            "  warnings.warn(\n",
            "2025/08/10 17:27:42 WARNING mlflow.models.model: `artifact_path` is deprecated. Please use `name` instead.\n",
            "\u001b[31m2025/08/10 17:27:48 WARNING mlflow.models.model: Model logged without a signature and input example. Please set `input_example` parameter when logging the model to auto infer the model signature.\u001b[0m\n",
            "[I 2025-08-10 17:27:49,041] Trial 76 finished with value: 0.8217078841682519 and parameters: {'n_estimators': 681, 'learning_rate': 0.04929191488036448, 'max_depth': 15, 'num_leaves': 48, 'min_child_samples': 10, 'colsample_bytree': 0.7520900229126074, 'subsample': 0.9407841888314997, 'reg_alpha': 0.17652951053324548, 'reg_lambda': 0.0046371365372177694}. Best is trial 72 with value: 0.8245614035087719.\n"
          ]
        },
        {
          "output_type": "stream",
          "name": "stdout",
          "text": [
            "🏃 View run Trial_76_LightGBM_SMOTE_TFIDF_Trigrams at: http://ec2-52-91-229-41.compute-1.amazonaws.com:5000/#/experiments/639329270342233827/runs/1096baa85d814a00acb8715d47c7a93c\n",
            "🧪 View experiment at: http://ec2-52-91-229-41.compute-1.amazonaws.com:5000/#/experiments/639329270342233827\n"
          ]
        },
        {
          "output_type": "stream",
          "name": "stderr",
          "text": [
            "/usr/local/lib/python3.11/dist-packages/sklearn/utils/validation.py:2739: UserWarning: X does not have valid feature names, but LGBMClassifier was fitted with feature names\n",
            "  warnings.warn(\n",
            "2025/08/10 17:29:15 WARNING mlflow.models.model: `artifact_path` is deprecated. Please use `name` instead.\n",
            "\u001b[31m2025/08/10 17:29:21 WARNING mlflow.models.model: Model logged without a signature and input example. Please set `input_example` parameter when logging the model to auto infer the model signature.\u001b[0m\n",
            "[I 2025-08-10 17:29:22,666] Trial 77 finished with value: 0.8220249418727542 and parameters: {'n_estimators': 716, 'learning_rate': 0.0570180321324909, 'max_depth': 15, 'num_leaves': 37, 'min_child_samples': 10, 'colsample_bytree': 0.7620108842755419, 'subsample': 0.9219824735574806, 'reg_alpha': 0.11795050340496528, 'reg_lambda': 0.010181578896673501}. Best is trial 72 with value: 0.8245614035087719.\n"
          ]
        },
        {
          "output_type": "stream",
          "name": "stdout",
          "text": [
            "🏃 View run Trial_77_LightGBM_SMOTE_TFIDF_Trigrams at: http://ec2-52-91-229-41.compute-1.amazonaws.com:5000/#/experiments/639329270342233827/runs/27ba2a3f589f469b9c40dd947e8104e7\n",
            "🧪 View experiment at: http://ec2-52-91-229-41.compute-1.amazonaws.com:5000/#/experiments/639329270342233827\n"
          ]
        },
        {
          "output_type": "stream",
          "name": "stderr",
          "text": [
            "/usr/local/lib/python3.11/dist-packages/sklearn/utils/validation.py:2739: UserWarning: X does not have valid feature names, but LGBMClassifier was fitted with feature names\n",
            "  warnings.warn(\n",
            "2025/08/10 17:30:56 WARNING mlflow.models.model: `artifact_path` is deprecated. Please use `name` instead.\n",
            "\u001b[31m2025/08/10 17:31:03 WARNING mlflow.models.model: Model logged without a signature and input example. Please set `input_example` parameter when logging the model to auto infer the model signature.\u001b[0m\n",
            "[I 2025-08-10 17:31:04,502] Trial 78 finished with value: 0.8203339674487423 and parameters: {'n_estimators': 763, 'learning_rate': 0.02970244782973361, 'max_depth': 15, 'num_leaves': 38, 'min_child_samples': 12, 'colsample_bytree': 0.7579336003971174, 'subsample': 0.8671240690646618, 'reg_alpha': 0.04588598172124907, 'reg_lambda': 0.010422767411848966}. Best is trial 72 with value: 0.8245614035087719.\n"
          ]
        },
        {
          "output_type": "stream",
          "name": "stdout",
          "text": [
            "🏃 View run Trial_78_LightGBM_SMOTE_TFIDF_Trigrams at: http://ec2-52-91-229-41.compute-1.amazonaws.com:5000/#/experiments/639329270342233827/runs/eaa20644ece24336bf86a708cec5e2a9\n",
            "🧪 View experiment at: http://ec2-52-91-229-41.compute-1.amazonaws.com:5000/#/experiments/639329270342233827\n"
          ]
        },
        {
          "output_type": "stream",
          "name": "stderr",
          "text": [
            "/usr/local/lib/python3.11/dist-packages/sklearn/utils/validation.py:2739: UserWarning: X does not have valid feature names, but LGBMClassifier was fitted with feature names\n",
            "  warnings.warn(\n",
            "2025/08/10 17:32:30 WARNING mlflow.models.model: `artifact_path` is deprecated. Please use `name` instead.\n",
            "\u001b[31m2025/08/10 17:32:36 WARNING mlflow.models.model: Model logged without a signature and input example. Please set `input_example` parameter when logging the model to auto infer the model signature.\u001b[0m\n",
            "[I 2025-08-10 17:32:37,166] Trial 79 finished with value: 0.8221306277742549 and parameters: {'n_estimators': 727, 'learning_rate': 0.055593885230947715, 'max_depth': 15, 'num_leaves': 40, 'min_child_samples': 10, 'colsample_bytree': 0.7246997926161453, 'subsample': 0.9195023283091199, 'reg_alpha': 0.20729173472238013, 'reg_lambda': 0.0012417741139270526}. Best is trial 72 with value: 0.8245614035087719.\n"
          ]
        },
        {
          "output_type": "stream",
          "name": "stdout",
          "text": [
            "🏃 View run Trial_79_LightGBM_SMOTE_TFIDF_Trigrams at: http://ec2-52-91-229-41.compute-1.amazonaws.com:5000/#/experiments/639329270342233827/runs/9ff693c61d6b415c9738dcaf4f9d8628\n",
            "🧪 View experiment at: http://ec2-52-91-229-41.compute-1.amazonaws.com:5000/#/experiments/639329270342233827\n"
          ]
        },
        {
          "output_type": "stream",
          "name": "stderr",
          "text": [
            "/usr/local/lib/python3.11/dist-packages/sklearn/utils/validation.py:2739: UserWarning: X does not have valid feature names, but LGBMClassifier was fitted with feature names\n",
            "  warnings.warn(\n",
            "2025/08/10 17:33:00 WARNING mlflow.models.model: `artifact_path` is deprecated. Please use `name` instead.\n",
            "\u001b[31m2025/08/10 17:33:06 WARNING mlflow.models.model: Model logged without a signature and input example. Please set `input_example` parameter when logging the model to auto infer the model signature.\u001b[0m\n",
            "[I 2025-08-10 17:33:07,272] Trial 80 finished with value: 0.7956034664975692 and parameters: {'n_estimators': 518, 'learning_rate': 0.04026066342933975, 'max_depth': 5, 'num_leaves': 40, 'min_child_samples': 15, 'colsample_bytree': 0.7243403166138033, 'subsample': 0.941961712045677, 'reg_alpha': 0.1991287597397261, 'reg_lambda': 0.0005362469768794142}. Best is trial 72 with value: 0.8245614035087719.\n"
          ]
        },
        {
          "output_type": "stream",
          "name": "stdout",
          "text": [
            "🏃 View run Trial_80_LightGBM_SMOTE_TFIDF_Trigrams at: http://ec2-52-91-229-41.compute-1.amazonaws.com:5000/#/experiments/639329270342233827/runs/b9d534c6942549fea45e3a89299b6815\n",
            "🧪 View experiment at: http://ec2-52-91-229-41.compute-1.amazonaws.com:5000/#/experiments/639329270342233827\n"
          ]
        },
        {
          "output_type": "stream",
          "name": "stderr",
          "text": [
            "/usr/local/lib/python3.11/dist-packages/sklearn/utils/validation.py:2739: UserWarning: X does not have valid feature names, but LGBMClassifier was fitted with feature names\n",
            "  warnings.warn(\n",
            "2025/08/10 17:34:25 WARNING mlflow.models.model: `artifact_path` is deprecated. Please use `name` instead.\n",
            "\u001b[31m2025/08/10 17:34:30 WARNING mlflow.models.model: Model logged without a signature and input example. Please set `input_example` parameter when logging the model to auto infer the model signature.\u001b[0m\n",
            "[I 2025-08-10 17:34:31,749] Trial 81 finished with value: 0.8221306277742549 and parameters: {'n_estimators': 632, 'learning_rate': 0.058798422260680876, 'max_depth': 15, 'num_leaves': 47, 'min_child_samples': 10, 'colsample_bytree': 0.7020007270868306, 'subsample': 0.9195499797337564, 'reg_alpha': 0.12660150578627113, 'reg_lambda': 0.0010341919330364067}. Best is trial 72 with value: 0.8245614035087719.\n"
          ]
        },
        {
          "output_type": "stream",
          "name": "stdout",
          "text": [
            "🏃 View run Trial_81_LightGBM_SMOTE_TFIDF_Trigrams at: http://ec2-52-91-229-41.compute-1.amazonaws.com:5000/#/experiments/639329270342233827/runs/270c7298aba44241a0ca255c3fd25488\n",
            "🧪 View experiment at: http://ec2-52-91-229-41.compute-1.amazonaws.com:5000/#/experiments/639329270342233827\n"
          ]
        },
        {
          "output_type": "stream",
          "name": "stderr",
          "text": [
            "/usr/local/lib/python3.11/dist-packages/sklearn/utils/validation.py:2739: UserWarning: X does not have valid feature names, but LGBMClassifier was fitted with feature names\n",
            "  warnings.warn(\n",
            "2025/08/10 17:35:45 WARNING mlflow.models.model: `artifact_path` is deprecated. Please use `name` instead.\n",
            "\u001b[31m2025/08/10 17:35:51 WARNING mlflow.models.model: Model logged without a signature and input example. Please set `input_example` parameter when logging the model to auto infer the model signature.\u001b[0m\n",
            "[I 2025-08-10 17:35:52,506] Trial 82 finished with value: 0.8224476854787571 and parameters: {'n_estimators': 627, 'learning_rate': 0.08842298082354205, 'max_depth': 15, 'num_leaves': 48, 'min_child_samples': 10, 'colsample_bytree': 0.682499621018449, 'subsample': 0.8910811469300806, 'reg_alpha': 0.14935844197412476, 'reg_lambda': 0.001100100666384023}. Best is trial 72 with value: 0.8245614035087719.\n"
          ]
        },
        {
          "output_type": "stream",
          "name": "stdout",
          "text": [
            "🏃 View run Trial_82_LightGBM_SMOTE_TFIDF_Trigrams at: http://ec2-52-91-229-41.compute-1.amazonaws.com:5000/#/experiments/639329270342233827/runs/cb7e34530bb44a248332be1a992d64eb\n",
            "🧪 View experiment at: http://ec2-52-91-229-41.compute-1.amazonaws.com:5000/#/experiments/639329270342233827\n"
          ]
        },
        {
          "output_type": "stream",
          "name": "stderr",
          "text": [
            "/usr/local/lib/python3.11/dist-packages/sklearn/utils/validation.py:2739: UserWarning: X does not have valid feature names, but LGBMClassifier was fitted with feature names\n",
            "  warnings.warn(\n",
            "2025/08/10 17:36:49 WARNING mlflow.models.model: `artifact_path` is deprecated. Please use `name` instead.\n",
            "\u001b[31m2025/08/10 17:36:55 WARNING mlflow.models.model: Model logged without a signature and input example. Please set `input_example` parameter when logging the model to auto infer the model signature.\u001b[0m\n",
            "[I 2025-08-10 17:36:56,447] Trial 83 finished with value: 0.8183259353202282 and parameters: {'n_estimators': 488, 'learning_rate': 0.09366545201499259, 'max_depth': 15, 'num_leaves': 59, 'min_child_samples': 16, 'colsample_bytree': 0.6884554147568055, 'subsample': 0.9023867300504229, 'reg_alpha': 0.08217097282346845, 'reg_lambda': 0.0014997023385830614}. Best is trial 72 with value: 0.8245614035087719.\n"
          ]
        },
        {
          "output_type": "stream",
          "name": "stdout",
          "text": [
            "🏃 View run Trial_83_LightGBM_SMOTE_TFIDF_Trigrams at: http://ec2-52-91-229-41.compute-1.amazonaws.com:5000/#/experiments/639329270342233827/runs/e087bbc539d149c7904243b44a6fc64f\n",
            "🧪 View experiment at: http://ec2-52-91-229-41.compute-1.amazonaws.com:5000/#/experiments/639329270342233827\n"
          ]
        },
        {
          "output_type": "stream",
          "name": "stderr",
          "text": [
            "/usr/local/lib/python3.11/dist-packages/sklearn/utils/validation.py:2739: UserWarning: X does not have valid feature names, but LGBMClassifier was fitted with feature names\n",
            "  warnings.warn(\n",
            "2025/08/10 17:37:52 WARNING mlflow.models.model: `artifact_path` is deprecated. Please use `name` instead.\n",
            "\u001b[31m2025/08/10 17:37:58 WARNING mlflow.models.model: Model logged without a signature and input example. Please set `input_example` parameter when logging the model to auto infer the model signature.\u001b[0m\n",
            "[I 2025-08-10 17:37:58,557] Trial 84 finished with value: 0.8119847812301839 and parameters: {'n_estimators': 655, 'learning_rate': 0.08295217640582811, 'max_depth': 15, 'num_leaves': 44, 'min_child_samples': 87, 'colsample_bytree': 0.6659208963566591, 'subsample': 0.8844033481109896, 'reg_alpha': 0.2479668021078005, 'reg_lambda': 0.00036227567160235355}. Best is trial 72 with value: 0.8245614035087719.\n"
          ]
        },
        {
          "output_type": "stream",
          "name": "stdout",
          "text": [
            "🏃 View run Trial_84_LightGBM_SMOTE_TFIDF_Trigrams at: http://ec2-52-91-229-41.compute-1.amazonaws.com:5000/#/experiments/639329270342233827/runs/c89b076d28b74bbc86969f73ef527b4a\n",
            "🧪 View experiment at: http://ec2-52-91-229-41.compute-1.amazonaws.com:5000/#/experiments/639329270342233827\n"
          ]
        },
        {
          "output_type": "stream",
          "name": "stderr",
          "text": [
            "/usr/local/lib/python3.11/dist-packages/sklearn/utils/validation.py:2739: UserWarning: X does not have valid feature names, but LGBMClassifier was fitted with feature names\n",
            "  warnings.warn(\n",
            "2025/08/10 17:39:02 WARNING mlflow.models.model: `artifact_path` is deprecated. Please use `name` instead.\n",
            "\u001b[31m2025/08/10 17:39:09 WARNING mlflow.models.model: Model logged without a signature and input example. Please set `input_example` parameter when logging the model to auto infer the model signature.\u001b[0m\n",
            "[I 2025-08-10 17:39:09,472] Trial 85 finished with value: 0.8206510251532445 and parameters: {'n_estimators': 585, 'learning_rate': 0.05114478847979904, 'max_depth': 14, 'num_leaves': 34, 'min_child_samples': 12, 'colsample_bytree': 0.7284527829471341, 'subsample': 0.9518426220789458, 'reg_alpha': 0.027199123388525936, 'reg_lambda': 0.0003360698999457575}. Best is trial 72 with value: 0.8245614035087719.\n"
          ]
        },
        {
          "output_type": "stream",
          "name": "stdout",
          "text": [
            "🏃 View run Trial_85_LightGBM_SMOTE_TFIDF_Trigrams at: http://ec2-52-91-229-41.compute-1.amazonaws.com:5000/#/experiments/639329270342233827/runs/3440a4a8d26546a58d000126504e906d\n",
            "🧪 View experiment at: http://ec2-52-91-229-41.compute-1.amazonaws.com:5000/#/experiments/639329270342233827\n"
          ]
        },
        {
          "output_type": "stream",
          "name": "stderr",
          "text": [
            "/usr/local/lib/python3.11/dist-packages/sklearn/utils/validation.py:2739: UserWarning: X does not have valid feature names, but LGBMClassifier was fitted with feature names\n",
            "  warnings.warn(\n",
            "2025/08/10 17:40:10 WARNING mlflow.models.model: `artifact_path` is deprecated. Please use `name` instead.\n",
            "\u001b[31m2025/08/10 17:40:16 WARNING mlflow.models.model: Model logged without a signature and input example. Please set `input_example` parameter when logging the model to auto infer the model signature.\u001b[0m\n",
            "[I 2025-08-10 17:40:17,066] Trial 86 finished with value: 0.8167406467977172 and parameters: {'n_estimators': 553, 'learning_rate': 0.04047593844063914, 'max_depth': 13, 'num_leaves': 51, 'min_child_samples': 15, 'colsample_bytree': 0.6556670861947915, 'subsample': 0.8275693180355195, 'reg_alpha': 0.16046681427280915, 'reg_lambda': 0.0008448058090912126}. Best is trial 72 with value: 0.8245614035087719.\n"
          ]
        },
        {
          "output_type": "stream",
          "name": "stdout",
          "text": [
            "🏃 View run Trial_86_LightGBM_SMOTE_TFIDF_Trigrams at: http://ec2-52-91-229-41.compute-1.amazonaws.com:5000/#/experiments/639329270342233827/runs/c65333b01b77441a830a018cf40018d2\n",
            "🧪 View experiment at: http://ec2-52-91-229-41.compute-1.amazonaws.com:5000/#/experiments/639329270342233827\n"
          ]
        },
        {
          "output_type": "stream",
          "name": "stderr",
          "text": [
            "/usr/local/lib/python3.11/dist-packages/sklearn/utils/validation.py:2739: UserWarning: X does not have valid feature names, but LGBMClassifier was fitted with feature names\n",
            "  warnings.warn(\n",
            "2025/08/10 17:41:53 WARNING mlflow.models.model: `artifact_path` is deprecated. Please use `name` instead.\n",
            "\u001b[31m2025/08/10 17:41:59 WARNING mlflow.models.model: Model logged without a signature and input example. Please set `input_example` parameter when logging the model to auto infer the model signature.\u001b[0m\n",
            "[I 2025-08-10 17:42:00,194] Trial 87 finished with value: 0.8195941661382372 and parameters: {'n_estimators': 604, 'learning_rate': 0.03418098275563244, 'max_depth': 15, 'num_leaves': 77, 'min_child_samples': 10, 'colsample_bytree': 0.7742228714611138, 'subsample': 0.8953529935812492, 'reg_alpha': 0.04923644431542074, 'reg_lambda': 0.07700242216120587}. Best is trial 72 with value: 0.8245614035087719.\n"
          ]
        },
        {
          "output_type": "stream",
          "name": "stdout",
          "text": [
            "🏃 View run Trial_87_LightGBM_SMOTE_TFIDF_Trigrams at: http://ec2-52-91-229-41.compute-1.amazonaws.com:5000/#/experiments/639329270342233827/runs/bd9046b0e7d94d79b375d98f0701b871\n",
            "🧪 View experiment at: http://ec2-52-91-229-41.compute-1.amazonaws.com:5000/#/experiments/639329270342233827\n"
          ]
        },
        {
          "output_type": "stream",
          "name": "stderr",
          "text": [
            "/usr/local/lib/python3.11/dist-packages/sklearn/utils/validation.py:2739: UserWarning: X does not have valid feature names, but LGBMClassifier was fitted with feature names\n",
            "  warnings.warn(\n",
            "2025/08/10 17:42:46 WARNING mlflow.models.model: `artifact_path` is deprecated. Please use `name` instead.\n",
            "\u001b[31m2025/08/10 17:42:52 WARNING mlflow.models.model: Model logged without a signature and input example. Please set `input_example` parameter when logging the model to auto infer the model signature.\u001b[0m\n",
            "[I 2025-08-10 17:42:52,624] Trial 88 finished with value: 0.8207567110547453 and parameters: {'n_estimators': 429, 'learning_rate': 0.0843255901126854, 'max_depth': 14, 'num_leaves': 39, 'min_child_samples': 17, 'colsample_bytree': 0.6848507700649052, 'subsample': 0.9434732458478683, 'reg_alpha': 0.48387269834558355, 'reg_lambda': 0.0034699280519979326}. Best is trial 72 with value: 0.8245614035087719.\n"
          ]
        },
        {
          "output_type": "stream",
          "name": "stdout",
          "text": [
            "🏃 View run Trial_88_LightGBM_SMOTE_TFIDF_Trigrams at: http://ec2-52-91-229-41.compute-1.amazonaws.com:5000/#/experiments/639329270342233827/runs/336114ab4c8a421ab6603e8225a1f568\n",
            "🧪 View experiment at: http://ec2-52-91-229-41.compute-1.amazonaws.com:5000/#/experiments/639329270342233827\n"
          ]
        },
        {
          "output_type": "stream",
          "name": "stderr",
          "text": [
            "/usr/local/lib/python3.11/dist-packages/sklearn/utils/validation.py:2739: UserWarning: X does not have valid feature names, but LGBMClassifier was fitted with feature names\n",
            "  warnings.warn(\n",
            "2025/08/10 17:44:38 WARNING mlflow.models.model: `artifact_path` is deprecated. Please use `name` instead.\n",
            "\u001b[31m2025/08/10 17:44:44 WARNING mlflow.models.model: Model logged without a signature and input example. Please set `input_example` parameter when logging the model to auto infer the model signature.\u001b[0m\n",
            "[I 2025-08-10 17:44:45,141] Trial 89 finished with value: 0.7554428239272881 and parameters: {'n_estimators': 738, 'learning_rate': 0.0037732617237032145, 'max_depth': 15, 'num_leaves': 34, 'min_child_samples': 12, 'colsample_bytree': 0.798595544383951, 'subsample': 0.6662240332678604, 'reg_alpha': 0.7194152351010611, 'reg_lambda': 0.007543249644643435}. Best is trial 72 with value: 0.8245614035087719.\n"
          ]
        },
        {
          "output_type": "stream",
          "name": "stdout",
          "text": [
            "🏃 View run Trial_89_LightGBM_SMOTE_TFIDF_Trigrams at: http://ec2-52-91-229-41.compute-1.amazonaws.com:5000/#/experiments/639329270342233827/runs/5d00105ab2564d7a8100d482f9fb7670\n",
            "🧪 View experiment at: http://ec2-52-91-229-41.compute-1.amazonaws.com:5000/#/experiments/639329270342233827\n"
          ]
        },
        {
          "output_type": "stream",
          "name": "stderr",
          "text": [
            "/usr/local/lib/python3.11/dist-packages/sklearn/utils/validation.py:2739: UserWarning: X does not have valid feature names, but LGBMClassifier was fitted with feature names\n",
            "  warnings.warn(\n",
            "2025/08/10 17:45:58 WARNING mlflow.models.model: `artifact_path` is deprecated. Please use `name` instead.\n",
            "\u001b[31m2025/08/10 17:46:05 WARNING mlflow.models.model: Model logged without a signature and input example. Please set `input_example` parameter when logging the model to auto infer the model signature.\u001b[0m\n",
            "[I 2025-08-10 17:46:05,619] Trial 90 finished with value: 0.7840837032339886 and parameters: {'n_estimators': 531, 'learning_rate': 0.009144521754144545, 'max_depth': 15, 'num_leaves': 41, 'min_child_samples': 21, 'colsample_bytree': 0.7481100786465904, 'subsample': 0.5610237843036434, 'reg_alpha': 0.211153384955056, 'reg_lambda': 0.002334240388132139}. Best is trial 72 with value: 0.8245614035087719.\n"
          ]
        },
        {
          "output_type": "stream",
          "name": "stdout",
          "text": [
            "🏃 View run Trial_90_LightGBM_SMOTE_TFIDF_Trigrams at: http://ec2-52-91-229-41.compute-1.amazonaws.com:5000/#/experiments/639329270342233827/runs/c30c38d11322493d975a2b1b9abfff3e\n",
            "🧪 View experiment at: http://ec2-52-91-229-41.compute-1.amazonaws.com:5000/#/experiments/639329270342233827\n"
          ]
        },
        {
          "output_type": "stream",
          "name": "stderr",
          "text": [
            "/usr/local/lib/python3.11/dist-packages/sklearn/utils/validation.py:2739: UserWarning: X does not have valid feature names, but LGBMClassifier was fitted with feature names\n",
            "  warnings.warn(\n",
            "2025/08/10 17:47:23 WARNING mlflow.models.model: `artifact_path` is deprecated. Please use `name` instead.\n",
            "\u001b[31m2025/08/10 17:47:28 WARNING mlflow.models.model: Model logged without a signature and input example. Please set `input_example` parameter when logging the model to auto infer the model signature.\u001b[0m\n",
            "[I 2025-08-10 17:47:29,671] Trial 91 finished with value: 0.8231874867892623 and parameters: {'n_estimators': 630, 'learning_rate': 0.06237787037491699, 'max_depth': 15, 'num_leaves': 46, 'min_child_samples': 10, 'colsample_bytree': 0.710241387986425, 'subsample': 0.9203308193003003, 'reg_alpha': 0.12388695275151532, 'reg_lambda': 0.00157858920892616}. Best is trial 72 with value: 0.8245614035087719.\n"
          ]
        },
        {
          "output_type": "stream",
          "name": "stdout",
          "text": [
            "🏃 View run Trial_91_LightGBM_SMOTE_TFIDF_Trigrams at: http://ec2-52-91-229-41.compute-1.amazonaws.com:5000/#/experiments/639329270342233827/runs/57f78a17edfe4c77b31f83f2f3e701d1\n",
            "🧪 View experiment at: http://ec2-52-91-229-41.compute-1.amazonaws.com:5000/#/experiments/639329270342233827\n"
          ]
        },
        {
          "output_type": "stream",
          "name": "stderr",
          "text": [
            "/usr/local/lib/python3.11/dist-packages/sklearn/utils/validation.py:2739: UserWarning: X does not have valid feature names, but LGBMClassifier was fitted with feature names\n",
            "  warnings.warn(\n",
            "2025/08/10 17:48:46 WARNING mlflow.models.model: `artifact_path` is deprecated. Please use `name` instead.\n",
            "\u001b[31m2025/08/10 17:48:53 WARNING mlflow.models.model: Model logged without a signature and input example. Please set `input_example` parameter when logging the model to auto infer the model signature.\u001b[0m\n",
            "[I 2025-08-10 17:48:53,879] Trial 92 finished with value: 0.8221306277742549 and parameters: {'n_estimators': 670, 'learning_rate': 0.06707344159125944, 'max_depth': 15, 'num_leaves': 43, 'min_child_samples': 14, 'colsample_bytree': 0.7087273297679881, 'subsample': 0.9116652875805982, 'reg_alpha': 0.3096857354341813, 'reg_lambda': 0.0006132978424687091}. Best is trial 72 with value: 0.8245614035087719.\n"
          ]
        },
        {
          "output_type": "stream",
          "name": "stdout",
          "text": [
            "🏃 View run Trial_92_LightGBM_SMOTE_TFIDF_Trigrams at: http://ec2-52-91-229-41.compute-1.amazonaws.com:5000/#/experiments/639329270342233827/runs/91ed267de20f4fa3a324221ae05d9343\n",
            "🧪 View experiment at: http://ec2-52-91-229-41.compute-1.amazonaws.com:5000/#/experiments/639329270342233827\n"
          ]
        },
        {
          "output_type": "stream",
          "name": "stderr",
          "text": [
            "/usr/local/lib/python3.11/dist-packages/sklearn/utils/validation.py:2739: UserWarning: X does not have valid feature names, but LGBMClassifier was fitted with feature names\n",
            "  warnings.warn(\n",
            "2025/08/10 17:50:12 WARNING mlflow.models.model: `artifact_path` is deprecated. Please use `name` instead.\n",
            "\u001b[31m2025/08/10 17:50:19 WARNING mlflow.models.model: Model logged without a signature and input example. Please set `input_example` parameter when logging the model to auto infer the model signature.\u001b[0m\n",
            "[I 2025-08-10 17:50:19,785] Trial 93 finished with value: 0.8202282815472416 and parameters: {'n_estimators': 636, 'learning_rate': 0.048856924065148424, 'max_depth': 14, 'num_leaves': 56, 'min_child_samples': 12, 'colsample_bytree': 0.7335425192735897, 'subsample': 0.9321380063077712, 'reg_alpha': 0.15167826398128484, 'reg_lambda': 0.0016673659981733544}. Best is trial 72 with value: 0.8245614035087719.\n"
          ]
        },
        {
          "output_type": "stream",
          "name": "stdout",
          "text": [
            "🏃 View run Trial_93_LightGBM_SMOTE_TFIDF_Trigrams at: http://ec2-52-91-229-41.compute-1.amazonaws.com:5000/#/experiments/639329270342233827/runs/94383ddc171044608b5e96cecc8e8a63\n",
            "🧪 View experiment at: http://ec2-52-91-229-41.compute-1.amazonaws.com:5000/#/experiments/639329270342233827\n"
          ]
        },
        {
          "output_type": "stream",
          "name": "stderr",
          "text": [
            "/usr/local/lib/python3.11/dist-packages/sklearn/utils/validation.py:2739: UserWarning: X does not have valid feature names, but LGBMClassifier was fitted with feature names\n",
            "  warnings.warn(\n",
            "2025/08/10 17:51:25 WARNING mlflow.models.model: `artifact_path` is deprecated. Please use `name` instead.\n",
            "\u001b[31m2025/08/10 17:51:31 WARNING mlflow.models.model: Model logged without a signature and input example. Please set `input_example` parameter when logging the model to auto infer the model signature.\u001b[0m\n",
            "[I 2025-08-10 17:51:32,218] Trial 94 finished with value: 0.8208623969562461 and parameters: {'n_estimators': 617, 'learning_rate': 0.0988267259898709, 'max_depth': 14, 'num_leaves': 49, 'min_child_samples': 16, 'colsample_bytree': 0.6981443077192735, 'subsample': 0.7372564635164218, 'reg_alpha': 0.07771370273047055, 'reg_lambda': 0.0012860635248560666}. Best is trial 72 with value: 0.8245614035087719.\n"
          ]
        },
        {
          "output_type": "stream",
          "name": "stdout",
          "text": [
            "🏃 View run Trial_94_LightGBM_SMOTE_TFIDF_Trigrams at: http://ec2-52-91-229-41.compute-1.amazonaws.com:5000/#/experiments/639329270342233827/runs/8ef72c772e9d41bd8a78c05b3f089588\n",
            "🧪 View experiment at: http://ec2-52-91-229-41.compute-1.amazonaws.com:5000/#/experiments/639329270342233827\n"
          ]
        },
        {
          "output_type": "stream",
          "name": "stderr",
          "text": [
            "/usr/local/lib/python3.11/dist-packages/sklearn/utils/validation.py:2739: UserWarning: X does not have valid feature names, but LGBMClassifier was fitted with feature names\n",
            "  warnings.warn(\n",
            "2025/08/10 17:52:38 WARNING mlflow.models.model: `artifact_path` is deprecated. Please use `name` instead.\n",
            "\u001b[31m2025/08/10 17:52:43 WARNING mlflow.models.model: Model logged without a signature and input example. Please set `input_example` parameter when logging the model to auto infer the model signature.\u001b[0m\n",
            "[I 2025-08-10 17:52:44,145] Trial 95 finished with value: 0.82287042908476 and parameters: {'n_estimators': 603, 'learning_rate': 0.059450202647944164, 'max_depth': 15, 'num_leaves': 31, 'min_child_samples': 10, 'colsample_bytree': 0.678151919805124, 'subsample': 0.856648326065349, 'reg_alpha': 0.1068545880662082, 'reg_lambda': 0.03420183502608829}. Best is trial 72 with value: 0.8245614035087719.\n"
          ]
        },
        {
          "output_type": "stream",
          "name": "stdout",
          "text": [
            "🏃 View run Trial_95_LightGBM_SMOTE_TFIDF_Trigrams at: http://ec2-52-91-229-41.compute-1.amazonaws.com:5000/#/experiments/639329270342233827/runs/b49d546b919d4704baed14e29812112f\n",
            "🧪 View experiment at: http://ec2-52-91-229-41.compute-1.amazonaws.com:5000/#/experiments/639329270342233827\n"
          ]
        },
        {
          "output_type": "stream",
          "name": "stderr",
          "text": [
            "/usr/local/lib/python3.11/dist-packages/sklearn/utils/validation.py:2739: UserWarning: X does not have valid feature names, but LGBMClassifier was fitted with feature names\n",
            "  warnings.warn(\n",
            "2025/08/10 17:53:38 WARNING mlflow.models.model: `artifact_path` is deprecated. Please use `name` instead.\n",
            "\u001b[31m2025/08/10 17:53:43 WARNING mlflow.models.model: Model logged without a signature and input example. Please set `input_example` parameter when logging the model to auto infer the model signature.\u001b[0m\n",
            "[I 2025-08-10 17:53:44,341] Trial 96 finished with value: 0.8207567110547453 and parameters: {'n_estimators': 554, 'learning_rate': 0.08085299030150946, 'max_depth': 14, 'num_leaves': 31, 'min_child_samples': 18, 'colsample_bytree': 0.6738479238997757, 'subsample': 0.9723251510188776, 'reg_alpha': 0.058011344234512506, 'reg_lambda': 0.03335088448264642}. Best is trial 72 with value: 0.8245614035087719.\n"
          ]
        },
        {
          "output_type": "stream",
          "name": "stdout",
          "text": [
            "🏃 View run Trial_96_LightGBM_SMOTE_TFIDF_Trigrams at: http://ec2-52-91-229-41.compute-1.amazonaws.com:5000/#/experiments/639329270342233827/runs/502bc3bddc354a078994e66ed1c69712\n",
            "🧪 View experiment at: http://ec2-52-91-229-41.compute-1.amazonaws.com:5000/#/experiments/639329270342233827\n"
          ]
        },
        {
          "output_type": "stream",
          "name": "stderr",
          "text": [
            "/usr/local/lib/python3.11/dist-packages/sklearn/utils/validation.py:2739: UserWarning: X does not have valid feature names, but LGBMClassifier was fitted with feature names\n",
            "  warnings.warn(\n",
            "2025/08/10 17:54:40 WARNING mlflow.models.model: `artifact_path` is deprecated. Please use `name` instead.\n",
            "\u001b[31m2025/08/10 17:54:46 WARNING mlflow.models.model: Model logged without a signature and input example. Please set `input_example` parameter when logging the model to auto infer the model signature.\u001b[0m\n",
            "[I 2025-08-10 17:54:46,641] Trial 97 finished with value: 0.8199112238427394 and parameters: {'n_estimators': 601, 'learning_rate': 0.06315032566931131, 'max_depth': 15, 'num_leaves': 20, 'min_child_samples': 14, 'colsample_bytree': 0.6776888296113296, 'subsample': 0.8770539261447047, 'reg_alpha': 0.10396364692550758, 'reg_lambda': 0.05122599999688536}. Best is trial 72 with value: 0.8245614035087719.\n"
          ]
        },
        {
          "output_type": "stream",
          "name": "stdout",
          "text": [
            "🏃 View run Trial_97_LightGBM_SMOTE_TFIDF_Trigrams at: http://ec2-52-91-229-41.compute-1.amazonaws.com:5000/#/experiments/639329270342233827/runs/51b76110fafa46a8b7a52005b9eebac6\n",
            "🧪 View experiment at: http://ec2-52-91-229-41.compute-1.amazonaws.com:5000/#/experiments/639329270342233827\n"
          ]
        },
        {
          "output_type": "stream",
          "name": "stderr",
          "text": [
            "/usr/local/lib/python3.11/dist-packages/sklearn/utils/validation.py:2739: UserWarning: X does not have valid feature names, but LGBMClassifier was fitted with feature names\n",
            "  warnings.warn(\n",
            "2025/08/10 17:55:52 WARNING mlflow.models.model: `artifact_path` is deprecated. Please use `name` instead.\n",
            "\u001b[31m2025/08/10 17:55:59 WARNING mlflow.models.model: Model logged without a signature and input example. Please set `input_example` parameter when logging the model to auto infer the model signature.\u001b[0m\n",
            "[I 2025-08-10 17:55:59,557] Trial 98 finished with value: 0.7075671105474529 and parameters: {'n_estimators': 675, 'learning_rate': 0.0015433742246356236, 'max_depth': 14, 'num_leaves': 30, 'min_child_samples': 77, 'colsample_bytree': 0.7142570354921445, 'subsample': 0.9041410272235587, 'reg_alpha': 0.2840426631923045, 'reg_lambda': 0.0146677329198181}. Best is trial 72 with value: 0.8245614035087719.\n"
          ]
        },
        {
          "output_type": "stream",
          "name": "stdout",
          "text": [
            "🏃 View run Trial_98_LightGBM_SMOTE_TFIDF_Trigrams at: http://ec2-52-91-229-41.compute-1.amazonaws.com:5000/#/experiments/639329270342233827/runs/f9cc2eddc716464387a1c4d9e30795ad\n",
            "🧪 View experiment at: http://ec2-52-91-229-41.compute-1.amazonaws.com:5000/#/experiments/639329270342233827\n"
          ]
        },
        {
          "output_type": "stream",
          "name": "stderr",
          "text": [
            "/usr/local/lib/python3.11/dist-packages/sklearn/utils/validation.py:2739: UserWarning: X does not have valid feature names, but LGBMClassifier was fitted with feature names\n",
            "  warnings.warn(\n",
            "2025/08/10 17:56:53 WARNING mlflow.models.model: `artifact_path` is deprecated. Please use `name` instead.\n",
            "\u001b[31m2025/08/10 17:56:59 WARNING mlflow.models.model: Model logged without a signature and input example. Please set `input_example` parameter when logging the model to auto infer the model signature.\u001b[0m\n",
            "[I 2025-08-10 17:57:00,292] Trial 99 finished with value: 0.816423589093215 and parameters: {'n_estimators': 573, 'learning_rate': 0.041893319540390245, 'max_depth': 13, 'num_leaves': 34, 'min_child_samples': 24, 'colsample_bytree': 0.6534603070208127, 'subsample': 0.9519053660585197, 'reg_alpha': 0.030692988511974693, 'reg_lambda': 0.033498024991901514}. Best is trial 72 with value: 0.8245614035087719.\n"
          ]
        },
        {
          "output_type": "stream",
          "name": "stdout",
          "text": [
            "🏃 View run Trial_99_LightGBM_SMOTE_TFIDF_Trigrams at: http://ec2-52-91-229-41.compute-1.amazonaws.com:5000/#/experiments/639329270342233827/runs/41c7059b9f4045b9a188460f97b03a68\n",
            "🧪 View experiment at: http://ec2-52-91-229-41.compute-1.amazonaws.com:5000/#/experiments/639329270342233827\n"
          ]
        },
        {
          "output_type": "stream",
          "name": "stderr",
          "text": [
            "/usr/local/lib/python3.11/dist-packages/sklearn/utils/validation.py:2739: UserWarning: X does not have valid feature names, but LGBMClassifier was fitted with feature names\n",
            "  warnings.warn(\n",
            "2025/08/10 17:58:12 WARNING mlflow.models.model: `artifact_path` is deprecated. Please use `name` instead.\n",
            "\u001b[31m2025/08/10 17:58:18 WARNING mlflow.models.model: Model logged without a signature and input example. Please set `input_example` parameter when logging the model to auto infer the model signature.\u001b[0m\n"
          ]
        },
        {
          "output_type": "stream",
          "name": "stdout",
          "text": [
            "🏃 View run Trial_Best_LightGBM_SMOTE_TFIDF_Trigrams at: http://ec2-52-91-229-41.compute-1.amazonaws.com:5000/#/experiments/639329270342233827/runs/8861175d4d5b44d583da700a1bd1a202\n",
            "🧪 View experiment at: http://ec2-52-91-229-41.compute-1.amazonaws.com:5000/#/experiments/639329270342233827\n"
          ]
        },
        {
          "output_type": "display_data",
          "data": {
            "text/html": [
              "<html>\n",
              "<head><meta charset=\"utf-8\" /></head>\n",
              "<body>\n",
              "    <div>            <script src=\"https://cdnjs.cloudflare.com/ajax/libs/mathjax/2.7.5/MathJax.js?config=TeX-AMS-MML_SVG\"></script><script type=\"text/javascript\">if (window.MathJax && window.MathJax.Hub && window.MathJax.Hub.Config) {window.MathJax.Hub.Config({SVG: {font: \"STIX-Web\"}});}</script>                <script type=\"text/javascript\">window.PlotlyConfig = {MathJaxConfig: 'local'};</script>\n",
              "        <script charset=\"utf-8\" src=\"https://cdn.plot.ly/plotly-2.35.2.min.js\"></script>                <div id=\"5a909be9-4ca4-4d9d-924b-e8401672e16b\" class=\"plotly-graph-div\" style=\"height:525px; width:100%;\"></div>            <script type=\"text/javascript\">                                    window.PLOTLYENV=window.PLOTLYENV || {};                                    if (document.getElementById(\"5a909be9-4ca4-4d9d-924b-e8401672e16b\")) {                    Plotly.newPlot(                        \"5a909be9-4ca4-4d9d-924b-e8401672e16b\",                        [{\"cliponaxis\":false,\"hovertemplate\":[\"reg_lambda (FloatDistribution): 0.0019260791757720892\\u003cextra\\u003e\\u003c\\u002fextra\\u003e\",\"reg_alpha (FloatDistribution): 0.005342654740690064\\u003cextra\\u003e\\u003c\\u002fextra\\u003e\",\"colsample_bytree (FloatDistribution): 0.006035659770707804\\u003cextra\\u003e\\u003c\\u002fextra\\u003e\",\"min_child_samples (IntDistribution): 0.01004803447928222\\u003cextra\\u003e\\u003c\\u002fextra\\u003e\",\"num_leaves (IntDistribution): 0.017830694155064344\\u003cextra\\u003e\\u003c\\u002fextra\\u003e\",\"n_estimators (IntDistribution): 0.05693679799752314\\u003cextra\\u003e\\u003c\\u002fextra\\u003e\",\"max_depth (IntDistribution): 0.08362994151923518\\u003cextra\\u003e\\u003c\\u002fextra\\u003e\",\"subsample (FloatDistribution): 0.2544461008913372\\u003cextra\\u003e\\u003c\\u002fextra\\u003e\",\"learning_rate (FloatDistribution): 0.5638040372703882\\u003cextra\\u003e\\u003c\\u002fextra\\u003e\"],\"name\":\"Objective Value\",\"orientation\":\"h\",\"text\":[\"\\u003c0.01\",\"\\u003c0.01\",\"\\u003c0.01\",\"0.01\",\"0.02\",\"0.06\",\"0.08\",\"0.25\",\"0.56\"],\"textposition\":\"outside\",\"x\":[0.0019260791757720892,0.005342654740690064,0.006035659770707804,0.01004803447928222,0.017830694155064344,0.05693679799752314,0.08362994151923518,0.2544461008913372,0.5638040372703882],\"y\":[\"reg_lambda\",\"reg_alpha\",\"colsample_bytree\",\"min_child_samples\",\"num_leaves\",\"n_estimators\",\"max_depth\",\"subsample\",\"learning_rate\"],\"type\":\"bar\"}],                        {\"title\":{\"text\":\"Hyperparameter Importances\"},\"xaxis\":{\"title\":{\"text\":\"Hyperparameter Importance\"}},\"yaxis\":{\"title\":{\"text\":\"Hyperparameter\"}},\"template\":{\"data\":{\"histogram2dcontour\":[{\"type\":\"histogram2dcontour\",\"colorbar\":{\"outlinewidth\":0,\"ticks\":\"\"},\"colorscale\":[[0.0,\"#0d0887\"],[0.1111111111111111,\"#46039f\"],[0.2222222222222222,\"#7201a8\"],[0.3333333333333333,\"#9c179e\"],[0.4444444444444444,\"#bd3786\"],[0.5555555555555556,\"#d8576b\"],[0.6666666666666666,\"#ed7953\"],[0.7777777777777778,\"#fb9f3a\"],[0.8888888888888888,\"#fdca26\"],[1.0,\"#f0f921\"]]}],\"choropleth\":[{\"type\":\"choropleth\",\"colorbar\":{\"outlinewidth\":0,\"ticks\":\"\"}}],\"histogram2d\":[{\"type\":\"histogram2d\",\"colorbar\":{\"outlinewidth\":0,\"ticks\":\"\"},\"colorscale\":[[0.0,\"#0d0887\"],[0.1111111111111111,\"#46039f\"],[0.2222222222222222,\"#7201a8\"],[0.3333333333333333,\"#9c179e\"],[0.4444444444444444,\"#bd3786\"],[0.5555555555555556,\"#d8576b\"],[0.6666666666666666,\"#ed7953\"],[0.7777777777777778,\"#fb9f3a\"],[0.8888888888888888,\"#fdca26\"],[1.0,\"#f0f921\"]]}],\"heatmap\":[{\"type\":\"heatmap\",\"colorbar\":{\"outlinewidth\":0,\"ticks\":\"\"},\"colorscale\":[[0.0,\"#0d0887\"],[0.1111111111111111,\"#46039f\"],[0.2222222222222222,\"#7201a8\"],[0.3333333333333333,\"#9c179e\"],[0.4444444444444444,\"#bd3786\"],[0.5555555555555556,\"#d8576b\"],[0.6666666666666666,\"#ed7953\"],[0.7777777777777778,\"#fb9f3a\"],[0.8888888888888888,\"#fdca26\"],[1.0,\"#f0f921\"]]}],\"heatmapgl\":[{\"type\":\"heatmapgl\",\"colorbar\":{\"outlinewidth\":0,\"ticks\":\"\"},\"colorscale\":[[0.0,\"#0d0887\"],[0.1111111111111111,\"#46039f\"],[0.2222222222222222,\"#7201a8\"],[0.3333333333333333,\"#9c179e\"],[0.4444444444444444,\"#bd3786\"],[0.5555555555555556,\"#d8576b\"],[0.6666666666666666,\"#ed7953\"],[0.7777777777777778,\"#fb9f3a\"],[0.8888888888888888,\"#fdca26\"],[1.0,\"#f0f921\"]]}],\"contourcarpet\":[{\"type\":\"contourcarpet\",\"colorbar\":{\"outlinewidth\":0,\"ticks\":\"\"}}],\"contour\":[{\"type\":\"contour\",\"colorbar\":{\"outlinewidth\":0,\"ticks\":\"\"},\"colorscale\":[[0.0,\"#0d0887\"],[0.1111111111111111,\"#46039f\"],[0.2222222222222222,\"#7201a8\"],[0.3333333333333333,\"#9c179e\"],[0.4444444444444444,\"#bd3786\"],[0.5555555555555556,\"#d8576b\"],[0.6666666666666666,\"#ed7953\"],[0.7777777777777778,\"#fb9f3a\"],[0.8888888888888888,\"#fdca26\"],[1.0,\"#f0f921\"]]}],\"surface\":[{\"type\":\"surface\",\"colorbar\":{\"outlinewidth\":0,\"ticks\":\"\"},\"colorscale\":[[0.0,\"#0d0887\"],[0.1111111111111111,\"#46039f\"],[0.2222222222222222,\"#7201a8\"],[0.3333333333333333,\"#9c179e\"],[0.4444444444444444,\"#bd3786\"],[0.5555555555555556,\"#d8576b\"],[0.6666666666666666,\"#ed7953\"],[0.7777777777777778,\"#fb9f3a\"],[0.8888888888888888,\"#fdca26\"],[1.0,\"#f0f921\"]]}],\"mesh3d\":[{\"type\":\"mesh3d\",\"colorbar\":{\"outlinewidth\":0,\"ticks\":\"\"}}],\"scatter\":[{\"fillpattern\":{\"fillmode\":\"overlay\",\"size\":10,\"solidity\":0.2},\"type\":\"scatter\"}],\"parcoords\":[{\"type\":\"parcoords\",\"line\":{\"colorbar\":{\"outlinewidth\":0,\"ticks\":\"\"}}}],\"scatterpolargl\":[{\"type\":\"scatterpolargl\",\"marker\":{\"colorbar\":{\"outlinewidth\":0,\"ticks\":\"\"}}}],\"bar\":[{\"error_x\":{\"color\":\"#2a3f5f\"},\"error_y\":{\"color\":\"#2a3f5f\"},\"marker\":{\"line\":{\"color\":\"#E5ECF6\",\"width\":0.5},\"pattern\":{\"fillmode\":\"overlay\",\"size\":10,\"solidity\":0.2}},\"type\":\"bar\"}],\"scattergeo\":[{\"type\":\"scattergeo\",\"marker\":{\"colorbar\":{\"outlinewidth\":0,\"ticks\":\"\"}}}],\"scatterpolar\":[{\"type\":\"scatterpolar\",\"marker\":{\"colorbar\":{\"outlinewidth\":0,\"ticks\":\"\"}}}],\"histogram\":[{\"marker\":{\"pattern\":{\"fillmode\":\"overlay\",\"size\":10,\"solidity\":0.2}},\"type\":\"histogram\"}],\"scattergl\":[{\"type\":\"scattergl\",\"marker\":{\"colorbar\":{\"outlinewidth\":0,\"ticks\":\"\"}}}],\"scatter3d\":[{\"type\":\"scatter3d\",\"line\":{\"colorbar\":{\"outlinewidth\":0,\"ticks\":\"\"}},\"marker\":{\"colorbar\":{\"outlinewidth\":0,\"ticks\":\"\"}}}],\"scattermapbox\":[{\"type\":\"scattermapbox\",\"marker\":{\"colorbar\":{\"outlinewidth\":0,\"ticks\":\"\"}}}],\"scatterternary\":[{\"type\":\"scatterternary\",\"marker\":{\"colorbar\":{\"outlinewidth\":0,\"ticks\":\"\"}}}],\"scattercarpet\":[{\"type\":\"scattercarpet\",\"marker\":{\"colorbar\":{\"outlinewidth\":0,\"ticks\":\"\"}}}],\"carpet\":[{\"aaxis\":{\"endlinecolor\":\"#2a3f5f\",\"gridcolor\":\"white\",\"linecolor\":\"white\",\"minorgridcolor\":\"white\",\"startlinecolor\":\"#2a3f5f\"},\"baxis\":{\"endlinecolor\":\"#2a3f5f\",\"gridcolor\":\"white\",\"linecolor\":\"white\",\"minorgridcolor\":\"white\",\"startlinecolor\":\"#2a3f5f\"},\"type\":\"carpet\"}],\"table\":[{\"cells\":{\"fill\":{\"color\":\"#EBF0F8\"},\"line\":{\"color\":\"white\"}},\"header\":{\"fill\":{\"color\":\"#C8D4E3\"},\"line\":{\"color\":\"white\"}},\"type\":\"table\"}],\"barpolar\":[{\"marker\":{\"line\":{\"color\":\"#E5ECF6\",\"width\":0.5},\"pattern\":{\"fillmode\":\"overlay\",\"size\":10,\"solidity\":0.2}},\"type\":\"barpolar\"}],\"pie\":[{\"automargin\":true,\"type\":\"pie\"}]},\"layout\":{\"autotypenumbers\":\"strict\",\"colorway\":[\"#636efa\",\"#EF553B\",\"#00cc96\",\"#ab63fa\",\"#FFA15A\",\"#19d3f3\",\"#FF6692\",\"#B6E880\",\"#FF97FF\",\"#FECB52\"],\"font\":{\"color\":\"#2a3f5f\"},\"hovermode\":\"closest\",\"hoverlabel\":{\"align\":\"left\"},\"paper_bgcolor\":\"white\",\"plot_bgcolor\":\"#E5ECF6\",\"polar\":{\"bgcolor\":\"#E5ECF6\",\"angularaxis\":{\"gridcolor\":\"white\",\"linecolor\":\"white\",\"ticks\":\"\"},\"radialaxis\":{\"gridcolor\":\"white\",\"linecolor\":\"white\",\"ticks\":\"\"}},\"ternary\":{\"bgcolor\":\"#E5ECF6\",\"aaxis\":{\"gridcolor\":\"white\",\"linecolor\":\"white\",\"ticks\":\"\"},\"baxis\":{\"gridcolor\":\"white\",\"linecolor\":\"white\",\"ticks\":\"\"},\"caxis\":{\"gridcolor\":\"white\",\"linecolor\":\"white\",\"ticks\":\"\"}},\"coloraxis\":{\"colorbar\":{\"outlinewidth\":0,\"ticks\":\"\"}},\"colorscale\":{\"sequential\":[[0.0,\"#0d0887\"],[0.1111111111111111,\"#46039f\"],[0.2222222222222222,\"#7201a8\"],[0.3333333333333333,\"#9c179e\"],[0.4444444444444444,\"#bd3786\"],[0.5555555555555556,\"#d8576b\"],[0.6666666666666666,\"#ed7953\"],[0.7777777777777778,\"#fb9f3a\"],[0.8888888888888888,\"#fdca26\"],[1.0,\"#f0f921\"]],\"sequentialminus\":[[0.0,\"#0d0887\"],[0.1111111111111111,\"#46039f\"],[0.2222222222222222,\"#7201a8\"],[0.3333333333333333,\"#9c179e\"],[0.4444444444444444,\"#bd3786\"],[0.5555555555555556,\"#d8576b\"],[0.6666666666666666,\"#ed7953\"],[0.7777777777777778,\"#fb9f3a\"],[0.8888888888888888,\"#fdca26\"],[1.0,\"#f0f921\"]],\"diverging\":[[0,\"#8e0152\"],[0.1,\"#c51b7d\"],[0.2,\"#de77ae\"],[0.3,\"#f1b6da\"],[0.4,\"#fde0ef\"],[0.5,\"#f7f7f7\"],[0.6,\"#e6f5d0\"],[0.7,\"#b8e186\"],[0.8,\"#7fbc41\"],[0.9,\"#4d9221\"],[1,\"#276419\"]]},\"xaxis\":{\"gridcolor\":\"white\",\"linecolor\":\"white\",\"ticks\":\"\",\"title\":{\"standoff\":15},\"zerolinecolor\":\"white\",\"automargin\":true,\"zerolinewidth\":2},\"yaxis\":{\"gridcolor\":\"white\",\"linecolor\":\"white\",\"ticks\":\"\",\"title\":{\"standoff\":15},\"zerolinecolor\":\"white\",\"automargin\":true,\"zerolinewidth\":2},\"scene\":{\"xaxis\":{\"backgroundcolor\":\"#E5ECF6\",\"gridcolor\":\"white\",\"linecolor\":\"white\",\"showbackground\":true,\"ticks\":\"\",\"zerolinecolor\":\"white\",\"gridwidth\":2},\"yaxis\":{\"backgroundcolor\":\"#E5ECF6\",\"gridcolor\":\"white\",\"linecolor\":\"white\",\"showbackground\":true,\"ticks\":\"\",\"zerolinecolor\":\"white\",\"gridwidth\":2},\"zaxis\":{\"backgroundcolor\":\"#E5ECF6\",\"gridcolor\":\"white\",\"linecolor\":\"white\",\"showbackground\":true,\"ticks\":\"\",\"zerolinecolor\":\"white\",\"gridwidth\":2}},\"shapedefaults\":{\"line\":{\"color\":\"#2a3f5f\"}},\"annotationdefaults\":{\"arrowcolor\":\"#2a3f5f\",\"arrowhead\":0,\"arrowwidth\":1},\"geo\":{\"bgcolor\":\"white\",\"landcolor\":\"#E5ECF6\",\"subunitcolor\":\"white\",\"showland\":true,\"showlakes\":true,\"lakecolor\":\"white\"},\"title\":{\"x\":0.05},\"mapbox\":{\"style\":\"light\"}}}},                        {\"responsive\": true}                    ).then(function(){\n",
              "                            \n",
              "var gd = document.getElementById('5a909be9-4ca4-4d9d-924b-e8401672e16b');\n",
              "var x = new MutationObserver(function (mutations, observer) {{\n",
              "        var display = window.getComputedStyle(gd).display;\n",
              "        if (!display || display === 'none') {{\n",
              "            console.log([gd, 'removed!']);\n",
              "            Plotly.purge(gd);\n",
              "            observer.disconnect();\n",
              "        }}\n",
              "}});\n",
              "\n",
              "// Listen for the removal of the full notebook cells\n",
              "var notebookContainer = gd.closest('#notebook-container');\n",
              "if (notebookContainer) {{\n",
              "    x.observe(notebookContainer, {childList: true});\n",
              "}}\n",
              "\n",
              "// Listen for the clearing of the current output cell\n",
              "var outputEl = gd.closest('.output');\n",
              "if (outputEl) {{\n",
              "    x.observe(outputEl, {childList: true});\n",
              "}}\n",
              "\n",
              "                        })                };                            </script>        </div>\n",
              "</body>\n",
              "</html>"
            ]
          },
          "metadata": {}
        },
        {
          "output_type": "display_data",
          "data": {
            "text/html": [
              "<html>\n",
              "<head><meta charset=\"utf-8\" /></head>\n",
              "<body>\n",
              "    <div>            <script src=\"https://cdnjs.cloudflare.com/ajax/libs/mathjax/2.7.5/MathJax.js?config=TeX-AMS-MML_SVG\"></script><script type=\"text/javascript\">if (window.MathJax && window.MathJax.Hub && window.MathJax.Hub.Config) {window.MathJax.Hub.Config({SVG: {font: \"STIX-Web\"}});}</script>                <script type=\"text/javascript\">window.PlotlyConfig = {MathJaxConfig: 'local'};</script>\n",
              "        <script charset=\"utf-8\" src=\"https://cdn.plot.ly/plotly-2.35.2.min.js\"></script>                <div id=\"d619f3e4-b6d1-4987-b14f-b1ee9b6ab787\" class=\"plotly-graph-div\" style=\"height:525px; width:100%;\"></div>            <script type=\"text/javascript\">                                    window.PLOTLYENV=window.PLOTLYENV || {};                                    if (document.getElementById(\"d619f3e4-b6d1-4987-b14f-b1ee9b6ab787\")) {                    Plotly.newPlot(                        \"d619f3e4-b6d1-4987-b14f-b1ee9b6ab787\",                        [{\"mode\":\"markers\",\"name\":\"Objective Value\",\"x\":[0,1,2,3,4,5,6,7,8,9,10,11,12,13,14,15,16,17,18,19,20,21,22,23,24,25,26,27,28,29,30,31,32,33,34,35,36,37,38,39,40,41,42,43,44,45,46,47,48,49,50,51,52,53,54,55,56,57,58,59,60,61,62,63,64,65,66,67,68,69,70,71,72,73,74,75,76,77,78,79,80,81,82,83,84,85,86,87,88,89,90,91,92,93,94,95,96,97,98,99],\"y\":[0.8191714225322342,0.6679348974846755,0.6627562883111393,0.696153033185373,0.7170788416825196,0.8041640245191292,0.7243711688860706,0.6814626928767702,0.7087296554639612,0.8061720566476432,0.7719298245614035,0.8069118579581483,0.7908476009300359,0.771718452758402,0.8083914605791588,0.7418093426336927,0.6995349820333967,0.7541745931092793,0.771718452758402,0.6859015007398013,0.7570281124497992,0.8109279222151765,0.8110336081166772,0.8024730500951173,0.7991967871485943,0.8096596913971676,0.777425491439442,0.8161065313887127,0.7147537518495033,0.8173747622067217,0.8041640245191292,0.8181145635172268,0.8172690763052208,0.8090255759881632,0.8200169097442401,0.8195941661382372,0.8169520186007186,0.6973155781018812,0.6867469879518072,0.7767913760304376,0.8089198900866624,0.8192771084337349,0.8192771084337349,0.8179031917142253,0.8074402874656521,0.8130416402451913,0.8140984992601987,0.8219192559712535,0.8209680828577468,0.7101035721834708,0.8238216021982667,0.8218135700697526,0.8208623969562461,0.8227647431832593,0.82287042908476,0.8193827943352356,0.8168463326992179,0.8219192559712535,0.8124075248361868,0.8183259353202282,0.8004650179666033,0.8206510251532445,0.8218135700697526,0.820439653350243,0.8210737687592475,0.8116677235256817,0.8198055379412387,0.8203339674487423,0.8171633904037201,0.7083069118579581,0.8158951595857112,0.8191714225322342,0.8245614035087719,0.8238216021982667,0.8236102303952653,0.8229761149862609,0.8217078841682519,0.8220249418727542,0.8203339674487423,0.8221306277742549,0.7956034664975692,0.8221306277742549,0.8224476854787571,0.8183259353202282,0.8119847812301839,0.8206510251532445,0.8167406467977172,0.8195941661382372,0.8207567110547453,0.7554428239272881,0.7840837032339886,0.8231874867892623,0.8221306277742549,0.8202282815472416,0.8208623969562461,0.82287042908476,0.8207567110547453,0.8199112238427394,0.7075671105474529,0.816423589093215],\"type\":\"scatter\"},{\"mode\":\"lines\",\"name\":\"Best Value\",\"x\":[0,1,2,3,4,5,6,7,8,9,10,11,12,13,14,15,16,17,18,19,20,21,22,23,24,25,26,27,28,29,30,31,32,33,34,35,36,37,38,39,40,41,42,43,44,45,46,47,48,49,50,51,52,53,54,55,56,57,58,59,60,61,62,63,64,65,66,67,68,69,70,71,72,73,74,75,76,77,78,79,80,81,82,83,84,85,86,87,88,89,90,91,92,93,94,95,96,97,98,99],\"y\":[0.8191714225322342,0.8191714225322342,0.8191714225322342,0.8191714225322342,0.8191714225322342,0.8191714225322342,0.8191714225322342,0.8191714225322342,0.8191714225322342,0.8191714225322342,0.8191714225322342,0.8191714225322342,0.8191714225322342,0.8191714225322342,0.8191714225322342,0.8191714225322342,0.8191714225322342,0.8191714225322342,0.8191714225322342,0.8191714225322342,0.8191714225322342,0.8191714225322342,0.8191714225322342,0.8191714225322342,0.8191714225322342,0.8191714225322342,0.8191714225322342,0.8191714225322342,0.8191714225322342,0.8191714225322342,0.8191714225322342,0.8191714225322342,0.8191714225322342,0.8191714225322342,0.8200169097442401,0.8200169097442401,0.8200169097442401,0.8200169097442401,0.8200169097442401,0.8200169097442401,0.8200169097442401,0.8200169097442401,0.8200169097442401,0.8200169097442401,0.8200169097442401,0.8200169097442401,0.8200169097442401,0.8219192559712535,0.8219192559712535,0.8219192559712535,0.8238216021982667,0.8238216021982667,0.8238216021982667,0.8238216021982667,0.8238216021982667,0.8238216021982667,0.8238216021982667,0.8238216021982667,0.8238216021982667,0.8238216021982667,0.8238216021982667,0.8238216021982667,0.8238216021982667,0.8238216021982667,0.8238216021982667,0.8238216021982667,0.8238216021982667,0.8238216021982667,0.8238216021982667,0.8238216021982667,0.8238216021982667,0.8238216021982667,0.8245614035087719,0.8245614035087719,0.8245614035087719,0.8245614035087719,0.8245614035087719,0.8245614035087719,0.8245614035087719,0.8245614035087719,0.8245614035087719,0.8245614035087719,0.8245614035087719,0.8245614035087719,0.8245614035087719,0.8245614035087719,0.8245614035087719,0.8245614035087719,0.8245614035087719,0.8245614035087719,0.8245614035087719,0.8245614035087719,0.8245614035087719,0.8245614035087719,0.8245614035087719,0.8245614035087719,0.8245614035087719,0.8245614035087719,0.8245614035087719,0.8245614035087719],\"type\":\"scatter\"},{\"marker\":{\"color\":\"#cccccc\"},\"mode\":\"markers\",\"name\":\"Infeasible Trial\",\"showlegend\":false,\"x\":[],\"y\":[],\"type\":\"scatter\"}],                        {\"title\":{\"text\":\"Optimization History Plot\"},\"xaxis\":{\"title\":{\"text\":\"Trial\"}},\"yaxis\":{\"title\":{\"text\":\"Objective Value\"}},\"template\":{\"data\":{\"histogram2dcontour\":[{\"type\":\"histogram2dcontour\",\"colorbar\":{\"outlinewidth\":0,\"ticks\":\"\"},\"colorscale\":[[0.0,\"#0d0887\"],[0.1111111111111111,\"#46039f\"],[0.2222222222222222,\"#7201a8\"],[0.3333333333333333,\"#9c179e\"],[0.4444444444444444,\"#bd3786\"],[0.5555555555555556,\"#d8576b\"],[0.6666666666666666,\"#ed7953\"],[0.7777777777777778,\"#fb9f3a\"],[0.8888888888888888,\"#fdca26\"],[1.0,\"#f0f921\"]]}],\"choropleth\":[{\"type\":\"choropleth\",\"colorbar\":{\"outlinewidth\":0,\"ticks\":\"\"}}],\"histogram2d\":[{\"type\":\"histogram2d\",\"colorbar\":{\"outlinewidth\":0,\"ticks\":\"\"},\"colorscale\":[[0.0,\"#0d0887\"],[0.1111111111111111,\"#46039f\"],[0.2222222222222222,\"#7201a8\"],[0.3333333333333333,\"#9c179e\"],[0.4444444444444444,\"#bd3786\"],[0.5555555555555556,\"#d8576b\"],[0.6666666666666666,\"#ed7953\"],[0.7777777777777778,\"#fb9f3a\"],[0.8888888888888888,\"#fdca26\"],[1.0,\"#f0f921\"]]}],\"heatmap\":[{\"type\":\"heatmap\",\"colorbar\":{\"outlinewidth\":0,\"ticks\":\"\"},\"colorscale\":[[0.0,\"#0d0887\"],[0.1111111111111111,\"#46039f\"],[0.2222222222222222,\"#7201a8\"],[0.3333333333333333,\"#9c179e\"],[0.4444444444444444,\"#bd3786\"],[0.5555555555555556,\"#d8576b\"],[0.6666666666666666,\"#ed7953\"],[0.7777777777777778,\"#fb9f3a\"],[0.8888888888888888,\"#fdca26\"],[1.0,\"#f0f921\"]]}],\"heatmapgl\":[{\"type\":\"heatmapgl\",\"colorbar\":{\"outlinewidth\":0,\"ticks\":\"\"},\"colorscale\":[[0.0,\"#0d0887\"],[0.1111111111111111,\"#46039f\"],[0.2222222222222222,\"#7201a8\"],[0.3333333333333333,\"#9c179e\"],[0.4444444444444444,\"#bd3786\"],[0.5555555555555556,\"#d8576b\"],[0.6666666666666666,\"#ed7953\"],[0.7777777777777778,\"#fb9f3a\"],[0.8888888888888888,\"#fdca26\"],[1.0,\"#f0f921\"]]}],\"contourcarpet\":[{\"type\":\"contourcarpet\",\"colorbar\":{\"outlinewidth\":0,\"ticks\":\"\"}}],\"contour\":[{\"type\":\"contour\",\"colorbar\":{\"outlinewidth\":0,\"ticks\":\"\"},\"colorscale\":[[0.0,\"#0d0887\"],[0.1111111111111111,\"#46039f\"],[0.2222222222222222,\"#7201a8\"],[0.3333333333333333,\"#9c179e\"],[0.4444444444444444,\"#bd3786\"],[0.5555555555555556,\"#d8576b\"],[0.6666666666666666,\"#ed7953\"],[0.7777777777777778,\"#fb9f3a\"],[0.8888888888888888,\"#fdca26\"],[1.0,\"#f0f921\"]]}],\"surface\":[{\"type\":\"surface\",\"colorbar\":{\"outlinewidth\":0,\"ticks\":\"\"},\"colorscale\":[[0.0,\"#0d0887\"],[0.1111111111111111,\"#46039f\"],[0.2222222222222222,\"#7201a8\"],[0.3333333333333333,\"#9c179e\"],[0.4444444444444444,\"#bd3786\"],[0.5555555555555556,\"#d8576b\"],[0.6666666666666666,\"#ed7953\"],[0.7777777777777778,\"#fb9f3a\"],[0.8888888888888888,\"#fdca26\"],[1.0,\"#f0f921\"]]}],\"mesh3d\":[{\"type\":\"mesh3d\",\"colorbar\":{\"outlinewidth\":0,\"ticks\":\"\"}}],\"scatter\":[{\"fillpattern\":{\"fillmode\":\"overlay\",\"size\":10,\"solidity\":0.2},\"type\":\"scatter\"}],\"parcoords\":[{\"type\":\"parcoords\",\"line\":{\"colorbar\":{\"outlinewidth\":0,\"ticks\":\"\"}}}],\"scatterpolargl\":[{\"type\":\"scatterpolargl\",\"marker\":{\"colorbar\":{\"outlinewidth\":0,\"ticks\":\"\"}}}],\"bar\":[{\"error_x\":{\"color\":\"#2a3f5f\"},\"error_y\":{\"color\":\"#2a3f5f\"},\"marker\":{\"line\":{\"color\":\"#E5ECF6\",\"width\":0.5},\"pattern\":{\"fillmode\":\"overlay\",\"size\":10,\"solidity\":0.2}},\"type\":\"bar\"}],\"scattergeo\":[{\"type\":\"scattergeo\",\"marker\":{\"colorbar\":{\"outlinewidth\":0,\"ticks\":\"\"}}}],\"scatterpolar\":[{\"type\":\"scatterpolar\",\"marker\":{\"colorbar\":{\"outlinewidth\":0,\"ticks\":\"\"}}}],\"histogram\":[{\"marker\":{\"pattern\":{\"fillmode\":\"overlay\",\"size\":10,\"solidity\":0.2}},\"type\":\"histogram\"}],\"scattergl\":[{\"type\":\"scattergl\",\"marker\":{\"colorbar\":{\"outlinewidth\":0,\"ticks\":\"\"}}}],\"scatter3d\":[{\"type\":\"scatter3d\",\"line\":{\"colorbar\":{\"outlinewidth\":0,\"ticks\":\"\"}},\"marker\":{\"colorbar\":{\"outlinewidth\":0,\"ticks\":\"\"}}}],\"scattermapbox\":[{\"type\":\"scattermapbox\",\"marker\":{\"colorbar\":{\"outlinewidth\":0,\"ticks\":\"\"}}}],\"scatterternary\":[{\"type\":\"scatterternary\",\"marker\":{\"colorbar\":{\"outlinewidth\":0,\"ticks\":\"\"}}}],\"scattercarpet\":[{\"type\":\"scattercarpet\",\"marker\":{\"colorbar\":{\"outlinewidth\":0,\"ticks\":\"\"}}}],\"carpet\":[{\"aaxis\":{\"endlinecolor\":\"#2a3f5f\",\"gridcolor\":\"white\",\"linecolor\":\"white\",\"minorgridcolor\":\"white\",\"startlinecolor\":\"#2a3f5f\"},\"baxis\":{\"endlinecolor\":\"#2a3f5f\",\"gridcolor\":\"white\",\"linecolor\":\"white\",\"minorgridcolor\":\"white\",\"startlinecolor\":\"#2a3f5f\"},\"type\":\"carpet\"}],\"table\":[{\"cells\":{\"fill\":{\"color\":\"#EBF0F8\"},\"line\":{\"color\":\"white\"}},\"header\":{\"fill\":{\"color\":\"#C8D4E3\"},\"line\":{\"color\":\"white\"}},\"type\":\"table\"}],\"barpolar\":[{\"marker\":{\"line\":{\"color\":\"#E5ECF6\",\"width\":0.5},\"pattern\":{\"fillmode\":\"overlay\",\"size\":10,\"solidity\":0.2}},\"type\":\"barpolar\"}],\"pie\":[{\"automargin\":true,\"type\":\"pie\"}]},\"layout\":{\"autotypenumbers\":\"strict\",\"colorway\":[\"#636efa\",\"#EF553B\",\"#00cc96\",\"#ab63fa\",\"#FFA15A\",\"#19d3f3\",\"#FF6692\",\"#B6E880\",\"#FF97FF\",\"#FECB52\"],\"font\":{\"color\":\"#2a3f5f\"},\"hovermode\":\"closest\",\"hoverlabel\":{\"align\":\"left\"},\"paper_bgcolor\":\"white\",\"plot_bgcolor\":\"#E5ECF6\",\"polar\":{\"bgcolor\":\"#E5ECF6\",\"angularaxis\":{\"gridcolor\":\"white\",\"linecolor\":\"white\",\"ticks\":\"\"},\"radialaxis\":{\"gridcolor\":\"white\",\"linecolor\":\"white\",\"ticks\":\"\"}},\"ternary\":{\"bgcolor\":\"#E5ECF6\",\"aaxis\":{\"gridcolor\":\"white\",\"linecolor\":\"white\",\"ticks\":\"\"},\"baxis\":{\"gridcolor\":\"white\",\"linecolor\":\"white\",\"ticks\":\"\"},\"caxis\":{\"gridcolor\":\"white\",\"linecolor\":\"white\",\"ticks\":\"\"}},\"coloraxis\":{\"colorbar\":{\"outlinewidth\":0,\"ticks\":\"\"}},\"colorscale\":{\"sequential\":[[0.0,\"#0d0887\"],[0.1111111111111111,\"#46039f\"],[0.2222222222222222,\"#7201a8\"],[0.3333333333333333,\"#9c179e\"],[0.4444444444444444,\"#bd3786\"],[0.5555555555555556,\"#d8576b\"],[0.6666666666666666,\"#ed7953\"],[0.7777777777777778,\"#fb9f3a\"],[0.8888888888888888,\"#fdca26\"],[1.0,\"#f0f921\"]],\"sequentialminus\":[[0.0,\"#0d0887\"],[0.1111111111111111,\"#46039f\"],[0.2222222222222222,\"#7201a8\"],[0.3333333333333333,\"#9c179e\"],[0.4444444444444444,\"#bd3786\"],[0.5555555555555556,\"#d8576b\"],[0.6666666666666666,\"#ed7953\"],[0.7777777777777778,\"#fb9f3a\"],[0.8888888888888888,\"#fdca26\"],[1.0,\"#f0f921\"]],\"diverging\":[[0,\"#8e0152\"],[0.1,\"#c51b7d\"],[0.2,\"#de77ae\"],[0.3,\"#f1b6da\"],[0.4,\"#fde0ef\"],[0.5,\"#f7f7f7\"],[0.6,\"#e6f5d0\"],[0.7,\"#b8e186\"],[0.8,\"#7fbc41\"],[0.9,\"#4d9221\"],[1,\"#276419\"]]},\"xaxis\":{\"gridcolor\":\"white\",\"linecolor\":\"white\",\"ticks\":\"\",\"title\":{\"standoff\":15},\"zerolinecolor\":\"white\",\"automargin\":true,\"zerolinewidth\":2},\"yaxis\":{\"gridcolor\":\"white\",\"linecolor\":\"white\",\"ticks\":\"\",\"title\":{\"standoff\":15},\"zerolinecolor\":\"white\",\"automargin\":true,\"zerolinewidth\":2},\"scene\":{\"xaxis\":{\"backgroundcolor\":\"#E5ECF6\",\"gridcolor\":\"white\",\"linecolor\":\"white\",\"showbackground\":true,\"ticks\":\"\",\"zerolinecolor\":\"white\",\"gridwidth\":2},\"yaxis\":{\"backgroundcolor\":\"#E5ECF6\",\"gridcolor\":\"white\",\"linecolor\":\"white\",\"showbackground\":true,\"ticks\":\"\",\"zerolinecolor\":\"white\",\"gridwidth\":2},\"zaxis\":{\"backgroundcolor\":\"#E5ECF6\",\"gridcolor\":\"white\",\"linecolor\":\"white\",\"showbackground\":true,\"ticks\":\"\",\"zerolinecolor\":\"white\",\"gridwidth\":2}},\"shapedefaults\":{\"line\":{\"color\":\"#2a3f5f\"}},\"annotationdefaults\":{\"arrowcolor\":\"#2a3f5f\",\"arrowhead\":0,\"arrowwidth\":1},\"geo\":{\"bgcolor\":\"white\",\"landcolor\":\"#E5ECF6\",\"subunitcolor\":\"white\",\"showland\":true,\"showlakes\":true,\"lakecolor\":\"white\"},\"title\":{\"x\":0.05},\"mapbox\":{\"style\":\"light\"}}}},                        {\"responsive\": true}                    ).then(function(){\n",
              "                            \n",
              "var gd = document.getElementById('d619f3e4-b6d1-4987-b14f-b1ee9b6ab787');\n",
              "var x = new MutationObserver(function (mutations, observer) {{\n",
              "        var display = window.getComputedStyle(gd).display;\n",
              "        if (!display || display === 'none') {{\n",
              "            console.log([gd, 'removed!']);\n",
              "            Plotly.purge(gd);\n",
              "            observer.disconnect();\n",
              "        }}\n",
              "}});\n",
              "\n",
              "// Listen for the removal of the full notebook cells\n",
              "var notebookContainer = gd.closest('#notebook-container');\n",
              "if (notebookContainer) {{\n",
              "    x.observe(notebookContainer, {childList: true});\n",
              "}}\n",
              "\n",
              "// Listen for the clearing of the current output cell\n",
              "var outputEl = gd.closest('.output');\n",
              "if (outputEl) {{\n",
              "    x.observe(outputEl, {childList: true});\n",
              "}}\n",
              "\n",
              "                        })                };                            </script>        </div>\n",
              "</body>\n",
              "</html>"
            ]
          },
          "metadata": {}
        }
      ]
    }
  ]
}